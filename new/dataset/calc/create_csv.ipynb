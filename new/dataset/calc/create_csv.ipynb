{
 "cells": [
  {
   "cell_type": "code",
   "execution_count": 1,
   "metadata": {},
   "outputs": [],
   "source": [
    "import pandas as pd"
   ]
  },
  {
   "cell_type": "code",
   "execution_count": 2,
   "metadata": {},
   "outputs": [],
   "source": [
    "\n",
    "# Baca file Excel\n",
    "df = pd.read_excel(r'E:\\ai-power-converter-1\\new\\dataset\\calc\\capacitor_calc.xlsx')\n",
    "\n",
    "# Simpan sebagai file CSV\n",
    "df.to_csv('cap.csv', index=False)\n"
   ]
  },
  {
   "cell_type": "code",
   "execution_count": 3,
   "metadata": {},
   "outputs": [],
   "source": [
    "import pandas as pd\n",
    "import numpy as np\n",
    "\n",
    "# Baca data dari file CSV\n",
    "file_path = r'E:\\ai-power-converter-1\\new\\dataset\\lookup_inductor_new.csv'  # Ganti dengan path file CSV Anda\n",
    "df = pd.read_csv(file_path)\n",
    "\n",
    "# Menghitung volume berdasarkan dimensi yang diberikan\n",
    "df['Vol(mm^3)'] = np.pi * df['Ht(mm)'] * ((df['OD(mm)'] / 2) ** 2 - (df['ID(mm)'] / 2) ** 2)\n",
    "\n",
    "# Simpan DataFrame kembali ke file CSV\n",
    "output_file_path = r'E:\\ai-power-converter-1\\new\\dataset\\lookup_inductor_new_vol.csv'  # Ganti dengan path file output yang diinginkan\n",
    "df.to_csv(output_file_path, index=False)\n"
   ]
  },
  {
   "cell_type": "code",
   "execution_count": 9,
   "metadata": {},
   "outputs": [],
   "source": [
    "import pandas as pd\n",
    "\n",
    "# Membaca file CSV\n",
    "file_path = r'E:\\ai-power-converter-1\\new\\dataset\\lookup_capacitor_new.csv'\n",
    "df = pd.read_csv(file_path)\n",
    "\n",
    "# Mengalikan isi kolom \"Cap(uF)\" dengan 1e-6\n",
    "df[\"Cap(uF)\"] = df[\"Cap(uF)\"] * 1e-6\n",
    "df[\"Cap(uF)\"] = df[\"Cap(uF)\"].apply(lambda x: f\"{x:.3e}\")\n",
    "\n",
    "# Menyimpan hasil ke file baru\n",
    "output_path = r'E:\\ai-power-converter-1\\new\\dataset\\lookup_capacitor_new_scale.csv'\n",
    "df.to_csv(output_path, index=False)"
   ]
  },
  {
   "cell_type": "code",
   "execution_count": 10,
   "metadata": {},
   "outputs": [],
   "source": [
    "import pandas as pd\n",
    "\n",
    "# Membaca file CSV\n",
    "file_path = r'E:\\ai-power-converter-1\\new\\dataset\\lookup_inductor_new_vol.csv'\n",
    "df = pd.read_csv(file_path)\n",
    "\n",
    "# Mengalikan isi kolom \"Cap(uF)\" dengan 1e-6\n",
    "df[\"L(uH)\"] = df[\"L(uH)\"] * 1e-6\n",
    "df[\"L(uH)\"] = df[\"L(uH)\"].apply(lambda x: f\"{x:.3e}\")\n",
    "\n",
    "# Menyimpan hasil ke file baru\n",
    "output_path = r'E:\\ai-power-converter-1\\new\\dataset\\lookup_inductor_new_vol_scale.csv'\n",
    "df.to_csv(output_path, index=False)"
   ]
  }
 ],
 "metadata": {
  "kernelspec": {
   "display_name": "Python 3",
   "language": "python",
   "name": "python3"
  },
  "language_info": {
   "codemirror_mode": {
    "name": "ipython",
    "version": 3
   },
   "file_extension": ".py",
   "mimetype": "text/x-python",
   "name": "python",
   "nbconvert_exporter": "python",
   "pygments_lexer": "ipython3",
   "version": "3.11.6"
  }
 },
 "nbformat": 4,
 "nbformat_minor": 2
}
