{
 "cells": [
  {
   "cell_type": "code",
   "execution_count": 9,
   "metadata": {},
   "outputs": [],
   "source": [
    "import numpy as np\n",
    "import tensorflow as tf\n",
    "from tensorflow.keras.models import load_model\n",
    "import os"
   ]
  },
  {
   "cell_type": "markdown",
   "metadata": {},
   "source": [
    "# Initialization"
   ]
  },
  {
   "cell_type": "code",
   "execution_count": 11,
   "metadata": {},
   "outputs": [],
   "source": [
    "L_min, L_max = 30e-6, 2000e-6\n",
    "C_min, C_max = 20e-6, 1000e-6\n",
    "fsw_min, fsw_max = 20e3, 200e3\n",
    "t_dt_min, t_dt_max = 175.2e-9, 262.8e-9\n",
    "d_cycle_min, d_cycle_max = 0.2, 0.35\n",
    "\n",
    "\n",
    "# Path to the model directory\n",
    "model_dir = 'D:/Krishna/ai-power-converter/new/ml/model/'\n",
    "\n",
    "# List of model filenames\n",
    "model_filenames = [\n",
    "    'current_delta_current.h5',\n",
    "    'delta_voltage.h5',\n",
    "    'P_CAP_ESR.h5',\n",
    "    'P_COSS.h5',\n",
    "    'P_D.h5',\n",
    "    'P_G.h5',\n",
    "    'P_L_DCR.h5',\n",
    "    'P_ON_H_P_ON_L.h5',\n",
    "    'voltage.h5'\n",
    "]\n"
   ]
  },
  {
   "cell_type": "markdown",
   "metadata": {},
   "source": [
    "# Scaling"
   ]
  },
  {
   "cell_type": "code",
   "execution_count": 3,
   "metadata": {},
   "outputs": [],
   "source": [
    "def custom_scaling(X):\n",
    "    return np.array([(X[:, 0] - L_min) / (L_max - L_min), \n",
    "                     (X[:, 1] - C_min) / (C_max - C_min),\n",
    "                     (X[:, 2] - fsw_min) / (fsw_max - fsw_min),\n",
    "                     (X[:, 3] - t_dt_min) / (t_dt_max - t_dt_min),\n",
    "                     (X[:, 4] - d_cycle_min) / (d_cycle_max - d_cycle_min)]).T\n",
    "\n",
    "def inverse_custom_scaling(X_scaled):\n",
    "    X_inverse = np.empty_like(X_scaled)\n",
    "    X_inverse[:, 0] = X_scaled[:, 0] * (L_max - L_min) + L_min\n",
    "    X_inverse[:, 1] = X_scaled[:, 1] * (C_max - C_min) + C_min\n",
    "    X_inverse[:, 2] = X_scaled[:, 2] * (fsw_max - fsw_min) + fsw_min\n",
    "    X_inverse[:, 3] = X_scaled[:, 3] * (t_dt_max - t_dt_min) + t_dt_min\n",
    "    X_inverse[:, 4] = X_scaled[:, 4] * (d_cycle_max - d_cycle_min) + d_cycle_min\n",
    "    return X_inverse"
   ]
  },
  {
   "cell_type": "markdown",
   "metadata": {},
   "source": [
    "# Predict"
   ]
  },
  {
   "cell_type": "code",
   "execution_count": 18,
   "metadata": {},
   "outputs": [
    {
     "name": "stderr",
     "output_type": "stream",
     "text": [
      "WARNING:absl:Compiled the loaded model, but the compiled metrics have yet to be built. `model.compile_metrics` will be empty until you train or evaluate the model.\n"
     ]
    },
    {
     "name": "stdout",
     "output_type": "stream",
     "text": [
      "[[3.00000e-05 2.44021e-05 2.00000e+04 1.75000e-07 2.00000e-01]]\n",
      "[[ 0.          0.00449194  0.         -0.00228311  0.        ]]\n",
      "[[3.00000e-05 2.44021e-05 2.00000e+04 1.75000e-07 2.00000e-01]]\n",
      "\u001b[1m1/1\u001b[0m \u001b[32m━━━━━━━━━━━━━━━━━━━━\u001b[0m\u001b[37m\u001b[0m \u001b[1m0s\u001b[0m 36ms/step\n"
     ]
    },
    {
     "name": "stderr",
     "output_type": "stream",
     "text": [
      "WARNING:absl:Compiled the loaded model, but the compiled metrics have yet to be built. `model.compile_metrics` will be empty until you train or evaluate the model.\n"
     ]
    },
    {
     "name": "stdout",
     "output_type": "stream",
     "text": [
      "\u001b[1m1/1\u001b[0m \u001b[32m━━━━━━━━━━━━━━━━━━━━\u001b[0m\u001b[37m\u001b[0m \u001b[1m0s\u001b[0m 67ms/step\n"
     ]
    },
    {
     "name": "stderr",
     "output_type": "stream",
     "text": [
      "WARNING:absl:Compiled the loaded model, but the compiled metrics have yet to be built. `model.compile_metrics` will be empty until you train or evaluate the model.\n"
     ]
    },
    {
     "name": "stdout",
     "output_type": "stream",
     "text": [
      "\u001b[1m1/1\u001b[0m \u001b[32m━━━━━━━━━━━━━━━━━━━━\u001b[0m\u001b[37m\u001b[0m \u001b[1m0s\u001b[0m 96ms/step\n"
     ]
    },
    {
     "name": "stderr",
     "output_type": "stream",
     "text": [
      "WARNING:absl:Compiled the loaded model, but the compiled metrics have yet to be built. `model.compile_metrics` will be empty until you train or evaluate the model.\n"
     ]
    },
    {
     "name": "stdout",
     "output_type": "stream",
     "text": [
      "\u001b[1m1/1\u001b[0m \u001b[32m━━━━━━━━━━━━━━━━━━━━\u001b[0m\u001b[37m\u001b[0m \u001b[1m0s\u001b[0m 73ms/step\n"
     ]
    },
    {
     "name": "stderr",
     "output_type": "stream",
     "text": [
      "WARNING:absl:Compiled the loaded model, but the compiled metrics have yet to be built. `model.compile_metrics` will be empty until you train or evaluate the model.\n"
     ]
    },
    {
     "name": "stdout",
     "output_type": "stream",
     "text": [
      "\u001b[1m1/1\u001b[0m \u001b[32m━━━━━━━━━━━━━━━━━━━━\u001b[0m\u001b[37m\u001b[0m \u001b[1m0s\u001b[0m 96ms/step\n"
     ]
    },
    {
     "name": "stderr",
     "output_type": "stream",
     "text": [
      "WARNING:absl:Compiled the loaded model, but the compiled metrics have yet to be built. `model.compile_metrics` will be empty until you train or evaluate the model.\n"
     ]
    },
    {
     "name": "stdout",
     "output_type": "stream",
     "text": [
      "\u001b[1m1/1\u001b[0m \u001b[32m━━━━━━━━━━━━━━━━━━━━\u001b[0m\u001b[37m\u001b[0m \u001b[1m0s\u001b[0m 36ms/step\n"
     ]
    },
    {
     "name": "stderr",
     "output_type": "stream",
     "text": [
      "WARNING:absl:Compiled the loaded model, but the compiled metrics have yet to be built. `model.compile_metrics` will be empty until you train or evaluate the model.\n"
     ]
    },
    {
     "name": "stdout",
     "output_type": "stream",
     "text": [
      "\u001b[1m1/1\u001b[0m \u001b[32m━━━━━━━━━━━━━━━━━━━━\u001b[0m\u001b[37m\u001b[0m \u001b[1m0s\u001b[0m 33ms/step\n"
     ]
    },
    {
     "name": "stderr",
     "output_type": "stream",
     "text": [
      "WARNING:absl:Compiled the loaded model, but the compiled metrics have yet to be built. `model.compile_metrics` will be empty until you train or evaluate the model.\n"
     ]
    },
    {
     "name": "stdout",
     "output_type": "stream",
     "text": [
      "\u001b[1m1/1\u001b[0m \u001b[32m━━━━━━━━━━━━━━━━━━━━\u001b[0m\u001b[37m\u001b[0m \u001b[1m0s\u001b[0m 35ms/step\n"
     ]
    },
    {
     "name": "stderr",
     "output_type": "stream",
     "text": [
      "WARNING:absl:Compiled the loaded model, but the compiled metrics have yet to be built. `model.compile_metrics` will be empty until you train or evaluate the model.\n"
     ]
    },
    {
     "name": "stdout",
     "output_type": "stream",
     "text": [
      "\u001b[1m1/1\u001b[0m \u001b[32m━━━━━━━━━━━━━━━━━━━━\u001b[0m\u001b[37m\u001b[0m \u001b[1m0s\u001b[0m 36ms/step\n",
      "Prediction for current_delta_current.h5: [[0. 0.]]\n",
      "Prediction for delta_voltage.h5: [[0.]]\n",
      "Prediction for P_CAP_ESR.h5: [[29406.354]]\n",
      "Prediction for P_COSS.h5: [[29264.398]]\n",
      "Prediction for P_D.h5: [[11146.8125]]\n",
      "Prediction for P_G.h5: [[26372.006]]\n",
      "Prediction for P_L_DCR.h5: [[0.]]\n",
      "Prediction for P_ON_H_P_ON_L.h5: [[183498.9    38517.406]]\n",
      "Prediction for voltage.h5: [[0.]]\n"
     ]
    }
   ],
   "source": [
    "input_array = np.array([[0.00003, 2.44021e-05, 20000, 175e-09,0.2]])\n",
    "\n",
    "input_scaled = custom_scaling(input_array)\n",
    "input_array_inv = inverse_custom_scaling(input_scaled)\n",
    "\n",
    "print(input_array)\n",
    "print(input_scaled)\n",
    "print(input_array_inv)\n",
    "\n",
    "# Load and test each model\n",
    "models = {}\n",
    "predictions = {}\n",
    "\n",
    "for filename in model_filenames:\n",
    "    # Construct the full path to the model file\n",
    "    model_path = os.path.join(model_dir, filename)\n",
    "    \n",
    "    # Check if the file exists\n",
    "    if os.path.exists(model_path):\n",
    "        # Load the model\n",
    "        model = load_model(model_path)\n",
    "        models[filename] = model\n",
    "        \n",
    "        # Make a prediction\n",
    "        prediction = model.predict(input_array)\n",
    "        predictions[filename] = prediction\n",
    "    else:\n",
    "        print(f\"File not found: {model_path}\")\n",
    "\n",
    "# Print the predictions\n",
    "for filename, prediction in predictions.items():\n",
    "    print(f\"Prediction for {filename}: {prediction}\")"
   ]
  },
  {
   "cell_type": "code",
   "execution_count": 20,
   "metadata": {},
   "outputs": [
    {
     "name": "stdout",
     "output_type": "stream",
     "text": [
      "0.0\n",
      "0.0\n"
     ]
    }
   ],
   "source": [
    "print(175.2e-9-1.752e-07)\n",
    "min = 175.2e-9\n",
    "max = 262.8e-9\n",
    "# 175.2e-9, 262.8e-9\n",
    "\n",
    "print((min-min)/(max-min))\n",
    "# (X[:, 4] - d_cycle_min) / (d_cycle_max - d_cycle_min)"
   ]
  },
  {
   "cell_type": "markdown",
   "metadata": {},
   "source": [
    "average_current\tdelta_current\tdelta_current_percentage\taverage_voltage\tdelta_voltage\tdelta_voltage_percentage\tDCR\tESR\tP_ON_H\tP_ON_L\tP_COSS\tP_L_DCR\tP_D\tP_G\tP_CAP_ESR\n",
    "3.345516931\t10.35315758\t309.4636134\t2.529822269\t2.600716263\t102.802331\t2.7032544\t0.045655201\t0.003303416\t0.059374492\t0.0124416\t30.25613037\t0.008205884\t0.068\t0.407806989\n"
   ]
  },
  {
   "cell_type": "code",
   "execution_count": 23,
   "metadata": {},
   "outputs": [
    {
     "name": "stdout",
     "output_type": "stream",
     "text": [
      "[[0. 0. 0. 0. 0.]]\n"
     ]
    }
   ],
   "source": [
    "L_min, L_max = 30e-6, 2000e-6\n",
    "C_min, C_max = 20e-6, 1000e-6\n",
    "fsw_min, fsw_max = 20e3, 200e3\n",
    "t_dt_min, t_dt_max = 175.2e-9, 262.8e-9\n",
    "d_cycle_min, d_cycle_max = 0.2, 0.35\n",
    "\n",
    "def custom_scaling(X):\n",
    "    return np.array([\n",
    "        (X[:, 0] - L_min) / (L_max - L_min), \n",
    "        (X[:, 1] - C_min) / (C_max - C_min),\n",
    "        (X[:, 2] - fsw_min) / (fsw_max - fsw_min),\n",
    "        (X[:, 3] - t_dt_min) / (t_dt_max - t_dt_min),\n",
    "        (X[:, 4] - d_cycle_min) / (d_cycle_max - d_cycle_min)\n",
    "    ]).T\n",
    "\n",
    "# Input values provided\n",
    "input_array = np.array([[30e-6, 20e-6, 20000, 175.2e-09, 0.2]])\n",
    "\n",
    "# Perform the scaling\n",
    "scaled_array = custom_scaling(input_array)\n",
    "\n",
    "print(scaled_array)"
   ]
  },
  {
   "cell_type": "code",
   "execution_count": 26,
   "metadata": {},
   "outputs": [
    {
     "name": "stdout",
     "output_type": "stream",
     "text": [
      "Scaled array:\n",
      "[[0. 0. 0. 0. 0.]]\n"
     ]
    }
   ],
   "source": [
    "import numpy as np\n",
    "from sklearn.preprocessing import MinMaxScaler\n",
    "\n",
    "# Define the min and max values for each feature as arrays\n",
    "min_values = np.array([30e-6, 20e-6, 20e3, 175.2e-9, 0.2]).reshape(1, -1)\n",
    "max_values = np.array([2000e-6, 1000e-6, 200e3, 262.8e-9, 0.35]).reshape(1, -1)\n",
    "\n",
    "# Create the scaler\n",
    "scaler = MinMaxScaler()\n",
    "\n",
    "# Fit the scaler with min and max values\n",
    "scaler.fit(np.vstack([min_values, max_values]))\n",
    "\n",
    "# Define input array\n",
    "input_array = np.array([[30e-6, 20e-6, 20000, 1.752e-07, 0.2]])\n",
    "\n",
    "# Scale the input array\n",
    "scaled_array = scaler.transform(input_array)\n",
    "\n",
    "print(f\"Scaled array:\\n{scaled_array}\")\n"
   ]
  }
 ],
 "metadata": {
  "kernelspec": {
   "display_name": "Python 3",
   "language": "python",
   "name": "python3"
  },
  "language_info": {
   "codemirror_mode": {
    "name": "ipython",
    "version": 3
   },
   "file_extension": ".py",
   "mimetype": "text/x-python",
   "name": "python",
   "nbconvert_exporter": "python",
   "pygments_lexer": "ipython3",
   "version": "3.11.9"
  }
 },
 "nbformat": 4,
 "nbformat_minor": 2
}
