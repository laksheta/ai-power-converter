{
 "cells": [
  {
   "cell_type": "code",
   "execution_count": 3,
   "metadata": {},
   "outputs": [],
   "source": [
    "import numpy as np\n",
    "import tensorflow as tf\n",
    "from tensorflow.keras.models import load_model\n",
    "import os"
   ]
  },
  {
   "cell_type": "code",
   "execution_count": 1,
   "metadata": {},
   "outputs": [
    {
     "name": "stdout",
     "output_type": "stream",
     "text": [
      "2.16.1\n"
     ]
    }
   ],
   "source": [
    "import tensorflow as tf\n",
    "print(tf.__version__)"
   ]
  },
  {
   "cell_type": "markdown",
   "metadata": {},
   "source": [
    "# Initialization"
   ]
  },
  {
   "cell_type": "code",
   "execution_count": 9,
   "metadata": {},
   "outputs": [],
   "source": [
    "L_min, L_max = 30e-6, 2000e-6\n",
    "C_min, C_max = 20e-6, 1000e-6\n",
    "fsw_min, fsw_max = 20e3, 200e3\n",
    "t_dt_min, t_dt_max = 175.2e-9, 262.8e-9\n",
    "d_cycle_min, d_cycle_max = 0.2, 0.35\n",
    "\n",
    "# Array of min and max values for features\n",
    "min_values = np.array([L_min, C_min, fsw_min, t_dt_min, d_cycle_min])\n",
    "max_values = np.array([L_max, C_max, fsw_max, t_dt_max, d_cycle_max])\n",
    "\n",
    "\n",
    "# Path to the model directory\n",
    "model_dir = 'D:/Krishna/ai-power-converter/new/ml/model/use_this/'\n",
    "\n",
    "# List of model filenames\n",
    "model_filenames = [\n",
    "    'current_delta_current_1.h5',\n",
    "    'P_CAP_ESR_1.h5',\n",
    "    'P_COSS_1.h5',\n",
    "    'P_D.h5',\n",
    "    'P_G_1.h5',\n",
    "    'P_L_DCR_1.h5',\n",
    "    'P_ON_H_P_ON_L.h5',\n",
    "    'voltage.h5'\n",
    "]\n"
   ]
  },
  {
   "cell_type": "markdown",
   "metadata": {},
   "source": [
    "# Scaling"
   ]
  },
  {
   "cell_type": "code",
   "execution_count": 5,
   "metadata": {},
   "outputs": [],
   "source": [
    "def custom_scaling(X):\n",
    "    return np.array([(X[:, 0] - L_min) / (L_max - L_min), \n",
    "                     (X[:, 1] - C_min) / (C_max - C_min),\n",
    "                     (X[:, 2] - fsw_min) / (fsw_max - fsw_min),\n",
    "                     (X[:, 3] - t_dt_min) / (t_dt_max - t_dt_min),\n",
    "                     (X[:, 4] - d_cycle_min) / (d_cycle_max - d_cycle_min)]).T\n",
    "\n",
    "def inverse_custom_scaling(X_scaled):\n",
    "    X_inverse = np.empty_like(X_scaled)\n",
    "    X_inverse[:, 0] = X_scaled[:, 0] * (L_max - L_min) + L_min\n",
    "    X_inverse[:, 1] = X_scaled[:, 1] * (C_max - C_min) + C_min\n",
    "    X_inverse[:, 2] = X_scaled[:, 2] * (fsw_max - fsw_min) + fsw_min\n",
    "    X_inverse[:, 3] = X_scaled[:, 3] * (t_dt_max - t_dt_min) + t_dt_min\n",
    "    X_inverse[:, 4] = X_scaled[:, 4] * (d_cycle_max - d_cycle_min) + d_cycle_min\n",
    "    return X_inverse\n",
    "\n",
    "def custom_scaling_1(X):\n",
    "    # Clip X to ensure values are within the provided min and max values\n",
    "    X_clipped = np.clip(X, min_values, max_values)\n",
    "    return (X_clipped - min_values) / (max_values - min_values)"
   ]
  },
  {
   "cell_type": "markdown",
   "metadata": {},
   "source": [
    "# Predict"
   ]
  },
  {
   "cell_type": "code",
   "execution_count": 12,
   "metadata": {},
   "outputs": [
    {
     "name": "stderr",
     "output_type": "stream",
     "text": [
      "WARNING:absl:Compiled the loaded model, but the compiled metrics have yet to be built. `model.compile_metrics` will be empty until you train or evaluate the model.\n"
     ]
    },
    {
     "name": "stderr",
     "output_type": "stream",
     "text": [
      "WARNING:absl:Compiled the loaded model, but the compiled metrics have yet to be built. `model.compile_metrics` will be empty until you train or evaluate the model.\n",
      "WARNING:absl:Compiled the loaded model, but the compiled metrics have yet to be built. `model.compile_metrics` will be empty until you train or evaluate the model.\n",
      "WARNING:absl:Compiled the loaded model, but the compiled metrics have yet to be built. `model.compile_metrics` will be empty until you train or evaluate the model.\n",
      "WARNING:absl:Compiled the loaded model, but the compiled metrics have yet to be built. `model.compile_metrics` will be empty until you train or evaluate the model.\n",
      "WARNING:absl:Compiled the loaded model, but the compiled metrics have yet to be built. `model.compile_metrics` will be empty until you train or evaluate the model.\n",
      "WARNING:absl:Compiled the loaded model, but the compiled metrics have yet to be built. `model.compile_metrics` will be empty until you train or evaluate the model.\n",
      "WARNING:absl:Compiled the loaded model, but the compiled metrics have yet to be built. `model.compile_metrics` will be empty until you train or evaluate the model.\n"
     ]
    },
    {
     "name": "stdout",
     "output_type": "stream",
     "text": [
      "\u001b[1m1/1\u001b[0m \u001b[32m━━━━━━━━━━━━━━━━━━━━\u001b[0m\u001b[37m\u001b[0m \u001b[1m0s\u001b[0m 30ms/step\n",
      "\u001b[1m1/1\u001b[0m \u001b[32m━━━━━━━━━━━━━━━━━━━━\u001b[0m\u001b[37m\u001b[0m \u001b[1m0s\u001b[0m 51ms/step\n",
      "\u001b[1m1/1\u001b[0m \u001b[32m━━━━━━━━━━━━━━━━━━━━\u001b[0m\u001b[37m\u001b[0m \u001b[1m0s\u001b[0m 41ms/step\n",
      "\u001b[1m1/1\u001b[0m \u001b[32m━━━━━━━━━━━━━━━━━━━━\u001b[0m\u001b[37m\u001b[0m \u001b[1m0s\u001b[0m 70ms/step\n",
      "\u001b[1m1/1\u001b[0m \u001b[32m━━━━━━━━━━━━━━━━━━━━\u001b[0m\u001b[37m\u001b[0m \u001b[1m0s\u001b[0m 29ms/step\n",
      "\u001b[1m1/1\u001b[0m \u001b[32m━━━━━━━━━━━━━━━━━━━━\u001b[0m\u001b[37m\u001b[0m \u001b[1m0s\u001b[0m 30ms/step\n",
      "\u001b[1m1/1\u001b[0m \u001b[32m━━━━━━━━━━━━━━━━━━━━\u001b[0m\u001b[37m\u001b[0m \u001b[1m0s\u001b[0m 30ms/step\n",
      "\u001b[1m1/1\u001b[0m \u001b[32m━━━━━━━━━━━━━━━━━━━━\u001b[0m\u001b[37m\u001b[0m \u001b[1m0s\u001b[0m 32ms/step\n",
      "Predictions from model Current and Delta Current:\n",
      "[[3.0896125 3.401791 ]\n",
      " [3.5731103 0.7892138]]\n",
      "Predictions from model Capacitor Loss (P_cap_esr):\n",
      "[[0.17061475]\n",
      " [0.35239658]]\n",
      "Predictions from model Output Capacitance Loss (P_coss):\n",
      "[[0.03557235]\n",
      " [0.06892209]]\n",
      "Predictions from model Dead Time Loss (P_d):\n",
      "[[0.02238342]\n",
      " [0.04906586]]\n",
      "Predictions from model Gate Charge Loss (P_g):\n",
      "[[0.17953405]\n",
      " [0.34830704]]\n",
      "Predictions from model Inductor Conduction Loss (P_L_dcr):\n",
      "[[26.419132]\n",
      " [34.71471 ]]\n",
      "Predictions from model Conduction Loss (P_on_h, P_on_l):\n",
      "[[0.00365901 0.05053134]\n",
      " [0.00552162 0.06611356]]\n",
      "Predictions from model Voltage:\n",
      "[[3.0978343]\n",
      " [3.57976  ]]\n"
     ]
    }
   ],
   "source": [
    "\n",
    "# Load the models\n",
    "models = {}\n",
    "for filename in model_filenames:\n",
    "    model_path = os.path.join(model_dir, filename)\n",
    "    models[filename] = tf.keras.models.load_model(model_path)\n",
    "\n",
    "# Example input data\n",
    "input_data = np.array([\n",
    "    [50e-6, 50e-6, 50e3, 200e-9, 0.25],  # Example data point 1\n",
    "    [100e-6, 100e-6, 100e3, 220e-9, 0.3]  # Example data point 2\n",
    "])\n",
    "\n",
    "# Scale the input data\n",
    "scaled_input_data = custom_scaling_1(input_data)\n",
    "\n",
    "# Make predictions using the models\n",
    "predictions = {}\n",
    "for filename, model in models.items():\n",
    "    predictions[filename] = model.predict(scaled_input_data)\n",
    "\n",
    "# Print the predictions with descriptive names\n",
    "descriptive_names = {\n",
    "    'current_delta_current_1.h5': 'Current and Delta Current',\n",
    "    'P_CAP_ESR_1.h5': 'Capacitor Loss (P_cap_esr)',\n",
    "    'P_COSS_1.h5': 'Output Capacitance Loss (P_coss)',\n",
    "    'P_D.h5': 'Dead Time Loss (P_d)',\n",
    "    'P_G_1.h5': 'Gate Charge Loss (P_g)',\n",
    "    'P_L_DCR_1.h5': 'Inductor Conduction Loss (P_L_dcr)',\n",
    "    'P_ON_H_P_ON_L.h5': 'Conduction Loss (P_on_h, P_on_l)',\n",
    "    'voltage.h5': 'Voltage'\n",
    "}\n",
    "\n",
    "for filename, prediction in predictions.items():\n",
    "    print(f\"Predictions from model {descriptive_names[filename]}:\")\n",
    "    print(prediction)\n"
   ]
  }
 ],
 "metadata": {
  "kernelspec": {
   "display_name": "Python 3",
   "language": "python",
   "name": "python3"
  },
  "language_info": {
   "codemirror_mode": {
    "name": "ipython",
    "version": 3
   },
   "file_extension": ".py",
   "mimetype": "text/x-python",
   "name": "python",
   "nbconvert_exporter": "python",
   "pygments_lexer": "ipython3",
   "version": "3.11.9"
  }
 },
 "nbformat": 4,
 "nbformat_minor": 2
}
