{
 "cells": [
  {
   "cell_type": "markdown",
   "metadata": {},
   "source": [
    "# Spesifikasi"
   ]
  },
  {
   "cell_type": "markdown",
   "metadata": {},
   "source": [
    "- V<sub>in</sub> = 48V\n",
    "- V<sub>out</sub> = 12V\n",
    "- P<sub>o</sub> = 100W\n",
    "- &#916;V<sub>o</sub> &#8804; 1%\n",
    "- &#916;I<sub>L</sub> &#8804; 10%\n",
    "- f<sub>sw</sub> = 20e3\n",
    "- Mosfet: IRFB4310PbF, Infineon"
   ]
  },
  {
   "cell_type": "markdown",
   "metadata": {},
   "source": [
    "# Plecs"
   ]
  },
  {
   "cell_type": "code",
   "execution_count": 1,
   "metadata": {},
   "outputs": [],
   "source": [
    "import xmlrpc.client as xml\n",
    "import os\n",
    "import numpy as np\n",
    "import itertools\n",
    "import csv"
   ]
  },
  {
   "cell_type": "code",
   "execution_count": 2,
   "metadata": {},
   "outputs": [],
   "source": [
    "model = 'buck'\n",
    "file_type = '.plecs'\n",
    "V_in = 48\n",
    "V_out = 12\n",
    "f_sw = 20e3"
   ]
  },
  {
   "cell_type": "code",
   "execution_count": 3,
   "metadata": {},
   "outputs": [],
   "source": [
    "plecs = xml.Server(\"http://localhost:1080/RPC2\").plecs"
   ]
  },
  {
   "cell_type": "code",
   "execution_count": 4,
   "metadata": {},
   "outputs": [
    {
     "data": {
      "text/plain": [
       "0"
      ]
     },
     "execution_count": 4,
     "metadata": {},
     "output_type": "execute_result"
    }
   ],
   "source": [
    "plecs.load(r\"E:\\ai-power-converter\\buck.plecs\")"
   ]
  },
  {
   "cell_type": "code",
   "execution_count": 5,
   "metadata": {},
   "outputs": [
    {
     "data": {
      "text/plain": [
       "{'CommentStatus': 'Active',\n",
       " 'L': '0.001015',\n",
       " 'Name': 'L1',\n",
       " 'Type': 'Inductor',\n",
       " 'i_init': '0'}"
      ]
     },
     "execution_count": 5,
     "metadata": {},
     "output_type": "execute_result"
    }
   ],
   "source": [
    "plecs.get(model+'/L1')"
   ]
  },
  {
   "cell_type": "code",
   "execution_count": 6,
   "metadata": {},
   "outputs": [
    {
     "data": {
      "text/plain": [
       "{'C': '3e-05',\n",
       " 'CommentStatus': 'Active',\n",
       " 'Name': 'C',\n",
       " 'Type': 'Capacitor',\n",
       " 'v_init': '0'}"
      ]
     },
     "execution_count": 6,
     "metadata": {},
     "output_type": "execute_result"
    }
   ],
   "source": [
    "plecs.get(model+'/C')"
   ]
  },
  {
   "cell_type": "code",
   "execution_count": 7,
   "metadata": {},
   "outputs": [
    {
     "data": {
      "text/plain": [
       "{'CommentStatus': 'Active',\n",
       " 'Name': 'Symmetrical PWM1',\n",
       " 'Type': 'Subsystem',\n",
       " 'carrier_limits': '[0 1]',\n",
       " 'carrier_phaseshift': '0',\n",
       " 'fc': '200000',\n",
       " 'output_values': '[-1 1]',\n",
       " 'sampling': 'Natural (carrier starts at center)'}"
      ]
     },
     "execution_count": 7,
     "metadata": {},
     "output_type": "execute_result"
    }
   ],
   "source": [
    "plecs.get(model+'/Symmetrical PWM1')"
   ]
  },
  {
   "cell_type": "code",
   "execution_count": 8,
   "metadata": {},
   "outputs": [
    {
     "data": {
      "text/plain": [
       "{'CommentStatus': 'Active', 'Name': 'RL', 'R': '0.443394', 'Type': 'Resistor'}"
      ]
     },
     "execution_count": 8,
     "metadata": {},
     "output_type": "execute_result"
    }
   ],
   "source": [
    "plecs.get(model+'/RL')"
   ]
  },
  {
   "cell_type": "code",
   "execution_count": 9,
   "metadata": {},
   "outputs": [
    {
     "data": {
      "text/plain": [
       "{'CommentStatus': 'Active',\n",
       " 'Name': 'ESR',\n",
       " 'R': '0.0037136153388108916',\n",
       " 'Type': 'Resistor'}"
      ]
     },
     "execution_count": 9,
     "metadata": {},
     "output_type": "execute_result"
    }
   ],
   "source": [
    "plecs.get(model+'/ESR')"
   ]
  },
  {
   "cell_type": "code",
   "execution_count": 10,
   "metadata": {},
   "outputs": [
    {
     "data": {
      "text/plain": [
       "{'CommentStatus': 'Active',\n",
       " 'L': '1.463e-06',\n",
       " 'Name': 'ESL',\n",
       " 'Type': 'Inductor',\n",
       " 'i_init': '0'}"
      ]
     },
     "execution_count": 10,
     "metadata": {},
     "output_type": "execute_result"
    }
   ],
   "source": [
    "plecs.get(model+'/ESL')"
   ]
  },
  {
   "cell_type": "code",
   "execution_count": 11,
   "metadata": {},
   "outputs": [
    {
     "data": {
      "text/plain": [
       "{'CommentStatus': 'Active',\n",
       " 'Configuration': 'on',\n",
       " 'Name': 'Deadtime',\n",
       " 'Type': 'ConfigurableSubsystem',\n",
       " 'td': '1e-06'}"
      ]
     },
     "execution_count": 11,
     "metadata": {},
     "output_type": "execute_result"
    }
   ],
   "source": [
    "plecs.get(model+'/Deadtime')"
   ]
  },
  {
   "cell_type": "code",
   "execution_count": 12,
   "metadata": {},
   "outputs": [
    {
     "name": "stdout",
     "output_type": "stream",
     "text": [
      "Chosen L values: [3.e-05 2.e-03]\n",
      "Chosen C values: [3.e-05 2.e-04]\n",
      "Chosen dead time values: [1.78e-07 1.00e-06]\n",
      "Chosen fsw values: [ 20000 200000]\n",
      "[(3e-05, 3e-05, 20000, 1.78e-07), (3e-05, 3e-05, 20000, 1e-06), (3e-05, 3e-05, 200000, 1.78e-07), (3e-05, 3e-05, 200000, 1e-06), (3e-05, 0.0002, 20000, 1.78e-07), (3e-05, 0.0002, 20000, 1e-06), (3e-05, 0.0002, 200000, 1.78e-07), (3e-05, 0.0002, 200000, 1e-06), (0.002, 3e-05, 20000, 1.78e-07), (0.002, 3e-05, 20000, 1e-06), (0.002, 3e-05, 200000, 1.78e-07), (0.002, 3e-05, 200000, 1e-06), (0.002, 0.0002, 20000, 1.78e-07), (0.002, 0.0002, 20000, 1e-06), (0.002, 0.0002, 200000, 1.78e-07), (0.002, 0.0002, 200000, 1e-06)]\n",
      "\n",
      "Chosen values and simulation results:\n"
     ]
    }
   ],
   "source": [
    "V_in = 48\n",
    "V_out = 12\n",
    "R_on = 5.6\n",
    "t_rise = 110e-9\n",
    "t_fall = 78e-9\n",
    "diode_voltage = 0.5\n",
    "\n",
    "L_range = (30e-6, 2000e-6)  # Range for L\n",
    "C_range = (30e-6, 200e-6)   # Range for C\n",
    "t_dt_range = (0.178e-6, 1e-6) # Range for dead time\n",
    "# L = [30e-6, 2000e-6]  \n",
    "# C = [20e-6, 1000e-6]\n",
    "fsw_range = (20e3, 200e3)    # Range for fsw\n",
    "num_values = 2          # Number of values for each parameter\n",
    "\n",
    "# Borders for R_L\n",
    "border_values = [\n",
    "    (144e-6, 0.079576),\n",
    "    (509e-6, 0.179228),\n",
    "    (1003e-6, 0.253239),\n",
    "    (2519e-6, 0.443394)\n",
    "]\n",
    "\n",
    "# Constants for ESL calculation\n",
    "K_esl = 4.389e-11  # Adjust as needed\n",
    "tan_delta = 0.14\n",
    "\n",
    "# # Create arrays of discrete L, C, and fsw values within the specified ranges\n",
    "# L_values = np.linspace(L_range[0], L_range[1], num=num_values)\n",
    "# C_values = np.linspace(C_range[0], C_range[1], num=num_values)\n",
    "# Create arrays of discrete L and C values within the specified ranges with increments of 1e-6\n",
    "L_values = np.linspace(L_range[0], L_range[1], num=num_values)\n",
    "C_values = np.linspace(C_range[0], C_range[1], num=num_values)\n",
    "t_dt_values = np.linspace(t_dt_range[0], t_dt_range[1], num=num_values)\n",
    "\n",
    "\n",
    "# Round the values to the desired number of decimal places\n",
    "L_values = np.around(L_values, decimals=6)\n",
    "C_values = np.around(C_values, decimals=6)\n",
    "t_dt_values = np.around(t_dt_values, decimals=9)\n",
    "\n",
    "fsw_values = np.linspace(fsw_range[0], fsw_range[1], num=num_values, dtype=int)\n",
    "\n",
    "# Initialize arrays to store results\n",
    "average_currents = []\n",
    "delta_currents = []\n",
    "delta_currents_percentage = []\n",
    "\n",
    "# Open a CSV file for writing\n",
    "csv_file_path = 'simulation_results_try.csv'\n",
    "\n",
    "# Define the header for the CSV file\n",
    "csv_header = ['No','L', 'C','fsw', 't_dt', 'delta_current', 'delta_voltage', 'Pl_s1', 'Pl_s2' ,'Pl_C', 'Pl_L_Cu', 'P_D']\n",
    "\n",
    "# Initialize a list to store the data for each simulation\n",
    "csv_data = []\n",
    "\n",
    "# Print the chosen values\n",
    "print(\"Chosen L values:\", L_values)\n",
    "print(\"Chosen C values:\", C_values)\n",
    "print(\"Chosen dead time values:\", t_dt_values)\n",
    "print(\"Chosen fsw values:\", fsw_values)\n",
    "\n",
    "# Generate all combinations of L, C, and fsw\n",
    "combinations = list(itertools.product(L_values, C_values, fsw_values, t_dt_values))\n",
    "print(combinations)\n",
    "# Display the chosen values and simulate\n",
    "print(\"\\nChosen values and simulation results:\")"
   ]
  },
  {
   "cell_type": "markdown",
   "metadata": {},
   "source": [
    "# Functions"
   ]
  },
  {
   "cell_type": "markdown",
   "metadata": {},
   "source": [
    "## Write to CSV"
   ]
  },
  {
   "cell_type": "code",
   "execution_count": 13,
   "metadata": {},
   "outputs": [],
   "source": [
    "def write_to_csv(file_path, header, data):\n",
    "    with open(file_path, 'w', newline='') as csv_file:\n",
    "        csv_writer = csv.writer(csv_file)\n",
    "        csv_writer.writerow(header)\n",
    "        csv_writer.writerows(data)"
   ]
  },
  {
   "cell_type": "markdown",
   "metadata": {},
   "source": [
    "## Ripples"
   ]
  },
  {
   "cell_type": "markdown",
   "metadata": {},
   "source": [
    "### Current\n",
    "- Average\n",
    "- &Delta;I<sub>L</sub>%"
   ]
  },
  {
   "cell_type": "code",
   "execution_count": 14,
   "metadata": {},
   "outputs": [],
   "source": [
    "def calculate_current(times, current, start_time, end_time):\n",
    "    # Convert 'times' to a NumPy array\n",
    "    times = np.array(times)\n",
    "\n",
    "    # Find the indices corresponding to the time range\n",
    "    start_index = np.argmax(times >= start_time)\n",
    "    end_index = np.argmax(times >= end_time)\n",
    "\n",
    "    # Extract the current values in the specified time range\n",
    "    current_range = current[start_index:end_index]\n",
    "\n",
    "    # Calculate the average current value\n",
    "    average_current = np.mean(current_range)\n",
    "\n",
    "    # Calculate the difference between the highest and lowest current values\n",
    "    delta_current = np.max(current_range) - np.min(current_range)\n",
    "\n",
    "    # print(np.max(current_range))\n",
    "    # print(np.min(current_range))\n",
    "    delta_current_percentage = delta_current/average_current *100\n",
    "\n",
    "    return average_current, delta_current, delta_current_percentage"
   ]
  },
  {
   "cell_type": "markdown",
   "metadata": {},
   "source": [
    "### &Delta;V<sub>O</sub>%"
   ]
  },
  {
   "cell_type": "code",
   "execution_count": 15,
   "metadata": {},
   "outputs": [],
   "source": [
    "def calculate_voltage(times, voltage, start_time, end_time):\n",
    "    # Convert 'times' to a NumPy array\n",
    "    times = np.array(times)\n",
    "\n",
    "    # Find the indices corresponding to the time range\n",
    "    start_index = np.argmax(times >= start_time)\n",
    "    end_index = np.argmax(times >= end_time)\n",
    "\n",
    "    # Extract the voltage values in the specified time range\n",
    "    voltage_range = voltage[start_index:end_index]\n",
    "\n",
    "    # Calculate the average voltage value\n",
    "    average_voltage = np.mean(voltage_range)\n",
    "\n",
    "    # Calculate the difference between the highest and lowest voltage values\n",
    "    delta_voltage = np.max(voltage_range) - np.min(voltage_range)\n",
    "\n",
    "    print('Voltage:')\n",
    "    print(\"\\nmax:\", np.max(voltage_range))\n",
    "    print(\"\\nmin:\", np.min(voltage_range))\n",
    "    print(\"\\ndelta:\",delta_voltage)\n",
    "    print(\"\\naverage:\",average_voltage)\n",
    "\n",
    "    delta_voltage_percentage = delta_voltage/average_voltage * 100\n",
    "\n",
    "    return average_voltage, delta_voltage, delta_voltage_percentage\n"
   ]
  },
  {
   "cell_type": "markdown",
   "metadata": {},
   "source": [
    "## Switching Losses\n",
    "- Conduction Loss\n",
    "    - R<sub>DS(on)</sub> = R<sub>ON-H</sub> = R<sub>ON-L</sub> = 5.6k&Omega; \n",
    "    - High Side\n",
    "        - P<sub>ON-H</sub> = I<sub>OUT</sub> / 2 &times; R<sub>ON-H</sub> &times; V<sub>OUT</sub> / V<sub>IN</sub> [W]\n",
    "    - Low Side\n",
    "        - P<sub>ON-L</sub> = I<sub>OUT</sub> / 2 &times; R<sub>ON-L</sub> &times; (1 - V<sub>OUT</sub> / V<sub>IN</sub>) [W]\n",
    "- Switching Losses\n",
    "    - t<sub>rise</sub> = 110 ns  \n",
    "    - t<sub>fall</sub> = 78 ns\n",
    "    - High Side\n",
    "        - P<sub>SW-H</sub> = 1/2 &times; V<sub>IN</sub> &times; I<sub>OUT</sub> &times; (t<sub>rise-H</sub> + t<sub>fall-H</sub>) &times; f<sub>SW</sub>\n",
    "    - Low Side\n",
    "        - P<sub>SW-L</sub> = 1/2 &times; V<sub>D</sub> &times; I<sub>OUT</sub> &times; (t<sub>rise-L</sub> + t<sub>fall-L</sub>) &times; f<sub>SW</sub>\n",
    "\n",
    "\n",
    "\n",
    "<strong>Switching Losses<strong> = P<sub>ON-H</sub> + P<sub>ON-L</sub> + P<sub>SW-H</sub> + P<sub>SW-L</sub>"
   ]
  },
  {
   "cell_type": "code",
   "execution_count": 16,
   "metadata": {},
   "outputs": [],
   "source": [
    "def calculate_switching_losses(average_current, V_out, V_in, R_on, t_rise, t_fall, f_sw):\n",
    "    # Calculate power losses during ON state (High and Low)\n",
    "    P_ON_H = average_current / 2 * R_on * V_out / V_in\n",
    "    P_ON_L = average_current / 2 * R_on * V_out / V_in\n",
    "\n",
    "    # Calculate power losses during switching (High and Low)\n",
    "    P_SW_H = 0.5 * V_in * average_current * (t_rise + t_fall) * f_sw\n",
    "    P_SW_L = 0.5 * V_in * average_current * (t_rise + t_fall) * f_sw\n",
    "\n",
    "    # High Side\n",
    "    Pl_s1 = P_ON_H + P_SW_H\n",
    "\n",
    "    #Low Side\n",
    "    Pl_s2 = P_ON_L + P_SW_L\n",
    "\n",
    "    return Pl_s1, Pl_s2\n"
   ]
  },
  {
   "cell_type": "markdown",
   "metadata": {},
   "source": [
    "## Capacitor Loss\n",
    "- P<sub>CAP(ESR)</sub> = I<sub>CAP(RMS)</sub><sup>2</sup>  &#x00D7; ESR [W]\n",
    "- ESR = tan(&#x03B4;) / 2&pi;f<sub>SW</sub>C)\n",
    "    - Dengan 25 V Nippon KZE series: tan &#x03B4; = 0.14\n",
    "- ESL = 1 / (4π² SRF² C)\n",
    "    - Assume SRF = 100kHz\n",
    "- Input Capacitor\n",
    "    - I<sub>CIN(RMS)</sub> = I<sub>OUT</sub> &times; &radic;(V<sub>IN</sub> - V<sub>OUT</sub>) &times; V<sub>OUT</sub> / V<sub>IN</sub> [A]\n",
    "- Output Capacitor\n",
    "    - I<sub>COUT(RMS)</sub> = &Delta;I<sub>L</sub> / (2&radic;3) [A]\n",
    "    - &Delta;I<sub>L</sub> = (V<sub>IN</sub> - V<sub>OUT</sub>) / (f<sub>SW</sub> &times; L) &times; V<sub>OUT</sub> / V<sub>IN</sub> [A]\n",
    "\n",
    "<strong>Capacitor Losses<strong> = P<sub>cap_in</sub> + P<sub>cap_out</sub>"
   ]
  },
  {
   "cell_type": "code",
   "execution_count": 17,
   "metadata": {},
   "outputs": [],
   "source": [
    "def calculate_capacitor_losses(average_current, V_in, V_out, f_sw, L, ESR):\n",
    "    I_cin = average_current * np.sqrt(V_in - V_out) * V_out / V_in\n",
    "    I_L = ((V_in - V_out) / (f_sw * L)) * (V_out / V_in)\n",
    "\n",
    "    I_cout = I_L / (2 * np.sqrt(3))\n",
    "    P_cap_in = I_cin**2 * ESR\n",
    "    P_cap_out = I_cout**2 * ESR\n",
    "\n",
    "    Pl_C = P_cap_in + P_cap_out\n",
    "\n",
    "    return Pl_C\n"
   ]
  },
  {
   "cell_type": "markdown",
   "metadata": {},
   "source": [
    "## Inductor Loss\n",
    "- Inductor Copper Loss\n",
    "    - P<sub>Copper, L</sub> = I<sub>RMS</sub><sup>2</sup> &middot; R<sub>L</sub>\n",
    "<br>\n",
    "    - I<sub>RMS</sub> = &radic;(I<sub>AVG</sub><sup>2</sup> + <sup>1</sup>&frasl;<sub>12</sub> &Delta;I<sub>L</sub><sup>2</sup>)"
   ]
  },
  {
   "cell_type": "code",
   "execution_count": 18,
   "metadata": {},
   "outputs": [],
   "source": [
    "def calculate_inductor_copper_loss(average_current, delta_current, R_L):\n",
    "    I_rms = np.sqrt(average_current**2 + 1/12 * delta_current**2)\n",
    "    Pl_L_Cu = I_rms**2 * R_L\n",
    "\n",
    "    return Pl_L_Cu"
   ]
  },
  {
   "cell_type": "markdown",
   "metadata": {},
   "source": [
    "## Dead time losses"
   ]
  },
  {
   "cell_type": "markdown",
   "metadata": {},
   "source": [
    "- t<sub>d(on)</sub> = 26 nS\n",
    "- t<sub>d(off)</sub> = 68 nS\n",
    "- t<sub>r</sub> = 110 nS\n",
    "- t<sub>f</sub> = 78 nS\n",
    "- Safety factor = 20%\n",
    "- V<sub>D</sub> = 0.5V\n",
    "\n",
    "<strong>t<sub>dt</sub><strong> = (t<sub>r</sub> + t<sub>d(off)</sub>) = 178 nS\n",
    "\n",
    "<strong>t<sub>dt</sub><strong> = t<sub>Dr</sub> = t<sub>Df</sub>   \n",
    "\n",
    "<strong>P<sub>D</sub></strong> = V<sub>D</sub> × I<sub>out</sub> × (t<sub>Dr</sub> + t<sub>Df</sub>) × f<sub>sw</sub>\n"
   ]
  },
  {
   "cell_type": "code",
   "execution_count": 19,
   "metadata": {},
   "outputs": [],
   "source": [
    "def calculate_dead_time_loss(average_current, f_sw, t_dt):\n",
    "    P_D = diode_voltage * average_current * 2 * t_dt * f_sw\n",
    "\n",
    "    return P_D"
   ]
  },
  {
   "cell_type": "markdown",
   "metadata": {},
   "source": [
    "# Single"
   ]
  },
  {
   "cell_type": "code",
   "execution_count": 31,
   "metadata": {},
   "outputs": [
    {
     "name": "stdout",
     "output_type": "stream",
     "text": [
      "Voltage:\n",
      "\n",
      "max: 12.675008038889622\n",
      "\n",
      "min: 10.055806220980628\n",
      "\n",
      "delta: 2.619201817908994\n",
      "\n",
      "average: 11.548067497351191\n",
      "Average Current between 0.004 and 0.005 seconds: 3.2556026550071735 A\n",
      "Difference between highest and lowest current values between 0.004 and 0.005 seconds: 14.944351228442894 A\n",
      "Difference between highest and lowest current values between 0.004 and 0.005 seconds: 459.0348642657058 %\n",
      "Difference between highest and lowest voltage values between 0.004 and 0.005 seconds: 2.619201817908994 V\n",
      "Difference between highest and lowest voltage values between 0.004 and 0.005 seconds: 22.680866894047572 %\n",
      "High Side Switching Losses: 2.5727074420928684 W\n",
      "Low Side Switching  Losses: 2.5727074420928684 W\n",
      "Capacitor Losses: 1.5819122871435367 W\n",
      "Inductor Copper Losses: 2.3244217067618997 W\n"
     ]
    }
   ],
   "source": [
    "val_test =[3e-05,3e-05,20000, 0]\n",
    "\n",
    "L = val_test[0]\n",
    "C = val_test[1]\n",
    "fsw = val_test[2]\n",
    "t_dt = val_test[3]\n",
    "\n",
    "R_L = next((rl for border, rl in border_values if L <= border), 0.0)\n",
    "\n",
    "# Calculate ESR and ESL based on the updated C\n",
    "ESR = tan_delta / (2 * np.pi * fsw * C)\n",
    "ESL = K_esl / C\n",
    "\n",
    "# Set Plecs parameters and simulate\n",
    "plecs.set(model+'/L1', 'L', str(L))\n",
    "plecs.set(model+'/C', 'C', str(C))\n",
    "plecs.set(model+'/Symmetrical PWM1', 'fc', str(fsw))\n",
    "plecs.set(model+'/RL', 'R', str(R_L))\n",
    "plecs.set(model+'/ESR', 'R', str(ESR))\n",
    "plecs.set(model+'/ESL', 'L', str(ESL))\n",
    "plecs.set(model+'/Deadtime', 'td', str(t_dt))\n",
    "\n",
    "times = plecs.simulate(model)['Time']\n",
    "current = plecs.simulate(model)['Values'][0]\n",
    "voltage = plecs.simulate(model)['Values'][1]\n",
    "\n",
    "# Calculate average and delta current using the function\n",
    "average_current, delta_current, delta_current_percentage = calculate_current(times, current, start_time=0.004, end_time=0.005)\n",
    "average_voltage, delta_voltage, delta_voltage_percentage = calculate_voltage(times, voltage, start_time=0.004, end_time=0.005)\n",
    "Pl_s1, Pl_s2 = calculate_switching_losses(average_current, V_out, V_in, R_on, t_rise, t_fall, fsw)\n",
    "Pl_C = calculate_capacitor_losses(average_current, V_in, V_out, fsw, L, ESR)\n",
    "Pl_L_Cu = calculate_inductor_copper_loss(average_current, delta_current, R_L)\n",
    "# P_D = calculate_dead_time_loss(average_current, fsw, t_dt)\n",
    "\n",
    "\n",
    "print(f\"Average Current between 0.004 and 0.005 seconds: {average_current} A\")\n",
    "print(f\"Difference between highest and lowest current values between 0.004 and 0.005 seconds: {delta_current} A\")\n",
    "print(f\"Difference between highest and lowest current values between 0.004 and 0.005 seconds: {delta_current_percentage} %\")\n",
    "print(f\"Difference between highest and lowest voltage values between 0.004 and 0.005 seconds: {delta_voltage} V\")\n",
    "print(f\"Difference between highest and lowest voltage values between 0.004 and 0.005 seconds: {delta_voltage_percentage} %\")\n",
    "print(f\"High Side Switching Losses: {Pl_s1} W\")\n",
    "print(f\"Low Side Switching  Losses: {Pl_s2} W\")\n",
    "print(f\"Capacitor Losses: {Pl_C} W\")\n",
    "print(f\"Inductor Copper Losses: {Pl_L_Cu} W\")\n",
    "# print(f\"Dead time Losses: {P_D} W\")\n",
    "# print(f\"Total Losses: {Pl_s1 + Pl_s2 + Pl_C + Pl_L_Cu + P_D} W\")"
   ]
  },
  {
   "cell_type": "markdown",
   "metadata": {},
   "source": [
    "# Loop"
   ]
  },
  {
   "cell_type": "code",
   "execution_count": 21,
   "metadata": {},
   "outputs": [
    {
     "name": "stdout",
     "output_type": "stream",
     "text": [
      "Voltage:\n",
      "\n",
      "max: 12.679319769676034\n",
      "\n",
      "min: 10.055395242914386\n",
      "\n",
      "delta: 2.6239245267616482\n",
      "\n",
      "average: 11.754836343978347\n",
      "\n",
      "Simulation 1 for L=0.000030, C=0.000030, fsw=20000.00, RL=0.079576, ESR=0.037136, ESL=1.463000e-06\n",
      "\n",
      "Simulation 1 results:\n",
      "Average Current between 0.004 and 0.005 seconds: 2.369076212400351 A\n",
      "Difference between highest and lowest current values between 0.004 and 0.005 seconds: 14.942629474599412 A\n",
      "Difference between highest and lowest current values between 0.004 and 0.005 seconds: 630.7365460167921 %\n",
      "Difference between highest and lowest voltage values between 0.004 and 0.005 seconds: 2.6239245267616482 A\n",
      "Difference between highest and lowest voltage values between 0.004 and 0.005 seconds: 22.322084714567776 %\n",
      "High Side Switching Losses: 1.8721387860872531 W\n",
      "Low Side Switching  Losses: 1.8721387860872531 W\n",
      "Capacitor Losses: 1.1652647096399509 W\n",
      "Inductor Copper Losses: 1.927280592538472 W\n",
      "Dead time Losses: 0.00843391131614525 W\n",
      "Total Losses: 6.845256785669075 W\n",
      "Voltage:\n",
      "\n",
      "max: 12.67564004371446\n",
      "\n",
      "min: 10.055934701220028\n",
      "\n",
      "delta: 2.6197053424944308\n",
      "\n",
      "average: 11.755349550621384\n",
      "\n",
      "Simulation 2 for L=0.000030, C=0.000030, fsw=20000.00, RL=0.079576, ESR=0.037136, ESL=1.463000e-06\n",
      "\n",
      "Simulation 2 results:\n",
      "Average Current between 0.004 and 0.005 seconds: 2.3800576422097453 A\n",
      "Difference between highest and lowest current values between 0.004 and 0.005 seconds: 14.942590396959547 A\n",
      "Difference between highest and lowest current values between 0.004 and 0.005 seconds: 627.8247270972067 %\n",
      "Difference between highest and lowest voltage values between 0.004 and 0.005 seconds: 2.6197053424944308 A\n",
      "Difference between highest and lowest voltage values between 0.004 and 0.005 seconds: 22.285218582512965 %\n",
      "High Side Switching Losses: 1.880816751179829 W\n",
      "Low Side Switching  Losses: 1.880816751179829 W\n",
      "Capacitor Losses: 1.1696223635532648 W\n",
      "Inductor Copper Losses: 1.9314229180161904 W\n",
      "Dead time Losses: 0.0476011528441949 W\n",
      "Total Losses: 6.910279936773309 W\n",
      "Voltage:\n",
      "\n",
      "max: 11.821327769265837\n",
      "\n",
      "min: 9.650546358280302\n",
      "\n",
      "delta: 2.1707814109855352\n",
      "\n",
      "average: 10.353253852105773\n",
      "\n",
      "Simulation 3 for L=0.000030, C=0.000030, fsw=200000.00, RL=0.079576, ESR=0.003714, ESL=1.463000e-06\n",
      "\n",
      "Simulation 3 results:\n",
      "Average Current between 0.004 and 0.005 seconds: 2.082148933928239 A\n",
      "Difference between highest and lowest current values between 0.004 and 0.005 seconds: 1.3053968333079462 A\n",
      "Difference between highest and lowest current values between 0.004 and 0.005 seconds: 62.69469066485792 %\n",
      "Difference between highest and lowest voltage values between 0.004 and 0.005 seconds: 2.1707814109855352 A\n",
      "Difference between highest and lowest voltage values between 0.004 and 0.005 seconds: 20.967141750745487 %\n",
      "High Side Switching Losses: 3.3364354517266097 W\n",
      "Low Side Switching  Losses: 3.3364354517266097 W\n",
      "Capacitor Losses: 0.03692085435479595 W\n",
      "Inductor Copper Losses: 0.3562895445089342 W\n",
      "Dead time Losses: 0.0741245020478453 W\n",
      "Total Losses: 7.140205804364795 W\n",
      "Voltage:\n",
      "\n",
      "max: 3.568707947481427\n",
      "\n",
      "min: 2.24921691752069\n",
      "\n",
      "delta: 1.3194910299607367\n",
      "\n",
      "average: 2.45771319772434\n",
      "\n",
      "Simulation 4 for L=0.000030, C=0.000030, fsw=200000.00, RL=0.079576, ESR=0.003714, ESL=1.463000e-06\n",
      "\n",
      "Simulation 4 results:\n",
      "Average Current between 0.004 and 0.005 seconds: 0.5066212413615093 A\n",
      "Difference between highest and lowest current values between 0.004 and 0.005 seconds: 0.3746299917273354 A\n",
      "Difference between highest and lowest current values between 0.004 and 0.005 seconds: 73.94675965826923 %\n",
      "Difference between highest and lowest voltage values between 0.004 and 0.005 seconds: 1.3194910299607367 A\n",
      "Difference between highest and lowest voltage values between 0.004 and 0.005 seconds: 53.687754583508266 %\n",
      "High Side Switching Losses: 0.8118098771576825 W\n",
      "Low Side Switching  Losses: 0.8118098771576825 W\n",
      "Capacitor Losses: 0.0028409024949549106 W\n",
      "Inductor Copper Losses: 0.021355072502767924 W\n",
      "Dead time Losses: 0.10132424827230187 W\n",
      "Total Losses: 1.7491399775853897 W\n",
      "Voltage:\n",
      "\n",
      "max: 11.961382988370858\n",
      "\n",
      "min: 11.528882031255677\n",
      "\n",
      "delta: 0.432500957115181\n",
      "\n",
      "average: 11.78844334086406\n",
      "\n",
      "Simulation 5 for L=0.000030, C=0.000200, fsw=20000.00, RL=0.079576, ESR=0.005570, ESL=2.194500e-07\n",
      "\n",
      "Simulation 5 results:\n",
      "Average Current between 0.004 and 0.005 seconds: 2.261653529927751 A\n",
      "Difference between highest and lowest current values between 0.004 and 0.005 seconds: 15.004018450657702 A\n",
      "Difference between highest and lowest current values between 0.004 and 0.005 seconds: 663.4092380691488 %\n",
      "Difference between highest and lowest voltage values between 0.004 and 0.005 seconds: 0.432500957115181 A\n",
      "Difference between highest and lowest voltage values between 0.004 and 0.005 seconds: 3.6688555444461244 %\n",
      "High Side Switching Losses: 1.7872490854901062 W\n",
      "Low Side Switching  Losses: 1.7872490854901062 W\n",
      "Capacitor Losses: 0.16855499838319654 W\n",
      "Inductor Copper Losses: 1.8998868802947058 W\n",
      "Dead time Losses: 0.008051486566542794 W\n",
      "Total Losses: 5.650991536224657 W\n",
      "Voltage:\n",
      "\n",
      "max: 11.959277099911482\n",
      "\n",
      "min: 11.529091648386078\n",
      "\n",
      "delta: 0.43018545152540355\n",
      "\n",
      "average: 11.762539341815165\n",
      "\n",
      "Simulation 6 for L=0.000030, C=0.000200, fsw=20000.00, RL=0.079576, ESR=0.005570, ESL=2.194500e-07\n",
      "\n",
      "Simulation 6 results:\n",
      "Average Current between 0.004 and 0.005 seconds: 3.737705875474105 A\n",
      "Difference between highest and lowest current values between 0.004 and 0.005 seconds: 14.993115061099818 A\n",
      "Difference between highest and lowest current values between 0.004 and 0.005 seconds: 401.13148440814734 %\n",
      "Difference between highest and lowest voltage values between 0.004 and 0.005 seconds: 0.43018545152540355 A\n",
      "Difference between highest and lowest voltage values between 0.004 and 0.005 seconds: 3.657249842269335 %\n",
      "High Side Switching Losses: 2.9536846910346566 W\n",
      "Low Side Switching  Losses: 2.9536846910346566 W\n",
      "Capacitor Losses: 0.27954333264735065 W\n",
      "Inductor Copper Losses: 2.6023927727507967 W\n",
      "Dead time Losses: 0.07475411750948209 W\n",
      "Total Losses: 8.864059604976942 W\n",
      "Voltage:\n",
      "\n",
      "max: 10.408381817924285\n",
      "\n",
      "min: 10.046022396296438\n",
      "\n",
      "delta: 0.36235942162784696\n",
      "\n",
      "average: 10.138946573664573\n",
      "\n",
      "Simulation 7 for L=0.000030, C=0.000200, fsw=200000.00, RL=0.079576, ESR=0.000557, ESL=2.194500e-07\n",
      "\n",
      "Simulation 7 results:\n",
      "Average Current between 0.004 and 0.005 seconds: 2.0230530003312395 A\n",
      "Difference between highest and lowest current values between 0.004 and 0.005 seconds: 1.3426385325097179 A\n",
      "Difference between highest and lowest current values between 0.004 and 0.005 seconds: 66.36694798850472 %\n",
      "Difference between highest and lowest voltage values between 0.004 and 0.005 seconds: 0.36235942162784696 A\n",
      "Difference between highest and lowest voltage values between 0.004 and 0.005 seconds: 3.573935605589028 %\n",
      "High Side Switching Losses: 3.2417401277307776 W\n",
      "Low Side Switching  Losses: 3.2417401277307776 W\n",
      "Capacitor Losses: 0.005234065684700842 W\n",
      "Inductor Copper Losses: 0.3376383123815753 W\n",
      "Dead time Losses: 0.07202068681179213 W\n",
      "Total Losses: 6.898373320339624 W\n",
      "Voltage:\n",
      "\n",
      "max: 2.6919181843123052\n",
      "\n",
      "min: 2.343980819624381\n",
      "\n",
      "delta: 0.34793736468792424\n",
      "\n",
      "average: 2.4128017724440034\n",
      "\n",
      "Simulation 8 for L=0.000030, C=0.000200, fsw=200000.00, RL=0.079576, ESR=0.000557, ESL=2.194500e-07\n",
      "\n",
      "Simulation 8 results:\n",
      "Average Current between 0.004 and 0.005 seconds: 0.5182107415681894 A\n",
      "Difference between highest and lowest current values between 0.004 and 0.005 seconds: 0.3791819164231915 A\n",
      "Difference between highest and lowest current values between 0.004 and 0.005 seconds: 73.17137334431274 %\n",
      "Difference between highest and lowest voltage values between 0.004 and 0.005 seconds: 0.34793736468792424 A\n",
      "Difference between highest and lowest voltage values between 0.004 and 0.005 seconds: 14.420470370240462 %\n",
      "High Side Switching Losses: 0.8303808922888666 W\n",
      "Low Side Switching  Losses: 0.8303808922888666 W\n",
      "Capacitor Losses: 0.0004410217189778388 W\n",
      "Inductor Copper Losses: 0.022322973831023517 W\n",
      "Dead time Losses: 0.10364214831363787 W\n",
      "Total Losses: 1.7871679284413724 W\n",
      "Voltage:\n",
      "\n",
      "max: 10.878943414423826\n",
      "\n",
      "min: 10.838494178824238\n",
      "\n",
      "delta: 0.04044923559958846\n",
      "\n",
      "average: 10.864759801373504\n",
      "\n",
      "Simulation 9 for L=0.002000, C=0.000030, fsw=20000.00, RL=0.443394, ESR=0.037136, ESL=1.463000e-06\n",
      "\n",
      "Simulation 9 results:\n",
      "Average Current between 0.004 and 0.005 seconds: 2.1723967709809586 A\n",
      "Difference between highest and lowest current values between 0.004 and 0.005 seconds: 0.22283603482142533 A\n",
      "Difference between highest and lowest current values between 0.004 and 0.005 seconds: 10.257612135963653 %\n",
      "Difference between highest and lowest voltage values between 0.004 and 0.005 seconds: 0.04044923559958846 A\n",
      "Difference between highest and lowest voltage values between 0.004 and 0.005 seconds: 0.37229755962460337 %\n",
      "High Side Switching Losses: 1.7167148242999926 W\n",
      "Low Side Switching  Losses: 1.7167148242999926 W\n",
      "Capacitor Losses: 0.3944847736252858 W\n",
      "Inductor Copper Losses: 2.09434749250617 W\n",
      "Dead time Losses: 0.0077337325046922135 W\n",
      "Total Losses: 5.929995647236134 W\n",
      "Voltage:\n",
      "\n",
      "max: 10.154520631072936\n",
      "\n",
      "min: 10.114166153632532\n",
      "\n",
      "delta: 0.040354477440404324\n",
      "\n",
      "average: 10.139756190983157\n",
      "\n",
      "Simulation 10 for L=0.002000, C=0.000030, fsw=20000.00, RL=0.443394, ESR=0.037136, ESL=1.463000e-06\n",
      "\n",
      "Simulation 10 results:\n",
      "Average Current between 0.004 and 0.005 seconds: 2.027251884501302 A\n",
      "Difference between highest and lowest current values between 0.004 and 0.005 seconds: 0.21250181382756783 A\n",
      "Difference between highest and lowest current values between 0.004 and 0.005 seconds: 10.48226002166685 %\n",
      "Difference between highest and lowest voltage values between 0.004 and 0.005 seconds: 0.040354477440404324 A\n",
      "Difference between highest and lowest voltage values between 0.004 and 0.005 seconds: 0.39798271950848096 %\n",
      "High Side Switching Losses: 1.602015529208309 W\n",
      "Low Side Switching  Losses: 1.602015529208309 W\n",
      "Capacitor Losses: 0.34355237449718845 W\n",
      "Inductor Copper Losses: 1.8239071109469103 W\n",
      "Dead time Losses: 0.04054503769002604 W\n",
      "Total Losses: 5.412035581550743 W\n",
      "Voltage:\n",
      "\n",
      "max: 9.479404801036557\n",
      "\n",
      "min: 9.445377598226957\n",
      "\n",
      "delta: 0.034027202809600254\n",
      "\n",
      "average: 9.456803832100476\n",
      "\n",
      "Simulation 11 for L=0.002000, C=0.000030, fsw=200000.00, RL=0.443394, ESR=0.003714, ESL=1.463000e-06\n",
      "\n",
      "Simulation 11 results:\n",
      "Average Current between 0.004 and 0.005 seconds: 1.8911774822737262 A\n",
      "Difference between highest and lowest current values between 0.004 and 0.005 seconds: 0.020204224514633662 A\n",
      "Difference between highest and lowest current values between 0.004 and 0.005 seconds: 1.068341004692088 %\n",
      "Difference between highest and lowest voltage values between 0.004 and 0.005 seconds: 0.034027202809600254 A\n",
      "Difference between highest and lowest voltage values between 0.004 and 0.005 seconds: 0.35981715824639643 %\n",
      "High Side Switching Losses: 3.0304227975954188 W\n",
      "Low Side Switching  Losses: 3.0304227975954188 W\n",
      "Capacitor Losses: 0.02988452024597286 W\n",
      "Inductor Copper Losses: 1.5858369001454131 W\n",
      "Dead time Losses: 0.06732591836894465 W\n",
      "Total Losses: 7.743892933951168 W\n",
      "Voltage:\n",
      "\n",
      "max: 2.2228695335174713\n",
      "\n",
      "min: 2.2027190491553204\n",
      "\n",
      "delta: 0.020150484362150944\n",
      "\n",
      "average: 2.2057282130858265\n",
      "\n",
      "Simulation 12 for L=0.002000, C=0.000030, fsw=200000.00, RL=0.443394, ESR=0.003714, ESL=1.463000e-06\n",
      "\n",
      "Simulation 12 results:\n",
      "Average Current between 0.004 and 0.005 seconds: 0.4412934734399572 A\n",
      "Difference between highest and lowest current values between 0.004 and 0.005 seconds: 0.005699254705127166 A\n",
      "Difference between highest and lowest current values between 0.004 and 0.005 seconds: 1.2914885553825468 %\n",
      "Difference between highest and lowest voltage values between 0.004 and 0.005 seconds: 0.020150484362150944 A\n",
      "Difference between highest and lowest voltage values between 0.004 and 0.005 seconds: 0.913552460480174 %\n",
      "High Side Switching Losses: 0.7071286618401873 W\n",
      "Low Side Switching  Losses: 0.7071286618401873 W\n",
      "Capacitor Losses: 0.0016273323456819414 W\n",
      "Inductor Copper Losses: 0.08634771656505236 W\n",
      "Dead time Losses: 0.08825869468799144 W\n",
      "Total Losses: 1.5904910672791004 W\n",
      "Voltage:\n",
      "\n",
      "max: 10.574710863968676\n",
      "\n",
      "min: 9.97820180662124\n",
      "\n",
      "delta: 0.5965090573474363\n",
      "\n",
      "average: 10.187253721170302\n",
      "\n",
      "Simulation 13 for L=0.002000, C=0.000200, fsw=20000.00, RL=0.443394, ESR=0.005570, ESL=2.194500e-07\n",
      "\n",
      "Simulation 13 results:\n",
      "Average Current between 0.004 and 0.005 seconds: 2.1499884472629462 A\n",
      "Difference between highest and lowest current values between 0.004 and 0.005 seconds: 0.5559680589223628 A\n",
      "Difference between highest and lowest current values between 0.004 and 0.005 seconds: 25.8591184352707 %\n",
      "Difference between highest and lowest voltage values between 0.004 and 0.005 seconds: 0.5965090573474363 A\n",
      "Difference between highest and lowest voltage values between 0.004 and 0.005 seconds: 5.855445183502408 %\n",
      "High Side Switching Losses: 1.6990068705650705 W\n",
      "Low Side Switching  Losses: 1.6990068705650705 W\n",
      "Capacitor Losses: 0.057958758402176305 W\n",
      "Inductor Copper Losses: 2.0609878469573983 W\n",
      "Dead time Losses: 0.007653958872256089 W\n",
      "Total Losses: 5.524614305361972 W\n",
      "Voltage:\n",
      "\n",
      "max: 9.869077332811864\n",
      "\n",
      "min: 9.312365768760897\n",
      "\n",
      "delta: 0.5567115640509677\n",
      "\n",
      "average: 9.508280750135665\n",
      "\n",
      "Simulation 14 for L=0.002000, C=0.000200, fsw=20000.00, RL=0.443394, ESR=0.005570, ESL=2.194500e-07\n",
      "\n",
      "Simulation 14 results:\n",
      "Average Current between 0.004 and 0.005 seconds: 2.0340531355640863 A\n",
      "Difference between highest and lowest current values between 0.004 and 0.005 seconds: 0.5231791256303588 A\n",
      "Difference between highest and lowest current values between 0.004 and 0.005 seconds: 25.721015664876923 %\n",
      "Difference between highest and lowest voltage values between 0.004 and 0.005 seconds: 0.5567115640509677 A\n",
      "Difference between highest and lowest voltage values between 0.004 and 0.005 seconds: 5.855018153970942 %\n",
      "High Side Switching Losses: 1.6073901498481633 W\n",
      "Low Side Switching  Losses: 1.6073901498481633 W\n",
      "Capacitor Losses: 0.051879054616375 W\n",
      "Inductor Copper Losses: 1.8445996747856777 W\n",
      "Dead time Losses: 0.040681062711281725 W\n",
      "Total Losses: 5.151940091809661 W\n",
      "Voltage:\n",
      "\n",
      "max: 9.195997391781708\n",
      "\n",
      "min: 8.679496030375162\n",
      "\n",
      "delta: 0.5165013614065455\n",
      "\n",
      "average: 8.86077542529953\n",
      "\n",
      "Simulation 15 for L=0.002000, C=0.000200, fsw=200000.00, RL=0.443394, ESR=0.000557, ESL=2.194500e-07\n",
      "\n",
      "Simulation 15 results:\n",
      "Average Current between 0.004 and 0.005 seconds: 1.8720934556521582 A\n",
      "Difference between highest and lowest current values between 0.004 and 0.005 seconds: 0.3196287265139668 A\n",
      "Difference between highest and lowest current values between 0.004 and 0.005 seconds: 17.0733317585698 %\n",
      "Difference between highest and lowest voltage values between 0.004 and 0.005 seconds: 0.5165013614065455 A\n",
      "Difference between highest and lowest voltage values between 0.004 and 0.005 seconds: 5.829076312348653 %\n",
      "High Side Switching Losses: 2.999842553337018 W\n",
      "Low Side Switching  Losses: 2.999842553337018 W\n",
      "Capacitor Losses: 0.0043926648383170635 W\n",
      "Inductor Copper Losses: 1.557752839962083 W\n",
      "Dead time Losses: 0.06664652702121683 W\n",
      "Total Losses: 7.6284771384956525 W\n",
      "Voltage:\n",
      "\n",
      "max: 2.1489491509002474\n",
      "\n",
      "min: 2.0233894865917414\n",
      "\n",
      "delta: 0.12555966430850596\n",
      "\n",
      "average: 2.0657173569991363\n",
      "\n",
      "Simulation 16 for L=0.002000, C=0.000200, fsw=200000.00, RL=0.443394, ESR=0.000557, ESL=2.194500e-07\n",
      "\n",
      "Simulation 16 results:\n",
      "Average Current between 0.004 and 0.005 seconds: 0.43657257539087374 A\n",
      "Difference between highest and lowest current values between 0.004 and 0.005 seconds: 0.07547567466719746 A\n",
      "Difference between highest and lowest current values between 0.004 and 0.005 seconds: 17.28823085133607 %\n",
      "Difference between highest and lowest voltage values between 0.004 and 0.005 seconds: 0.12555966430850596 A\n",
      "Difference between highest and lowest voltage values between 0.004 and 0.005 seconds: 6.078259636202421 %\n",
      "High Side Switching Losses: 0.6995638948063361 W\n",
      "Low Side Switching  Losses: 0.6995638948063361 W\n",
      "Capacitor Losses: 0.0002389055932353595 W\n",
      "Inductor Copper Losses: 0.08471943717830427 W\n",
      "Dead time Losses: 0.08731451507817474 W\n",
      "Total Losses: 1.5714006474623863 W\n"
     ]
    }
   ],
   "source": [
    "# Loop through the combinations and simulate\n",
    "csv_data = []\n",
    "for simulation_num, (L, C, fsw, t_dt) in enumerate(combinations, start=1):\n",
    "    # Rules for picking R_L based on L\n",
    "    R_L = next((rl for border, rl in border_values if L <= border), 0.0)\n",
    "\n",
    "    # Calculate ESR and ESL based on the updated C\n",
    "    ESR = tan_delta / (2 * np.pi * fsw * C)\n",
    "    ESL = K_esl / C\n",
    "\n",
    "    # Set Plecs parameters and simulate\n",
    "    plecs.set(model+'/L1', 'L', str(L))\n",
    "    plecs.set(model+'/C', 'C', str(C))\n",
    "    plecs.set(model+'/Symmetrical PWM1', 'fc', str(fsw))\n",
    "    plecs.set(model+'/RL', 'R', str(R_L))\n",
    "    plecs.set(model+'/ESR', 'R', str(ESR))\n",
    "    plecs.set(model+'/ESL', 'L', str(ESL))\n",
    "    plecs.set(model+'/Deadtime', 'td', str(t_dt))\n",
    "\n",
    "    times = plecs.simulate(model)['Time']\n",
    "    current = plecs.simulate(model)['Values'][0]\n",
    "    voltage = plecs.simulate(model)['Values'][1]\n",
    "\n",
    "    # Calculate average and delta current using the function\n",
    "    average_current, delta_current, delta_current_percentage = calculate_current(times, current, start_time=0.004, end_time=0.005)\n",
    "    average_voltage, delta_voltage, delta_voltage_percentage = calculate_voltage(times, voltage, start_time=0.004, end_time=0.005)\n",
    "    Pl_s1, Pl_s2 = calculate_switching_losses(average_current, V_out, V_in, R_on, t_rise, t_fall, fsw)\n",
    "    Pl_C = calculate_capacitor_losses(average_current, V_in, V_out, fsw, L, ESR)\n",
    "    Pl_L_Cu = calculate_inductor_copper_loss(average_current, delta_current, R_L)\n",
    "    P_D = calculate_dead_time_loss(average_current, fsw, t_dt)\n",
    "\n",
    "    # Append the data for this simulation to the list\n",
    "    csv_data.append([simulation_num,L, C, fsw, t_dt, delta_current_percentage, delta_voltage_percentage, Pl_s1, Pl_s2, Pl_C, Pl_L_Cu, P_D])\n",
    "\n",
    "    print(f'\\nSimulation {simulation_num} for L={L:.6f}, C={C:.6f}, fsw={fsw:.2f}, RL={R_L:.6f}, ESR={ESR:.6f}, ESL={ESL:.6e}')\n",
    "    print(f\"\\nSimulation {simulation_num} results:\")\n",
    "    print(f\"Average Current between 0.004 and 0.005 seconds: {average_current} A\")\n",
    "    print(f\"Difference between highest and lowest current values between 0.004 and 0.005 seconds: {delta_current} A\")\n",
    "    print(f\"Difference between highest and lowest current values between 0.004 and 0.005 seconds: {delta_current_percentage} %\")\n",
    "    print(f\"Difference between highest and lowest voltage values between 0.004 and 0.005 seconds: {delta_voltage} A\")\n",
    "    print(f\"Difference between highest and lowest voltage values between 0.004 and 0.005 seconds: {delta_voltage_percentage} %\")\n",
    "    print(f\"High Side Switching Losses: {Pl_s1} W\")\n",
    "    print(f\"Low Side Switching  Losses: {Pl_s2} W\")\n",
    "    print(f\"Capacitor Losses: {Pl_C} W\")\n",
    "    print(f\"Inductor Copper Losses: {Pl_L_Cu} W\")\n",
    "    print(f\"Dead time Losses: {P_D} W\")\n",
    "    print(f\"Total Losses: {Pl_s1 + Pl_s2 + Pl_C + Pl_L_Cu + P_D} W\")"
   ]
  },
  {
   "cell_type": "code",
   "execution_count": 22,
   "metadata": {},
   "outputs": [],
   "source": [
    "# Use the function to write data to the CSV file\n",
    "write_to_csv(csv_file_path, csv_header, csv_data)"
   ]
  }
 ],
 "metadata": {
  "kernelspec": {
   "display_name": "Python 3",
   "language": "python",
   "name": "python3"
  },
  "language_info": {
   "codemirror_mode": {
    "name": "ipython",
    "version": 3
   },
   "file_extension": ".py",
   "mimetype": "text/x-python",
   "name": "python",
   "nbconvert_exporter": "python",
   "pygments_lexer": "ipython3",
   "version": "3.11.6"
  }
 },
 "nbformat": 4,
 "nbformat_minor": 2
}
