{
 "cells": [
  {
   "cell_type": "markdown",
   "metadata": {},
   "source": [
    "# Spesifikasi"
   ]
  },
  {
   "cell_type": "markdown",
   "metadata": {},
   "source": [
    "- V<sub>in</sub> = 48V\n",
    "- V<sub>out</sub> = 12V\n",
    "- P<sub>o</sub> = 100W\n",
    "- &#916;V<sub>o</sub> &#8804; 1%\n",
    "- &#916;I<sub>L</sub> &#8804; 10%\n",
    "- f<sub>sw</sub> = 20e3\n",
    "- Mosfet: IRFB4310PbF, Infineon"
   ]
  },
  {
   "cell_type": "markdown",
   "metadata": {},
   "source": [
    "# Plecs"
   ]
  },
  {
   "cell_type": "code",
   "execution_count": 19,
   "metadata": {},
   "outputs": [],
   "source": [
    "import xmlrpc.client as xml\n",
    "import os\n",
    "import matplotlib.pyplot as plt\n",
    "import numpy as np\n",
    "import itertools\n",
    "import csv"
   ]
  },
  {
   "cell_type": "code",
   "execution_count": 3,
   "metadata": {},
   "outputs": [],
   "source": [
    "model = 'buck'\n",
    "file_type = '.plecs'\n",
    "V_in = 48\n",
    "V_out = 12\n",
    "f_sw = 20e3"
   ]
  },
  {
   "cell_type": "code",
   "execution_count": 4,
   "metadata": {},
   "outputs": [],
   "source": [
    "plecs = xml.Server(\"http://localhost:1080/RPC2\").plecs"
   ]
  },
  {
   "cell_type": "code",
   "execution_count": 5,
   "metadata": {},
   "outputs": [
    {
     "data": {
      "text/plain": [
       "0"
      ]
     },
     "execution_count": 5,
     "metadata": {},
     "output_type": "execute_result"
    }
   ],
   "source": [
    "plecs.load(r\"E:\\OneDrive - UGM 365\\Mata Kuliah\\Skripsi\\Plecs\\Python\\buck\\buck.plecs\")"
   ]
  },
  {
   "cell_type": "code",
   "execution_count": 6,
   "metadata": {},
   "outputs": [
    {
     "data": {
      "text/plain": [
       "[['Name', 'L1'],\n",
       " ['Type', 'Inductor'],\n",
       " ['CommentStatus', 'Active'],\n",
       " ['L', '0.0007'],\n",
       " ['i_init', '0']]"
      ]
     },
     "execution_count": 6,
     "metadata": {},
     "output_type": "execute_result"
    }
   ],
   "source": [
    "plecs.get(model+'/L1')"
   ]
  },
  {
   "cell_type": "code",
   "execution_count": 7,
   "metadata": {},
   "outputs": [
    {
     "data": {
      "text/plain": [
       "[['Name', 'C'],\n",
       " ['Type', 'Capacitor'],\n",
       " ['CommentStatus', 'Active'],\n",
       " ['C', '6e-05'],\n",
       " ['v_init', '0']]"
      ]
     },
     "execution_count": 7,
     "metadata": {},
     "output_type": "execute_result"
    }
   ],
   "source": [
    "plecs.get(model+'/C')"
   ]
  },
  {
   "cell_type": "code",
   "execution_count": 8,
   "metadata": {},
   "outputs": [
    {
     "data": {
      "text/plain": [
       "[['Name', 'Symmetrical PWM1'],\n",
       " ['Type', 'Subsystem'],\n",
       " ['CommentStatus', 'Active'],\n",
       " ['sampling', 'Natural (carrier starts at center)'],\n",
       " ['fc', '30000.0'],\n",
       " ['carrier_phaseshift', '0'],\n",
       " ['carrier_limits', '[0 1]'],\n",
       " ['output_values', '[-1 1]']]"
      ]
     },
     "execution_count": 8,
     "metadata": {},
     "output_type": "execute_result"
    }
   ],
   "source": [
    "plecs.get(model+'/Symmetrical PWM1')"
   ]
  },
  {
   "cell_type": "code",
   "execution_count": 9,
   "metadata": {},
   "outputs": [
    {
     "data": {
      "text/plain": [
       "[['Name', 'RL'],\n",
       " ['Type', 'Resistor'],\n",
       " ['CommentStatus', 'Active'],\n",
       " ['R', '1e-3']]"
      ]
     },
     "execution_count": 9,
     "metadata": {},
     "output_type": "execute_result"
    }
   ],
   "source": [
    "plecs.get(model+'/RL')"
   ]
  },
  {
   "cell_type": "code",
   "execution_count": 10,
   "metadata": {},
   "outputs": [],
   "source": [
    "RL = plecs.get(model+'/RL', 'R')"
   ]
  },
  {
   "cell_type": "code",
   "execution_count": 11,
   "metadata": {},
   "outputs": [
    {
     "data": {
      "text/plain": [
       "[['Name', 'ESR'],\n",
       " ['Type', 'Resistor'],\n",
       " ['CommentStatus', 'Active'],\n",
       " ['R', '0.025681987128706025']]"
      ]
     },
     "execution_count": 11,
     "metadata": {},
     "output_type": "execute_result"
    }
   ],
   "source": [
    "plecs.get(model+'/ESR')"
   ]
  },
  {
   "cell_type": "code",
   "execution_count": 12,
   "metadata": {},
   "outputs": [
    {
     "data": {
      "text/plain": [
       "[['Name', 'ESL'],\n",
       " ['Type', 'Inductor'],\n",
       " ['CommentStatus', 'Active'],\n",
       " ['L', '5.839164571365709e-08'],\n",
       " ['i_init', '0']]"
      ]
     },
     "execution_count": 12,
     "metadata": {},
     "output_type": "execute_result"
    }
   ],
   "source": [
    "plecs.get(model+'/ESL')"
   ]
  },
  {
   "cell_type": "code",
   "execution_count": 22,
   "metadata": {},
   "outputs": [
    {
     "name": "stdout",
     "output_type": "stream",
     "text": [
      "Chosen L values: [3.e-05 2.e-03]\n",
      "Chosen C values: [3.e-05 2.e-04]\n",
      "Chosen fsw values: [ 20000. 200000.]\n",
      "\n",
      "Chosen values and simulation results:\n"
     ]
    }
   ],
   "source": [
    "L_range = (30e-6, 2000e-6)  # Range for L\n",
    "C_range = (30e-6, 200e-6)   # Range for C\n",
    "fsw_range = (20e3, 200e3)    # Range for fsw\n",
    "num_values = 2           # Number of values for each parameter\n",
    "\n",
    "# Borders for R_L\n",
    "border_values = [\n",
    "    (144e-6, 0.079576),\n",
    "    (509e-6, 0.179228),\n",
    "    (1003e-6, 0.253239),\n",
    "    (2519e-6, 0.443394)\n",
    "]\n",
    "\n",
    "# Constants for ESL calculation\n",
    "K_esl = 4.389e-11  # Adjust as needed\n",
    "tan_delta = 0.14\n",
    "\n",
    "# Create arrays of discrete L, C, and fsw values within the specified ranges\n",
    "L_values = np.linspace(L_range[0], L_range[1], num=num_values)\n",
    "C_values = np.linspace(C_range[0], C_range[1], num=num_values)\n",
    "fsw_values = np.linspace(fsw_range[0], fsw_range[1], num=num_values)\n",
    "\n",
    "# Initialize arrays to store results\n",
    "average_currents = []\n",
    "delta_currents = []\n",
    "delta_currents_percentage = []\n",
    "\n",
    "# Open a CSV file for writing\n",
    "csv_file_path = 'simulation_results.csv'\n",
    "\n",
    "# Define the header for the CSV file\n",
    "csv_header = ['No','L', 'C', 'fsw', 'RL', 'ESR', 'ESL', 'delta_current_percentage']\n",
    "\n",
    "# Initialize a list to store the data for each simulation\n",
    "csv_data = []\n",
    "\n",
    "# Print the chosen values\n",
    "print(\"Chosen L values:\", L_values)\n",
    "print(\"Chosen C values:\", C_values)\n",
    "print(\"Chosen fsw values:\", fsw_values)\n",
    "\n",
    "# Generate all combinations of L, C, and fsw\n",
    "combinations = list(itertools.product(L_values, C_values, fsw_values))\n",
    "\n",
    "# Display the chosen values and simulate\n",
    "print(\"\\nChosen values and simulation results:\")"
   ]
  },
  {
   "cell_type": "markdown",
   "metadata": {},
   "source": [
    "# Functions"
   ]
  },
  {
   "cell_type": "markdown",
   "metadata": {},
   "source": [
    "## Write to CSV"
   ]
  },
  {
   "cell_type": "code",
   "execution_count": 16,
   "metadata": {},
   "outputs": [],
   "source": [
    "def write_to_csv(file_path, header, data):\n",
    "    with open(file_path, 'w', newline='') as csv_file:\n",
    "        csv_writer = csv.writer(csv_file)\n",
    "        csv_writer.writerow(header)\n",
    "        csv_writer.writerows(data)"
   ]
  },
  {
   "cell_type": "markdown",
   "metadata": {},
   "source": [
    "## Ripples"
   ]
  },
  {
   "cell_type": "markdown",
   "metadata": {},
   "source": [
    "### Current\n",
    "- Average\n",
    "- &Delta;I<sub>L</sub>%"
   ]
  },
  {
   "cell_type": "code",
   "execution_count": 17,
   "metadata": {},
   "outputs": [],
   "source": [
    "def calculate_current(times, current, start_time, end_time):\n",
    "    # Convert 'times' to a NumPy array\n",
    "    times = np.array(times)\n",
    "\n",
    "    # Find the indices corresponding to the time range\n",
    "    start_index = np.argmax(times >= start_time)\n",
    "    end_index = np.argmax(times >= end_time)\n",
    "\n",
    "    # Extract the current values in the specified time range\n",
    "    current_range = current[start_index:end_index]\n",
    "\n",
    "    # Calculate the average current value\n",
    "    average_current = np.mean(current_range)\n",
    "\n",
    "    # Calculate the difference between the highest and lowest current values\n",
    "    delta_current = np.max(current_range) - np.min(current_range)\n",
    "\n",
    "    # print(np.max(current_range))\n",
    "    # print(np.min(current_range))\n",
    "    delta_current_percentage = delta_current/average_current \n",
    "\n",
    "    return average_current, delta_current, delta_current_percentage"
   ]
  },
  {
   "cell_type": "markdown",
   "metadata": {},
   "source": [
    "### &Delta;V<sub>O</sub>%"
   ]
  },
  {
   "cell_type": "code",
   "execution_count": null,
   "metadata": {},
   "outputs": [],
   "source": [
    "def calculate_voltage(times, voltage, start_time, end_time):\n",
    "    # Convert 'times' to a NumPy array\n",
    "    times = np.array(times)\n",
    "\n",
    "    # Find the indices corresponding to the time range\n",
    "    start_index = np.argmax(times >= start_time)\n",
    "    end_index = np.argmax(times >= end_time)\n",
    "\n",
    "    # Extract the voltage values in the specified time range\n",
    "    voltage_range = voltage[start_index:end_index]\n",
    "\n",
    "    # Calculate the average voltage value\n",
    "    average_voltage = np.mean(voltage_range)\n",
    "\n",
    "    # Calculate the difference between the highest and lowest voltage values\n",
    "    delta_voltage = np.max(voltage_range) - np.min(voltage_range)\n",
    "\n",
    "    print('Voltage:')\n",
    "    print(\"\\nmax:\", np.max(voltage_range))\n",
    "    print(\"\\nmin:\", np.min(voltage_range))\n",
    "    print(\"\\ndelta:\",delta_voltage)\n",
    "    print(\"\\naverage:\",average_voltage)\n",
    "\n",
    "    delta_voltage_percentage = delta_voltage/average_voltage * 100\n",
    "\n",
    "    return average_voltage, delta_voltage, delta_voltage_percentage\n"
   ]
  },
  {
   "cell_type": "markdown",
   "metadata": {},
   "source": [
    "# Loop"
   ]
  },
  {
   "cell_type": "code",
   "execution_count": 23,
   "metadata": {},
   "outputs": [
    {
     "name": "stdout",
     "output_type": "stream",
     "text": [
      "\n",
      "Simulation 1 for L=0.000030, C=0.000030, fsw=20000.00, RL=0.079576, ESR=0.037136, ESL=1.463000e-06\n",
      "\n",
      "Simulation 1 results:\n",
      "Average Current between 0.004 and 0.005 seconds: 3.2556026550071735 A\n",
      "Difference between highest and lowest current values between 0.004 and 0.005 seconds: 14.944351228442894 A\n",
      "Difference between highest and lowest current values between 0.004 and 0.005 seconds (%): 4.590348642657058 %\n",
      "\n",
      "Simulation 2 for L=0.000030, C=0.000030, fsw=200000.00, RL=0.079576, ESR=0.003714, ESL=1.463000e-06\n",
      "\n",
      "Simulation 2 results:\n",
      "Average Current between 0.004 and 0.005 seconds: 2.4480963015005166 A\n",
      "Difference between highest and lowest current values between 0.004 and 0.005 seconds: 1.4511352153038453 A\n",
      "Difference between highest and lowest current values between 0.004 and 0.005 seconds (%): 0.5927606746574463 %\n",
      "\n",
      "Simulation 3 for L=0.000030, C=0.000200, fsw=20000.00, RL=0.079576, ESR=0.005570, ESL=2.194500e-07\n",
      "\n",
      "Simulation 3 results:\n",
      "Average Current between 0.004 and 0.005 seconds: 2.259277826903446 A\n",
      "Difference between highest and lowest current values between 0.004 and 0.005 seconds: 15.007081334424608 A\n",
      "Difference between highest and lowest current values between 0.004 and 0.005 seconds (%): 6.642424032901359 %\n",
      "\n",
      "Simulation 4 for L=0.000030, C=0.000200, fsw=200000.00, RL=0.079576, ESR=0.000557, ESL=2.194500e-07\n",
      "\n",
      "Simulation 4 results:\n",
      "Average Current between 0.004 and 0.005 seconds: 2.4145527294792837 A\n",
      "Difference between highest and lowest current values between 0.004 and 0.005 seconds: 1.52246913350394 A\n",
      "Difference between highest and lowest current values between 0.004 and 0.005 seconds (%): 0.630538780502123 %\n",
      "\n",
      "Simulation 5 for L=0.002000, C=0.000030, fsw=20000.00, RL=0.443394, ESR=0.037136, ESL=1.463000e-06\n",
      "\n",
      "Simulation 5 results:\n",
      "Average Current between 0.004 and 0.005 seconds: 2.2077869921943662 A\n",
      "Difference between highest and lowest current values between 0.004 and 0.005 seconds: 0.22498826109326675 A\n",
      "Difference between highest and lowest current values between 0.004 and 0.005 seconds (%): 0.10190668841184092 %\n",
      "\n",
      "Simulation 6 for L=0.002000, C=0.000030, fsw=200000.00, RL=0.443394, ESR=0.003714, ESL=1.463000e-06\n",
      "\n",
      "Simulation 6 results:\n",
      "Average Current between 0.004 and 0.005 seconds: 2.2057074895283653 A\n",
      "Difference between highest and lowest current values between 0.004 and 0.005 seconds: 0.02249104753892084 A\n",
      "Difference between highest and lowest current values between 0.004 and 0.005 seconds (%): 0.010196749861755233 %\n",
      "\n",
      "Simulation 7 for L=0.002000, C=0.000200, fsw=20000.00, RL=0.443394, ESR=0.005570, ESL=2.194500e-07\n",
      "\n",
      "Simulation 7 results:\n",
      "Average Current between 0.004 and 0.005 seconds: 2.179446821143291 A\n",
      "Difference between highest and lowest current values between 0.004 and 0.005 seconds: 0.5629873617854202 A\n",
      "Difference between highest and lowest current values between 0.004 and 0.005 seconds (%): 0.25831663169009517 %\n",
      "\n",
      "Simulation 8 for L=0.002000, C=0.000200, fsw=200000.00, RL=0.443394, ESR=0.000557, ESL=2.194500e-07\n",
      "\n",
      "Simulation 8 results:\n",
      "Average Current between 0.004 and 0.005 seconds: 2.1830247327071093 A\n",
      "Difference between highest and lowest current values between 0.004 and 0.005 seconds: 0.3716887031785807 A\n",
      "Difference between highest and lowest current values between 0.004 and 0.005 seconds (%): 0.1702631663351151 %\n"
     ]
    }
   ],
   "source": [
    "# Loop through the combinations and simulate\n",
    "csv_data = []\n",
    "for simulation_num, (L, C, fsw) in enumerate(combinations, start=1):\n",
    "    # Rules for picking R_L based on L\n",
    "    R_L = next((rl for border, rl in border_values if L <= border), 0.0)\n",
    "\n",
    "    # Calculate ESR and ESL based on the updated C\n",
    "    ESR = tan_delta / (2 * np.pi * fsw * C)\n",
    "    ESL = K_esl / C\n",
    "\n",
    "    # Set Plecs parameters and simulate\n",
    "    plecs.set(model+'/L1', 'L', str(L))\n",
    "    plecs.set(model+'/C', 'C', str(C))\n",
    "    plecs.set(model+'/Symmetrical PWM1', 'fc', str(fsw))\n",
    "    plecs.set(model+'/RL', 'R', str(R_L))\n",
    "    plecs.set(model+'/ESR', 'R', str(ESR))\n",
    "    plecs.set(model+'/ESL', 'L', str(ESL))\n",
    "\n",
    "    times = plecs.simulate(model)['Time']\n",
    "    current = plecs.simulate(model)['Values'][0]\n",
    "    voltage = plecs.simulate(model)['Values'][1]\n",
    "\n",
    "    # Calculate average and delta current using the function\n",
    "    average_current, delta_current, delta_current_percentage = calculate_current(times, current, start_time=0.004, end_time=0.005)\n",
    "    average_voltage, delta_voltage, delta_voltage_percentage = calculate_voltage(times, voltage, start_time=0.004, end_time=0.005)\n",
    "\n",
    "    # Append the data for this simulation to the list\n",
    "    csv_data.append([simulation_num,L, C, fsw, R_L, ESR, ESL, average_current, delta_current_percentage, delta_voltage_percentage])\n",
    "\n",
    "    print(f'\\nSimulation {simulation_num} for L={L:.6f}, C={C:.6f}, fsw={fsw:.2f}, RL={R_L:.6f}, ESR={ESR:.6f}, ESL={ESL:.6e}')\n",
    "    print(f\"\\nSimulation {simulation_num} results:\")\n",
    "    print(f\"Average Current between 0.004 and 0.005 seconds: {average_current} A\")\n",
    "    print(f\"Difference between highest and lowest current values between 0.004 and 0.005 seconds: {delta_current} A\")\n",
    "    print(f\"Difference between highest and lowest current values between 0.004 and 0.005 seconds: {delta_current_percentage} %\")\n",
    "    print(f\"Difference between highest and lowest voltage values between 0.004 and 0.005 seconds: {delta_voltage} A\")\n",
    "    print(f\"Difference between highest and lowest voltage values between 0.004 and 0.005 seconds: {delta_voltage_percentage} %\")"
   ]
  },
  {
   "cell_type": "code",
   "execution_count": 24,
   "metadata": {},
   "outputs": [],
   "source": [
    "# Use the function to write data to the CSV file\n",
    "write_to_csv(csv_file_path, csv_header, csv_data)"
   ]
  }
 ],
 "metadata": {
  "kernelspec": {
   "display_name": "Python 3",
   "language": "python",
   "name": "python3"
  },
  "language_info": {
   "codemirror_mode": {
    "name": "ipython",
    "version": 3
   },
   "file_extension": ".py",
   "mimetype": "text/x-python",
   "name": "python",
   "nbconvert_exporter": "python",
   "pygments_lexer": "ipython3",
   "version": "3.11.6"
  }
 },
 "nbformat": 4,
 "nbformat_minor": 2
}
