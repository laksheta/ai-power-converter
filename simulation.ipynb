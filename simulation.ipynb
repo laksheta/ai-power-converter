{
 "cells": [
  {
   "cell_type": "markdown",
   "metadata": {},
   "source": [
    "# Spesifikasi"
   ]
  },
  {
   "cell_type": "markdown",
   "metadata": {},
   "source": [
    "- V<sub>in</sub> = 48V\n",
    "- V<sub>out</sub> = 12V\n",
    "- P<sub>o</sub> = 100W\n",
    "- &#916;V<sub>o</sub> &#8804; 1%\n",
    "- &#916;I<sub>L</sub> &#8804; 10%\n",
    "- f<sub>sw</sub> = 20e3\n",
    "- Mosfet: IRFB4310PbF, Infineon"
   ]
  },
  {
   "cell_type": "markdown",
   "metadata": {},
   "source": [
    "# Plecs"
   ]
  },
  {
   "cell_type": "code",
   "execution_count": 46,
   "metadata": {},
   "outputs": [],
   "source": [
    "import xmlrpc.client as xml\n",
    "import os\n",
    "import numpy as np\n",
    "import itertools\n",
    "import csv"
   ]
  },
  {
   "cell_type": "code",
   "execution_count": 47,
   "metadata": {},
   "outputs": [],
   "source": [
    "model = 'buck'\n",
    "file_type = '.plecs'\n",
    "V_in = 48\n",
    "V_out = 12\n",
    "f_sw = 20e3"
   ]
  },
  {
   "cell_type": "code",
   "execution_count": 48,
   "metadata": {},
   "outputs": [],
   "source": [
    "plecs = xml.Server(\"http://localhost:1080/RPC2\").plecs"
   ]
  },
  {
   "cell_type": "code",
   "execution_count": 49,
   "metadata": {},
   "outputs": [
    {
     "data": {
      "text/plain": [
       "0"
      ]
     },
     "execution_count": 49,
     "metadata": {},
     "output_type": "execute_result"
    }
   ],
   "source": [
    "plecs.load(r\"D:\\Krishna\\ai-power-converter\\buck.plecs\")"
   ]
  },
  {
   "cell_type": "code",
   "execution_count": 50,
   "metadata": {},
   "outputs": [
    {
     "data": {
      "text/plain": [
       "{'CommentStatus': 'Active',\n",
       " 'L': '3e-05',\n",
       " 'Name': 'L1',\n",
       " 'Type': 'Inductor',\n",
       " 'i_init': '0'}"
      ]
     },
     "execution_count": 50,
     "metadata": {},
     "output_type": "execute_result"
    }
   ],
   "source": [
    "plecs.get(model+'/L1')"
   ]
  },
  {
   "cell_type": "code",
   "execution_count": 51,
   "metadata": {},
   "outputs": [
    {
     "data": {
      "text/plain": [
       "{'C': '3e-05',\n",
       " 'CommentStatus': 'Active',\n",
       " 'Name': 'C',\n",
       " 'Type': 'Capacitor',\n",
       " 'v_init': '0'}"
      ]
     },
     "execution_count": 51,
     "metadata": {},
     "output_type": "execute_result"
    }
   ],
   "source": [
    "plecs.get(model+'/C')"
   ]
  },
  {
   "cell_type": "code",
   "execution_count": 52,
   "metadata": {},
   "outputs": [
    {
     "data": {
      "text/plain": [
       "{'CommentStatus': 'Active',\n",
       " 'Name': 'Symmetrical PWM1',\n",
       " 'Type': 'Subsystem',\n",
       " 'carrier_limits': '[0 1]',\n",
       " 'carrier_phaseshift': '0',\n",
       " 'fc': '200000',\n",
       " 'output_values': '[-1 1]',\n",
       " 'sampling': 'Natural (carrier starts at center)'}"
      ]
     },
     "execution_count": 52,
     "metadata": {},
     "output_type": "execute_result"
    }
   ],
   "source": [
    "plecs.get(model+'/Symmetrical PWM1')"
   ]
  },
  {
   "cell_type": "code",
   "execution_count": 53,
   "metadata": {},
   "outputs": [
    {
     "data": {
      "text/plain": [
       "{'CommentStatus': 'Active', 'Name': 'RL', 'R': '0.079576', 'Type': 'Resistor'}"
      ]
     },
     "execution_count": 53,
     "metadata": {},
     "output_type": "execute_result"
    }
   ],
   "source": [
    "plecs.get(model+'/RL')"
   ]
  },
  {
   "cell_type": "code",
   "execution_count": 54,
   "metadata": {},
   "outputs": [],
   "source": [
    "RL = plecs.get(model+'/RL', 'R')"
   ]
  },
  {
   "cell_type": "code",
   "execution_count": 55,
   "metadata": {},
   "outputs": [
    {
     "data": {
      "text/plain": [
       "{'CommentStatus': 'Active',\n",
       " 'Name': 'ESR',\n",
       " 'R': '0.0037136153388108916',\n",
       " 'Type': 'Resistor'}"
      ]
     },
     "execution_count": 55,
     "metadata": {},
     "output_type": "execute_result"
    }
   ],
   "source": [
    "plecs.get(model+'/ESR')"
   ]
  },
  {
   "cell_type": "code",
   "execution_count": 56,
   "metadata": {},
   "outputs": [
    {
     "data": {
      "text/plain": [
       "{'CommentStatus': 'Active',\n",
       " 'L': '1.463e-06',\n",
       " 'Name': 'ESL',\n",
       " 'Type': 'Inductor',\n",
       " 'i_init': '0'}"
      ]
     },
     "execution_count": 56,
     "metadata": {},
     "output_type": "execute_result"
    }
   ],
   "source": [
    "plecs.get(model+'/ESL')"
   ]
  },
  {
   "cell_type": "code",
   "execution_count": 57,
   "metadata": {},
   "outputs": [
    {
     "data": {
      "text/plain": [
       "{'CommentStatus': 'Active',\n",
       " 'Configuration': 'on',\n",
       " 'Name': 'Deadtime',\n",
       " 'Type': 'ConfigurableSubsystem',\n",
       " 'td': '1e-06'}"
      ]
     },
     "execution_count": 57,
     "metadata": {},
     "output_type": "execute_result"
    }
   ],
   "source": [
    "plecs.get(model+'/Deadtime')"
   ]
  },
  {
   "cell_type": "code",
   "execution_count": 58,
   "metadata": {},
   "outputs": [
    {
     "name": "stdout",
     "output_type": "stream",
     "text": [
      "Chosen L values: [3.e-05 2.e-03]\n",
      "Chosen C values: [3.e-05 2.e-04]\n",
      "Chosen dead time values: [1.78e-07 1.00e-06]\n",
      "Chosen fsw values: [ 20000 200000]\n",
      "[(3e-05, 3e-05, 20000, 1.78e-07), (3e-05, 3e-05, 20000, 1e-06), (3e-05, 3e-05, 200000, 1.78e-07), (3e-05, 3e-05, 200000, 1e-06), (3e-05, 0.0002, 20000, 1.78e-07), (3e-05, 0.0002, 20000, 1e-06), (3e-05, 0.0002, 200000, 1.78e-07), (3e-05, 0.0002, 200000, 1e-06), (0.002, 3e-05, 20000, 1.78e-07), (0.002, 3e-05, 20000, 1e-06), (0.002, 3e-05, 200000, 1.78e-07), (0.002, 3e-05, 200000, 1e-06), (0.002, 0.0002, 20000, 1.78e-07), (0.002, 0.0002, 20000, 1e-06), (0.002, 0.0002, 200000, 1.78e-07), (0.002, 0.0002, 200000, 1e-06)]\n",
      "\n",
      "Chosen values and simulation results:\n"
     ]
    }
   ],
   "source": [
    "V_in = 48\n",
    "V_out = 12\n",
    "R_on = 5.6\n",
    "t_rise = 110e-9\n",
    "t_fall = 78e-9\n",
    "diode_voltage = 0.5\n",
    "\n",
    "L_range = (30e-6, 2000e-6)  # Range for L\n",
    "C_range = (30e-6, 200e-6)   # Range for C\n",
    "t_dt_range = (0.178e-6, 1e-6) # Range for dead time\n",
    "fsw_range = (20e3, 200e3)    # Range for fsw\n",
    "num_values = 2           # Number of values for each parameter\n",
    "\n",
    "# Borders for R_L\n",
    "border_values = [\n",
    "    (144e-6, 0.079576),\n",
    "    (509e-6, 0.179228),\n",
    "    (1003e-6, 0.253239),\n",
    "    (2519e-6, 0.443394)\n",
    "]\n",
    "\n",
    "# Constants for ESL calculation\n",
    "K_esl = 4.389e-11  # Adjust as needed\n",
    "tan_delta = 0.14\n",
    "\n",
    "# Create arrays of discrete L and C values within the specified ranges with increments of 1e-6\n",
    "L_values = np.linspace(L_range[0], L_range[1], num=num_values)\n",
    "C_values = np.linspace(C_range[0], C_range[1], num=num_values)\n",
    "t_dt_values = np.linspace(t_dt_range[0], t_dt_range[1], num=num_values)\n",
    "\n",
    "\n",
    "# Round the values to the desired number of decimal places\n",
    "L_values = np.around(L_values, decimals=6)\n",
    "C_values = np.around(C_values, decimals=6)\n",
    "t_dt_values = np.around(t_dt_values, decimals=9)\n",
    "\n",
    "fsw_values = np.linspace(fsw_range[0], fsw_range[1], num=num_values, dtype=int)\n",
    "\n",
    "# Initialize arrays to store results\n",
    "average_currents = []\n",
    "delta_currents = []\n",
    "delta_currents_percentage = []\n",
    "\n",
    "# Open a CSV file for writing\n",
    "csv_file_path = 'simulation_results_newest_try_2.csv'\n",
    "\n",
    "# Define the header for the CSV file\n",
    "csv_header = ['No','L', 'C','fsw', 't_dt', 'current', 'voltage' 'delta_current', 'delta_voltage', 'Pl_s1', 'Pl_s2' ,'Pl_C', 'Pl_L_Cu', 'P_D']\n",
    "\n",
    "# Initialize a list to store the data for each simulation\n",
    "csv_data = []\n",
    "\n",
    "# Print the chosen values\n",
    "print(\"Chosen L values:\", L_values)\n",
    "print(\"Chosen C values:\", C_values)\n",
    "print(\"Chosen dead time values:\", t_dt_values)\n",
    "print(\"Chosen fsw values:\", fsw_values)\n",
    "\n",
    "# Generate all combinations of L, C, and fsw\n",
    "combinations = list(itertools.product(L_values, C_values, fsw_values, t_dt_values))\n",
    "print(combinations)\n",
    "# Display the chosen values and simulate\n",
    "print(\"\\nChosen values and simulation results:\")"
   ]
  },
  {
   "cell_type": "markdown",
   "metadata": {},
   "source": [
    "# Functions"
   ]
  },
  {
   "cell_type": "markdown",
   "metadata": {},
   "source": [
    "## Write to CSV"
   ]
  },
  {
   "cell_type": "code",
   "execution_count": 59,
   "metadata": {},
   "outputs": [],
   "source": [
    "def write_to_csv(file_path, header, data):\n",
    "    with open(file_path, 'w', newline='') as csv_file:\n",
    "        csv_writer = csv.writer(csv_file)\n",
    "        csv_writer.writerow(header)\n",
    "        csv_writer.writerows(data)"
   ]
  },
  {
   "cell_type": "markdown",
   "metadata": {},
   "source": [
    "## Ripples"
   ]
  },
  {
   "cell_type": "markdown",
   "metadata": {},
   "source": [
    "### Current\n",
    "- Average\n",
    "- &Delta;I<sub>L</sub>%"
   ]
  },
  {
   "cell_type": "code",
   "execution_count": 60,
   "metadata": {},
   "outputs": [],
   "source": [
    "def calculate_current(times, current, start_time, end_time):\n",
    "    # Convert 'times' to a NumPy array\n",
    "    times = np.array(times)\n",
    "\n",
    "    # Find the indices corresponding to the time range\n",
    "    start_index = np.argmax(times >= start_time)\n",
    "    end_index = np.argmax(times >= end_time)\n",
    "\n",
    "    # Extract the current values in the specified time range\n",
    "    current_range = current[start_index:end_index]\n",
    "\n",
    "    # Calculate the average current value\n",
    "    average_current = np.mean(current_range)\n",
    "\n",
    "    # Calculate the difference between the highest and lowest current values\n",
    "    delta_current = np.max(current_range) - np.min(current_range)\n",
    "\n",
    "    # print(np.max(current_range))\n",
    "    # print(np.min(current_range))\n",
    "    delta_current_percentage = delta_current/average_current *100\n",
    "\n",
    "    return average_current, delta_current, delta_current_percentage"
   ]
  },
  {
   "cell_type": "markdown",
   "metadata": {},
   "source": [
    "### &Delta;V<sub>O</sub>%"
   ]
  },
  {
   "cell_type": "code",
   "execution_count": 61,
   "metadata": {},
   "outputs": [],
   "source": [
    "def calculate_voltage(times, voltage, start_time, end_time):\n",
    "    # Convert 'times' to a NumPy array\n",
    "    times = np.array(times)\n",
    "\n",
    "    # Find the indices corresponding to the time range\n",
    "    start_index = np.argmax(times >= start_time)\n",
    "    end_index = np.argmax(times >= end_time)\n",
    "\n",
    "    # Extract the voltage values in the specified time range\n",
    "    voltage_range = voltage[start_index:end_index]\n",
    "\n",
    "    # Calculate the average voltage value\n",
    "    average_voltage = np.mean(voltage_range)\n",
    "\n",
    "    # Calculate the difference between the highest and lowest voltage values\n",
    "    delta_voltage = np.max(voltage_range) - np.min(voltage_range)\n",
    "\n",
    "    # print('Voltage:')\n",
    "    # print(\"\\nmax:\", np.max(voltage_range))\n",
    "    # print(\"\\nmin:\", np.min(voltage_range))\n",
    "    # print(\"\\ndelta:\",delta_voltage)\n",
    "    # print(\"\\naverage:\",average_voltage)\n",
    "\n",
    "    delta_voltage_percentage = delta_voltage/average_voltage * 100\n",
    "\n",
    "    return average_voltage, delta_voltage, delta_voltage_percentage\n"
   ]
  },
  {
   "cell_type": "markdown",
   "metadata": {},
   "source": [
    "## Switching Losses\n",
    "- Conduction Loss\n",
    "    - R<sub>DS(on)</sub> = R<sub>ON-H</sub> = R<sub>ON-L</sub> = 5.6k&Omega; \n",
    "    - High Side\n",
    "        - P<sub>ON-H</sub> = I<sub>OUT</sub> / 2 &times; R<sub>ON-H</sub> &times; V<sub>OUT</sub> / V<sub>IN</sub> [W]\n",
    "    - Low Side\n",
    "        - P<sub>ON-L</sub> = I<sub>OUT</sub> / 2 &times; R<sub>ON-L</sub> &times; (1 - V<sub>OUT</sub> / V<sub>IN</sub>) [W]\n",
    "- Switching Losses\n",
    "    - t<sub>rise</sub> = 110 ns  \n",
    "    - t<sub>fall</sub> = 78 ns\n",
    "    - High Side\n",
    "        - P<sub>SW-H</sub> = 1/2 &times; V<sub>IN</sub> &times; I<sub>OUT</sub> &times; (t<sub>rise-H</sub> + t<sub>fall-H</sub>) &times; f<sub>SW</sub>\n",
    "    - Low Side\n",
    "        - P<sub>SW-L</sub> = 1/2 &times; V<sub>D</sub> &times; I<sub>OUT</sub> &times; (t<sub>rise-L</sub> + t<sub>fall-L</sub>) &times; f<sub>SW</sub>\n",
    "\n",
    "\n",
    "\n",
    "<strong>Switching Losses<strong> = P<sub>ON-H</sub> + P<sub>ON-L</sub> + P<sub>SW-H</sub> + P<sub>SW-L</sub>"
   ]
  },
  {
   "cell_type": "code",
   "execution_count": 62,
   "metadata": {},
   "outputs": [],
   "source": [
    "def calculate_switching_losses(average_current, V_out, V_in, R_on, t_rise, t_fall, f_sw):\n",
    "    # Calculate power losses during ON state (High and Low)\n",
    "    P_ON_H = average_current / 2 * R_on * V_out / V_in\n",
    "    P_ON_L = average_current / 2 * R_on * V_out / V_in\n",
    "\n",
    "    # Calculate power losses during switching (High and Low)\n",
    "    P_SW_H = 0.5 * V_in * average_current * (t_rise + t_fall) * f_sw\n",
    "    P_SW_L = 0.5 * V_in * average_current * (t_rise + t_fall) * f_sw\n",
    "\n",
    "    # High Side\n",
    "    Pl_s1 = P_ON_H + P_SW_H\n",
    "\n",
    "    #Low Side\n",
    "    Pl_s2 = P_ON_L + P_SW_L\n",
    "\n",
    "    return Pl_s1, Pl_s2\n"
   ]
  },
  {
   "cell_type": "markdown",
   "metadata": {},
   "source": [
    "## Capacitor Loss\n",
    "- P<sub>CAP(ESR)</sub> = I<sub>CAP(RMS)</sub><sup>2</sup>  &#x00D7; ESR [W]\n",
    "- ESR = tan(&#x03B4;) / 2&pi;f<sub>SW</sub>C)\n",
    "    - Dengan 25 V Nippon KZE series: tan &#x03B4; = 0.14\n",
    "- ESL = 1 / (4π² SRF² C)\n",
    "    - Assume SRF = 100kHz\n",
    "- Input Capacitor\n",
    "    - I<sub>CIN(RMS)</sub> = I<sub>OUT</sub> &times; &radic;(V<sub>IN</sub> - V<sub>OUT</sub>) &times; V<sub>OUT</sub> / V<sub>IN</sub> [A]\n",
    "- Output Capacitor\n",
    "    - I<sub>COUT(RMS)</sub> = &Delta;I<sub>L</sub> / (2&radic;3) [A]\n",
    "    - &Delta;I<sub>L</sub> = (V<sub>IN</sub> - V<sub>OUT</sub>) / (f<sub>SW</sub> &times; L) &times; V<sub>OUT</sub> / V<sub>IN</sub> [A]\n",
    "\n",
    "<strong>Capacitor Losses<strong> = P<sub>cap_in</sub> + P<sub>cap_out</sub>"
   ]
  },
  {
   "cell_type": "code",
   "execution_count": 63,
   "metadata": {},
   "outputs": [],
   "source": [
    "def calculate_capacitor_losses(average_current, V_in, V_out, f_sw, L, ESR):\n",
    "    I_cin = average_current * np.sqrt(V_in - V_out) * V_out / V_in\n",
    "    I_L = ((V_in - V_out) / (f_sw * L)) * (V_out / V_in)\n",
    "\n",
    "    I_cout = I_L / (2 * np.sqrt(3))\n",
    "    P_cap_in = I_cin**2 * ESR\n",
    "    P_cap_out = I_cout**2 * ESR\n",
    "\n",
    "    Pl_C = P_cap_in + P_cap_out\n",
    "\n",
    "    return Pl_C\n"
   ]
  },
  {
   "cell_type": "markdown",
   "metadata": {},
   "source": [
    "## Inductor Loss\n",
    "- Inductor Copper Loss\n",
    "    - P<sub>Copper, L</sub> = I<sub>RMS</sub><sup>2</sup> &middot; R<sub>L</sub>\n",
    "<br>\n",
    "    - I<sub>RMS</sub> = &radic;(I<sub>AVG</sub><sup>2</sup> + <sup>1</sup>&frasl;<sub>12</sub> &Delta;I<sub>L</sub><sup>2</sup>)"
   ]
  },
  {
   "cell_type": "code",
   "execution_count": 64,
   "metadata": {},
   "outputs": [],
   "source": [
    "def calculate_inductor_copper_loss(average_current, delta_current, R_L):\n",
    "    I_rms = np.sqrt(average_current**2 + 1/12 * delta_current**2)\n",
    "    Pl_L_Cu = I_rms**2 * R_L\n",
    "\n",
    "    return Pl_L_Cu"
   ]
  },
  {
   "cell_type": "markdown",
   "metadata": {},
   "source": [
    "## Dead time losses"
   ]
  },
  {
   "cell_type": "markdown",
   "metadata": {},
   "source": [
    "- t<sub>d(on)</sub> = 26 nS\n",
    "- t<sub>d(off)</sub> = 68 nS\n",
    "- t<sub>r</sub> = 110 nS\n",
    "- t<sub>f</sub> = 78 nS\n",
    "- Safety factor = 20%\n",
    "- V<sub>D</sub> = 0.5V\n",
    "\n",
    "<strong>t<sub>dt</sub><strong> = (t<sub>r</sub> + t<sub>d(off)</sub>) = 178 nS\n",
    "\n",
    "<strong>t<sub>dt</sub><strong> = t<sub>Dr</sub> = t<sub>Df</sub>   \n",
    "\n",
    "<strong>P<sub>D</sub></strong> = V<sub>D</sub> × I<sub>out</sub> × (t<sub>Dr</sub> + t<sub>Df</sub>) × f<sub>sw</sub>\n"
   ]
  },
  {
   "cell_type": "code",
   "execution_count": 65,
   "metadata": {},
   "outputs": [],
   "source": [
    "def calculate_dead_time_loss(average_current, f_sw, t_dt):\n",
    "    P_D = diode_voltage * average_current * 2 * t_dt * f_sw\n",
    "\n",
    "    return P_D"
   ]
  },
  {
   "cell_type": "markdown",
   "metadata": {},
   "source": [
    "# Single"
   ]
  },
  {
   "cell_type": "code",
   "execution_count": 74,
   "metadata": {},
   "outputs": [
    {
     "name": "stdout",
     "output_type": "stream",
     "text": [
      "Average Current between 0.004 and 0.005 seconds: 2.369076212400351 A\n",
      "Average Voltage between 0.004 and 0.005 seconds: 11.754836343978347 V\n",
      "Difference between highest and lowest current values between 0.004 and 0.005 seconds: 14.942629474599412 A\n",
      "Difference between highest and lowest current values between 0.004 and 0.005 seconds: 630.7365460167921 %\n",
      "Difference between highest and lowest voltage values between 0.004 and 0.005 seconds: 2.6239245267616482 V\n",
      "Difference between highest and lowest voltage values between 0.004 and 0.005 seconds: 22.322084714567776 %\n",
      "High Side Switching Losses: 1.8721387860872531 W\n",
      "Low Side Switching  Losses: 1.8721387860872531 W\n",
      "Capacitor Losses: 1.1652647096399509 W\n",
      "Inductor Copper Losses: 1.927280592538472 W\n",
      "Dead time Losses: 0.00843391131614525 W\n",
      "Total Losses: 6.845256785669075 W\n"
     ]
    }
   ],
   "source": [
    "val_test =[3e-05,3e-05,20000,1.78e-07]\n",
    "\n",
    "L = val_test[0]\n",
    "C = val_test[1]\n",
    "fsw = val_test[2]\n",
    "t_dt = val_test[3]\n",
    "\n",
    "R_L = next((rl for border, rl in border_values if L <= border), 0.0)\n",
    "\n",
    "# Calculate ESR and ESL based on the updated C\n",
    "ESR = tan_delta / (2 * np.pi * fsw * C)\n",
    "ESL = K_esl / C\n",
    "\n",
    "# Set Plecs parameters and simulate\n",
    "plecs.set(model+'/L1', 'L', str(L))\n",
    "plecs.set(model+'/C', 'C', str(C))\n",
    "plecs.set(model+'/Symmetrical PWM1', 'fc', str(fsw))\n",
    "plecs.set(model+'/RL', 'R', str(R_L))\n",
    "plecs.set(model+'/ESR', 'R', str(ESR))\n",
    "plecs.set(model+'/ESL', 'L', str(ESL))\n",
    "plecs.set(model+'/Deadtime', 'td', str(t_dt))\n",
    "\n",
    "times = plecs.simulate(model)['Time']\n",
    "current = plecs.simulate(model)['Values'][0]\n",
    "voltage = plecs.simulate(model)['Values'][1]\n",
    "\n",
    "# Calculate average and delta current using the function\n",
    "average_current, delta_current, delta_current_percentage = calculate_current(times, current, start_time=0.004, end_time=0.005)\n",
    "average_voltage, delta_voltage, delta_voltage_percentage = calculate_voltage(times, voltage, start_time=0.004, end_time=0.005)\n",
    "Pl_s1, Pl_s2 = calculate_switching_losses(average_current, V_out, V_in, R_on, t_rise, t_fall, fsw)\n",
    "Pl_C = calculate_capacitor_losses(average_current, V_in, V_out, fsw, L, ESR)\n",
    "Pl_L_Cu = calculate_inductor_copper_loss(average_current, delta_current, R_L)\n",
    "P_D = calculate_dead_time_loss(average_current, fsw, t_dt)\n",
    "\n",
    "\n",
    "print(f\"Average Current between 0.004 and 0.005 seconds: {average_current} A\")\n",
    "print(f\"Average Voltage between 0.004 and 0.005 seconds: {average_voltage} V\")\n",
    "print(f\"Difference between highest and lowest current values between 0.004 and 0.005 seconds: {delta_current} A\")\n",
    "print(f\"Difference between highest and lowest current values between 0.004 and 0.005 seconds: {delta_current_percentage} %\")\n",
    "print(f\"Difference between highest and lowest voltage values between 0.004 and 0.005 seconds: {delta_voltage} V\")\n",
    "print(f\"Difference between highest and lowest voltage values between 0.004 and 0.005 seconds: {delta_voltage_percentage} %\")\n",
    "print(f\"High Side Switching Losses: {Pl_s1} W\")\n",
    "print(f\"Low Side Switching  Losses: {Pl_s2} W\")\n",
    "print(f\"Capacitor Losses: {Pl_C} W\")\n",
    "print(f\"Inductor Copper Losses: {Pl_L_Cu} W\")\n",
    "print(f\"Dead time Losses: {P_D} W\")\n",
    "print(f\"Total Losses: {Pl_s1 + Pl_s2 + Pl_C + Pl_L_Cu + P_D} W\")"
   ]
  },
  {
   "cell_type": "markdown",
   "metadata": {},
   "source": [
    "# Loop"
   ]
  },
  {
   "cell_type": "code",
   "execution_count": 67,
   "metadata": {},
   "outputs": [
    {
     "name": "stdout",
     "output_type": "stream",
     "text": [
      "\n",
      "Simulation 1\n",
      "\n",
      "Simulation 2\n",
      "\n",
      "Simulation 3\n",
      "\n",
      "Simulation 4\n",
      "\n",
      "Simulation 5\n",
      "\n",
      "Simulation 6\n",
      "\n",
      "Simulation 7\n",
      "\n",
      "Simulation 8\n",
      "\n",
      "Simulation 9\n",
      "\n",
      "Simulation 10\n",
      "\n",
      "Simulation 11\n",
      "\n",
      "Simulation 12\n",
      "\n",
      "Simulation 13\n",
      "\n",
      "Simulation 14\n",
      "\n",
      "Simulation 15\n",
      "\n",
      "Simulation 16\n"
     ]
    }
   ],
   "source": [
    "# Loop through the combinations and simulate\n",
    "csv_data = []\n",
    "for simulation_num, (L, C, fsw, t_dt) in enumerate(combinations, start=1):\n",
    "    # Rules for picking R_L based on L\n",
    "    R_L = next((rl for border, rl in border_values if L <= border), 0.0)\n",
    "\n",
    "    # Calculate ESR and ESL based on the updated C\n",
    "    ESR = tan_delta / (2 * np.pi * fsw * C)\n",
    "    ESL = K_esl / C\n",
    "\n",
    "    # Set Plecs parameters and simulate\n",
    "    plecs.set(model+'/L1', 'L', str(L))\n",
    "    plecs.set(model+'/C', 'C', str(C))\n",
    "    plecs.set(model+'/Symmetrical PWM1', 'fc', str(fsw))\n",
    "    plecs.set(model+'/RL', 'R', str(R_L))\n",
    "    plecs.set(model+'/ESR', 'R', str(ESR))\n",
    "    plecs.set(model+'/ESL', 'L', str(ESL))\n",
    "    plecs.set(model+'/Deadtime', 'td', str(t_dt))\n",
    "\n",
    "    times = plecs.simulate(model)['Time']\n",
    "    current = plecs.simulate(model)['Values'][0]\n",
    "    voltage = plecs.simulate(model)['Values'][1]\n",
    "\n",
    "    # Calculate average and delta current using the function\n",
    "    average_current, delta_current, delta_current_percentage = calculate_current(times, current, start_time=0.004, end_time=0.005)\n",
    "    average_voltage, delta_voltage, delta_voltage_percentage = calculate_voltage(times, voltage, start_time=0.004, end_time=0.005)\n",
    "    Pl_s1, Pl_s2 = calculate_switching_losses(average_current, V_out, V_in, R_on, t_rise, t_fall, fsw)\n",
    "    Pl_C = calculate_capacitor_losses(average_current, V_in, V_out, fsw, L, ESR)\n",
    "    Pl_L_Cu = calculate_inductor_copper_loss(average_current, delta_current, R_L)\n",
    "    P_D = calculate_dead_time_loss(average_current, fsw, t_dt)\n",
    "\n",
    "    # Append the data for this simulation to the list\n",
    "    csv_data.append([simulation_num,L, C, fsw, t_dt, average_current, average_voltage, delta_current_percentage, delta_voltage_percentage, Pl_s1, Pl_s2, Pl_C, Pl_L_Cu, P_D])\n",
    "\n",
    "    print(f'\\nSimulation {simulation_num}')\n",
    "    # print(f'\\nSimulation {simulation_num} for L={L:.6f}, C={C:.6f}, fsw={fsw:.2f}, RL={R_L:.6f}, ESR={ESR:.6f}, ESL={ESL:.6e}')\n",
    "    # print(f\"\\nSimulation {simulation_num} results:\")\n",
    "    # print(f\"Average Current between 0.004 and 0.005 seconds: {average_current} A\")\n",
    "    # print(f\"Difference between highest and lowest current values between 0.004 and 0.005 seconds: {delta_current} A\")\n",
    "    # print(f\"Difference between highest and lowest current values between 0.004 and 0.005 seconds: {delta_current_percentage} %\")\n",
    "    # print(f\"Difference between highest and lowest voltage values between 0.004 and 0.005 seconds: {delta_voltage} A\")\n",
    "    # print(f\"Difference between highest and lowest voltage values between 0.004 and 0.005 seconds: {delta_voltage_percentage} %\")\n",
    "    # print(f\"High Side Switching Losses: {Pl_s1} W\")\n",
    "    # print(f\"Low Side Switching  Losses: {Pl_s2} W\")\n",
    "    # print(f\"Capacitor Losses: {Pl_C} W\")\n",
    "    # print(f\"Inductor Copper Losses: {Pl_L_Cu} W\")\n",
    "    # print(f\"Dead time Losses: {P_D} W\")\n",
    "    # print(f\"Total Losses: {Pl_s1 + Pl_s2 + Pl_C + Pl_L_Cu + P_D} W\")"
   ]
  },
  {
   "cell_type": "code",
   "execution_count": 68,
   "metadata": {},
   "outputs": [],
   "source": [
    "# Use the function to write data to the CSV file\n",
    "write_to_csv(csv_file_path, csv_header, csv_data)"
   ]
  }
 ],
 "metadata": {
  "kernelspec": {
   "display_name": "Python 3",
   "language": "python",
   "name": "python3"
  },
  "language_info": {
   "codemirror_mode": {
    "name": "ipython",
    "version": 3
   },
   "file_extension": ".py",
   "mimetype": "text/x-python",
   "name": "python",
   "nbconvert_exporter": "python",
   "pygments_lexer": "ipython3",
   "version": "3.9.2"
  }
 },
 "nbformat": 4,
 "nbformat_minor": 2
}
