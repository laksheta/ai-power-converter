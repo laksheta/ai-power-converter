{
 "cells": [
  {
   "cell_type": "code",
   "execution_count": 1,
   "metadata": {},
   "outputs": [],
   "source": [
    "import numpy as np\n",
    "import tensorflow as tf\n",
    "import pandas as pd\n",
    "from sklearn.model_selection import train_test_split\n",
    "from sklearn.preprocessing import MinMaxScaler\n",
    "from tensorflow.keras.callbacks import ReduceLROnPlateau\n",
    "from tensorflow.keras.regularizers import l2\n",
    "import matplotlib.pyplot as plt\n",
    "from tensorflow.keras.callbacks import EarlyStopping"
   ]
  },
  {
   "cell_type": "markdown",
   "metadata": {},
   "source": [
    "# Machine Learning"
   ]
  },
  {
   "cell_type": "markdown",
   "metadata": {},
   "source": [
    "## Scaling"
   ]
  },
  {
   "cell_type": "code",
   "execution_count": 2,
   "metadata": {},
   "outputs": [],
   "source": [
    "# Define your scaling function\n",
    "def custom_scaling(input_values):\n",
    "    input_values_scaled = np.zeros_like(input_values, dtype=float)  # Initialize scaled data array\n",
    "    input_values_scaled[:, 0] = (input_values[:, 0] - L_min) / (L_max - L_min)  # Scale L\n",
    "    input_values_scaled[:, 1] = (input_values[:, 1] - C_min) / (C_max - C_min)  # Scale C\n",
    "    input_values_scaled[:, 2] = (input_values[:, 2] - fsw_min) / (fsw_max - fsw_min)  # Scale fsw\n",
    "    input_values_scaled[:, 3] = (input_values[:, 3] - t_dt_min) / (t_dt_max - t_dt_min)  # Scale fsw\n",
    "    \n",
    "    return input_values_scaled"
   ]
  },
  {
   "cell_type": "markdown",
   "metadata": {},
   "source": [
    "## Learning rate + regularization"
   ]
  },
  {
   "cell_type": "code",
   "execution_count": 3,
   "metadata": {},
   "outputs": [
    {
     "name": "stdout",
     "output_type": "stream",
     "text": [
      "Epoch 1/100\n",
      "574/591 [============================>.] - ETA: 0s - loss: 1.1311Epoch 1/100, Loss: 1.1182609796524048, Val Loss: 0.6501613855361938\n",
      "591/591 [==============================] - 3s 2ms/step - loss: 1.1183 - val_loss: 0.6502 - lr: 0.0010\n",
      "Epoch 2/100\n",
      "590/591 [============================>.] - ETA: 0s - loss: 0.4705Epoch 2/100, Loss: 0.47046607732772827, Val Loss: 0.32689473032951355\n",
      "591/591 [==============================] - 1s 2ms/step - loss: 0.4705 - val_loss: 0.3269 - lr: 0.0010\n",
      "Epoch 3/100\n",
      "564/591 [===========================>..] - ETA: 0s - loss: 0.3118Epoch 3/100, Loss: 0.3109547793865204, Val Loss: 0.3099943697452545\n",
      "591/591 [==============================] - 1s 2ms/step - loss: 0.3110 - val_loss: 0.3100 - lr: 0.0010\n",
      "Epoch 4/100\n",
      "581/591 [============================>.] - ETA: 0s - loss: 0.2775Epoch 4/100, Loss: 0.27719637751579285, Val Loss: 0.23996514081954956\n",
      "591/591 [==============================] - 1s 2ms/step - loss: 0.2772 - val_loss: 0.2400 - lr: 0.0010\n",
      "Epoch 5/100\n",
      "582/591 [============================>.] - ETA: 0s - loss: 0.2728Epoch 5/100, Loss: 0.2735949456691742, Val Loss: 0.21828074753284454\n",
      "591/591 [==============================] - 1s 2ms/step - loss: 0.2736 - val_loss: 0.2183 - lr: 0.0010\n",
      "Epoch 6/100\n",
      "590/591 [============================>.] - ETA: 0s - loss: 0.2699Epoch 6/100, Loss: 0.2698826491832733, Val Loss: 0.27314913272857666\n",
      "591/591 [==============================] - 1s 2ms/step - loss: 0.2699 - val_loss: 0.2731 - lr: 0.0010\n",
      "Epoch 7/100\n",
      "570/591 [===========================>..] - ETA: 0s - loss: 0.2813Epoch 7/100, Loss: 0.2808433175086975, Val Loss: 0.23576033115386963\n",
      "591/591 [==============================] - 1s 2ms/step - loss: 0.2808 - val_loss: 0.2358 - lr: 0.0010\n",
      "Epoch 8/100\n",
      "580/591 [============================>.] - ETA: 0s - loss: 0.2802Epoch 8/100, Loss: 0.28108760714530945, Val Loss: 0.2759239971637726\n",
      "591/591 [==============================] - 1s 2ms/step - loss: 0.2811 - val_loss: 0.2759 - lr: 0.0010\n",
      "Epoch 9/100\n",
      "576/591 [============================>.] - ETA: 0s - loss: 0.2623Epoch 9/100, Loss: 0.26212456822395325, Val Loss: 0.1984027475118637\n",
      "591/591 [==============================] - 1s 2ms/step - loss: 0.2621 - val_loss: 0.1984 - lr: 5.0000e-04\n",
      "Epoch 10/100\n",
      "587/591 [============================>.] - ETA: 0s - loss: 0.2551Epoch 10/100, Loss: 0.2554855942726135, Val Loss: 0.24010542035102844\n",
      "591/591 [==============================] - 1s 2ms/step - loss: 0.2555 - val_loss: 0.2401 - lr: 5.0000e-04\n",
      "Epoch 11/100\n",
      "583/591 [============================>.] - ETA: 0s - loss: 0.2449Epoch 11/100, Loss: 0.245104119181633, Val Loss: 0.22148345410823822\n",
      "591/591 [==============================] - 1s 2ms/step - loss: 0.2451 - val_loss: 0.2215 - lr: 5.0000e-04\n",
      "Epoch 12/100\n",
      "586/591 [============================>.] - ETA: 0s - loss: 0.2350Epoch 12/100, Loss: 0.23492704331874847, Val Loss: 0.1921013593673706\n",
      "591/591 [==============================] - 1s 2ms/step - loss: 0.2349 - val_loss: 0.1921 - lr: 5.0000e-04\n",
      "Epoch 13/100\n",
      "578/591 [============================>.] - ETA: 0s - loss: 0.2336Epoch 13/100, Loss: 0.2343059480190277, Val Loss: 0.2163790911436081\n",
      "591/591 [==============================] - 1s 2ms/step - loss: 0.2343 - val_loss: 0.2164 - lr: 5.0000e-04\n",
      "Epoch 14/100\n",
      "584/591 [============================>.] - ETA: 0s - loss: 0.2297Epoch 14/100, Loss: 0.22941000759601593, Val Loss: 0.17807358503341675\n",
      "591/591 [==============================] - 1s 2ms/step - loss: 0.2294 - val_loss: 0.1781 - lr: 5.0000e-04\n",
      "Epoch 15/100\n",
      "589/591 [============================>.] - ETA: 0s - loss: 0.2271Epoch 15/100, Loss: 0.22712577879428864, Val Loss: 0.3229987323284149\n",
      "591/591 [==============================] - 1s 2ms/step - loss: 0.2271 - val_loss: 0.3230 - lr: 5.0000e-04\n",
      "Epoch 16/100\n",
      "587/591 [============================>.] - ETA: 0s - loss: 0.2284Epoch 16/100, Loss: 0.2285885363817215, Val Loss: 0.20669320225715637\n",
      "591/591 [==============================] - 1s 2ms/step - loss: 0.2286 - val_loss: 0.2067 - lr: 5.0000e-04\n",
      "Epoch 17/100\n",
      "581/591 [============================>.] - ETA: 0s - loss: 0.2289Epoch 17/100, Loss: 0.22876854240894318, Val Loss: 0.1810782551765442\n",
      "591/591 [==============================] - 1s 2ms/step - loss: 0.2288 - val_loss: 0.1811 - lr: 5.0000e-04\n",
      "Epoch 18/100\n",
      "588/591 [============================>.] - ETA: 0s - loss: 0.2141Epoch 18/100, Loss: 0.21431057155132294, Val Loss: 0.15263158082962036\n",
      "591/591 [==============================] - 1s 2ms/step - loss: 0.2143 - val_loss: 0.1526 - lr: 2.5000e-04\n",
      "Epoch 19/100\n",
      "579/591 [============================>.] - ETA: 0s - loss: 0.2101Epoch 19/100, Loss: 0.21029578149318695, Val Loss: 0.16952349245548248\n",
      "591/591 [==============================] - 1s 2ms/step - loss: 0.2103 - val_loss: 0.1695 - lr: 2.5000e-04\n",
      "Epoch 20/100\n",
      "576/591 [============================>.] - ETA: 0s - loss: 0.2080Epoch 20/100, Loss: 0.20754092931747437, Val Loss: 0.12361340969800949\n",
      "591/591 [==============================] - 1s 2ms/step - loss: 0.2075 - val_loss: 0.1236 - lr: 2.5000e-04\n",
      "Epoch 21/100\n",
      "574/591 [============================>.] - ETA: 0s - loss: 0.2044Epoch 21/100, Loss: 0.20461615920066833, Val Loss: 0.14158672094345093\n",
      "591/591 [==============================] - 1s 2ms/step - loss: 0.2046 - val_loss: 0.1416 - lr: 2.5000e-04\n",
      "Epoch 22/100\n",
      "591/591 [==============================] - ETA: 0s - loss: 0.2039Epoch 22/100, Loss: 0.20392122864723206, Val Loss: 0.13546748459339142\n",
      "591/591 [==============================] - 1s 2ms/step - loss: 0.2039 - val_loss: 0.1355 - lr: 2.5000e-04\n",
      "Epoch 23/100\n",
      "574/591 [============================>.] - ETA: 0s - loss: 0.2008Epoch 23/100, Loss: 0.2007453590631485, Val Loss: 0.13065610826015472\n",
      "591/591 [==============================] - 1s 2ms/step - loss: 0.2007 - val_loss: 0.1307 - lr: 2.5000e-04\n",
      "Epoch 24/100\n",
      "580/591 [============================>.] - ETA: 0s - loss: 0.1902Epoch 24/100, Loss: 0.19025681912899017, Val Loss: 0.12244966626167297\n",
      "591/591 [==============================] - 1s 2ms/step - loss: 0.1903 - val_loss: 0.1224 - lr: 1.2500e-04\n",
      "Epoch 25/100\n",
      "583/591 [============================>.] - ETA: 0s - loss: 0.1921Epoch 25/100, Loss: 0.1917910873889923, Val Loss: 0.1239144504070282\n",
      "591/591 [==============================] - 1s 2ms/step - loss: 0.1918 - val_loss: 0.1239 - lr: 1.2500e-04\n",
      "Epoch 26/100\n",
      "582/591 [============================>.] - ETA: 0s - loss: 0.1883Epoch 26/100, Loss: 0.18815094232559204, Val Loss: 0.1233150064945221\n",
      "591/591 [==============================] - 1s 2ms/step - loss: 0.1882 - val_loss: 0.1233 - lr: 1.2500e-04\n",
      "Epoch 27/100\n",
      "588/591 [============================>.] - ETA: 0s - loss: 0.1865Epoch 27/100, Loss: 0.18654654920101166, Val Loss: 0.1191471666097641\n",
      "591/591 [==============================] - 1s 2ms/step - loss: 0.1865 - val_loss: 0.1191 - lr: 1.2500e-04\n",
      "Epoch 28/100\n",
      "564/591 [===========================>..] - ETA: 0s - loss: 0.1868Epoch 28/100, Loss: 0.18746145069599152, Val Loss: 0.09830639511346817\n",
      "591/591 [==============================] - 1s 2ms/step - loss: 0.1875 - val_loss: 0.0983 - lr: 1.2500e-04\n",
      "Epoch 29/100\n",
      "583/591 [============================>.] - ETA: 0s - loss: 0.1873Epoch 29/100, Loss: 0.18736118078231812, Val Loss: 0.11885521560907364\n",
      "591/591 [==============================] - 1s 2ms/step - loss: 0.1874 - val_loss: 0.1189 - lr: 1.2500e-04\n",
      "Epoch 30/100\n",
      "585/591 [============================>.] - ETA: 0s - loss: 0.1859Epoch 30/100, Loss: 0.18555894494056702, Val Loss: 0.11807506531476974\n",
      "591/591 [==============================] - 1s 2ms/step - loss: 0.1856 - val_loss: 0.1181 - lr: 1.2500e-04\n",
      "Epoch 31/100\n",
      "589/591 [============================>.] - ETA: 0s - loss: 0.1879Epoch 31/100, Loss: 0.18821735680103302, Val Loss: 0.10845393687486649\n",
      "591/591 [==============================] - 1s 2ms/step - loss: 0.1882 - val_loss: 0.1085 - lr: 1.2500e-04\n",
      "Epoch 32/100\n",
      "587/591 [============================>.] - ETA: 0s - loss: 0.1804Epoch 32/100, Loss: 0.1802905648946762, Val Loss: 0.11054965108633041\n",
      "591/591 [==============================] - 1s 2ms/step - loss: 0.1803 - val_loss: 0.1105 - lr: 6.2500e-05\n",
      "Epoch 33/100\n",
      "591/591 [==============================] - ETA: 0s - loss: 0.1801Epoch 33/100, Loss: 0.18006250262260437, Val Loss: 0.10292045772075653\n",
      "Restoring model weights from the end of the best epoch: 28.\n",
      "591/591 [==============================] - 1s 2ms/step - loss: 0.1801 - val_loss: 0.1029 - lr: 6.2500e-05\n",
      "Epoch 33: early stopping\n"
     ]
    },
    {
     "data": {
      "image/png": "[encoded data removed]",
      "text/plain": [
       "<Figure size 640x480 with 1 Axes>"
      ]
     },
     "metadata": {},
     "output_type": "display_data"
    }
   ],
   "source": [
    "# Load your simulation data\n",
    "# Replace \"your_dataset.csv\" with the path to your dataset\n",
    "df = pd.read_csv(r\"E:\\ai-power-converter\\simulation_results_new_20_20_20_20.csv\")\n",
    "\n",
    "# Define custom scaling ranges for each input feature\n",
    "L_min, L_max = 30e-6, 2000e-6\n",
    "C_min, C_max = 20e-6, 1000e-6\n",
    "fsw_min, fsw_max = 20e3, 200e3\n",
    "t_dt_min, t_dt_max = 0.178e-6, 1e-6\n",
    "\n",
    "\n",
    "# Extract input features (L, C, fsw)\n",
    "X = df[['L', 'C', 'fsw', 't_dt']].values\n",
    "\n",
    "# Extract output (ripples)\n",
    "y = df[[\"delta_current\", \"delta_voltage\", \"Pl_s1\", \"Pl_s2\", \"Pl_C\", \"Pl_L_Cu\", \"P_D\"]].values  # Adjust column names as per your dataset\n",
    "\n",
    "# Apply custom scaling\n",
    "X_scaled = custom_scaling(X)\n",
    "\n",
    "# Define early stopping criteria\n",
    "early_stopping = EarlyStopping(monitor='val_loss', min_delta=0.001, patience=5, verbose=1, mode='auto', restore_best_weights=True)\n",
    "\n",
    "# Split the dataset into training, validation, and testing sets\n",
    "X_train, X_temp, y_train, y_temp = train_test_split(X_scaled, y, test_size=0.3, random_state=42)\n",
    "X_val, X_test, y_val, y_test = train_test_split(X_temp, y_temp, test_size=0.5, random_state=42)\n",
    "\n",
    "# Define a custom callback to print custom information at the end of each epoch\n",
    "class PrintEpochInfo(tf.keras.callbacks.Callback):\n",
    "    def on_epoch_end(self, epoch, logs=None):\n",
    "        print(f\"Epoch {epoch+1}/{self.params['epochs']}, Loss: {logs['loss']}, Val Loss: {logs['val_loss']}\")\n",
    "\n",
    "\n",
    "model = tf.keras.Sequential([\n",
    "    tf.keras.layers.BatchNormalization(input_shape=(3,)),  # Scalarization layer\n",
    "    tf.keras.layers.Dense(256, activation='relu', kernel_regularizer=l2(0.001)),  # Hidden layer 1 with L2 regularization\n",
    "    tf.keras.layers.BatchNormalization(),                  # Batch normalization\n",
    "    tf.keras.layers.Dense(256, activation='relu', kernel_regularizer=l2(0.001)),  # Hidden layer 2 with L2 regularization\n",
    "    tf.keras.layers.BatchNormalization(),                  # Batch normalization\n",
    "    tf.keras.layers.Dense(256, activation='relu', kernel_regularizer=l2(0.001)),  # Hidden layer 3 with L2 regularization\n",
    "    tf.keras.layers.BatchNormalization(),         \n",
    "    tf.keras.layers.Dense(256, activation='relu', kernel_regularizer=l2(0.001)),  # Hidden layer 2 with L2 regularization\n",
    "    tf.keras.layers.BatchNormalization(),                  # Batch normalization\n",
    "    tf.keras.layers.Dense(256, activation='relu', kernel_regularizer=l2(0.001)),  # Hidden layer 3 with L2 regularization\n",
    "    tf.keras.layers.BatchNormalization(),       \n",
    "    tf.keras.layers.Dense(6, activation='softplus')         # Output layer with 6 neurons\n",
    "])\n",
    "\n",
    "\n",
    "# Compile the model\n",
    "model.compile(optimizer='adam', loss='mean_absolute_error')\n",
    "\n",
    "# Define the learning rate scheduler\n",
    "lr_scheduler = ReduceLROnPlateau(factor=0.5, patience=3, min_lr=1e-6)\n",
    "\n",
    "# Train the model with custom callback to print information at the end of each epoch and early stopping\n",
    "history = model.fit(X_train, y_train, epochs=100, batch_size=32, validation_data=(X_val, y_val), \n",
    "                    callbacks=[PrintEpochInfo(), lr_scheduler, early_stopping], verbose=1)\n",
    "\n",
    "\n",
    "# Plot training and validation loss\n",
    "plt.plot(history.history['loss'], label='Training Loss')\n",
    "plt.plot(history.history['val_loss'], label='Validation Loss')\n",
    "plt.title('Training and Validation Loss')\n",
    "plt.xlabel('Epoch')\n",
    "plt.ylabel('Loss')\n",
    "plt.legend()\n",
    "plt.show()\n"
   ]
  },
  {
   "cell_type": "code",
   "execution_count": 4,
   "metadata": {},
   "outputs": [
    {
     "name": "stderr",
     "output_type": "stream",
     "text": [
      "d:\\Software\\Python\\Lib\\site-packages\\keras\\src\\engine\\training.py:3079: UserWarning: You are saving your model as an HDF5 file via `model.save()`. This file format is considered legacy. We recommend using instead the native Keras format, e.g. `model.save('my_model.keras')`.\n",
      "  saving_api.save_model(\n"
     ]
    }
   ],
   "source": [
    "# Optionally, save the model\n",
    "model.save(\"model_5_256_new.h5\")"
   ]
  },
  {
   "cell_type": "code",
   "execution_count": 5,
   "metadata": {},
   "outputs": [
    {
     "name": "stdout",
     "output_type": "stream",
     "text": [
      "127/127 [==============================] - 0s 733us/step - loss: 0.1032\n",
      "Mean Squared Error on Testing Set: 0.1031736508011818\n",
      "127/127 [==============================] - 0s 796us/step\n",
      "Predictions:\n",
      "[[3.6243826e-02 9.2247581e-01 3.0239167e+00 3.0302920e+00 1.8599544e-02\n",
      "  2.1824157e+00]\n",
      " [7.9592162e-01 4.7937922e+00 1.8468080e+00 1.8401392e+00 6.1179895e-02\n",
      "  9.4627702e-01]\n",
      " [1.3696079e-01 8.4629583e+00 3.4929681e+00 3.4603744e+00 5.4531465e-03\n",
      "  1.1198701e+00]\n",
      " [7.8668989e-02 1.1056147e+00 3.5078089e+00 3.5260160e+00 1.9591685e-02\n",
      "  9.8664385e-01]\n",
      " [3.8570747e-02 1.2761161e+00 3.3360908e+00 3.3420012e+00 1.2621851e-02\n",
      "  2.1697085e+00]]\n",
      "True Values:\n",
      "[[3.73126122e-02 7.47245981e-01 3.03643319e+00 3.03643319e+00\n",
      "  1.72160434e-02 2.15202491e+00]\n",
      " [9.49393284e-01 4.47959053e+00 1.85248205e+00 1.85248205e+00\n",
      "  7.27748221e-02 1.05888718e+00]\n",
      " [1.82801723e-01 9.05225544e+00 3.44051329e+00 3.44051329e+00\n",
      "  6.14689682e-03 1.17069267e+00]\n",
      " [7.21944866e-02 1.01012118e+00 3.53549404e+00 3.53549404e+00\n",
      "  2.30594268e-02 9.72148356e-01]\n",
      " [2.94638994e-02 1.12389005e+00 3.32770238e+00 3.32770238e+00\n",
      "  1.32762606e-02 2.12984532e+00]]\n",
      "Mean Absolute Error (MAE): 0.09256671857812825\n",
      "Root Mean Squared Error (RMSE): 0.3565009526034336\n",
      "R-squared (R2) Score: 0.8437224665638001\n",
      "Mean Absolute Percentage Error (MAPE): 8.433826085491273%\n"
     ]
    }
   ],
   "source": [
    "from sklearn.metrics import mean_absolute_error, r2_score, mean_squared_error\n",
    "\n",
    "# Evaluate the model on the testing set\n",
    "mse = model.evaluate(X_test, y_test)\n",
    "print(\"Mean Squared Error on Testing Set:\", mse)\n",
    "\n",
    "# Use the trained model to make predictions on the testing set\n",
    "predictions = model.predict(X_test)\n",
    "\n",
    "# Print the first few predictions\n",
    "print(\"Predictions:\")\n",
    "print(predictions[:5])\n",
    "\n",
    "# Print the corresponding true values\n",
    "print(\"True Values:\")\n",
    "print(y_test[:5])\n",
    "\n",
    "# Calculate Mean Absolute Error (MAE)\n",
    "mae = mean_absolute_error(y_test, predictions)\n",
    "print(f'Mean Absolute Error (MAE): {mae}')\n",
    "\n",
    "# Calculate Root Mean Squared Error (RMSE)\n",
    "rmse = np.sqrt(mean_squared_error(y_test, predictions))\n",
    "print(f'Root Mean Squared Error (RMSE): {rmse}')\n",
    "\n",
    "# Calculate R-squared (R2) Score\n",
    "r2 = r2_score(y_test, predictions)\n",
    "print(f'R-squared (R2) Score: {r2}')\n",
    "\n",
    "# Calculate Mean Absolute Percentage Error (MAPE)\n",
    "mape = np.mean(np.abs((y_test - predictions) / y_test)) * 100\n",
    "print(f'Mean Absolute Percentage Error (MAPE): {mape}%')"
   ]
  },
  {
   "cell_type": "code",
   "execution_count": 6,
   "metadata": {},
   "outputs": [
    {
     "name": "stdout",
     "output_type": "stream",
     "text": [
      "[[0.55177665 0.0755102  0.72413333]\n",
      " [0.1035533  0.17755102 0.        ]\n",
      " [0.44822335 0.17142857 1.        ]\n",
      " ...\n",
      " [0.58629442 0.07040816 0.62068889]\n",
      " [0.55177665 0.13571429 0.17241111]\n",
      " [0.8964467  0.17142857 0.27586111]]\n"
     ]
    }
   ],
   "source": [
    "print(X_test)"
   ]
  },
  {
   "cell_type": "markdown",
   "metadata": {},
   "source": [
    "# Model"
   ]
  },
  {
   "cell_type": "markdown",
   "metadata": {},
   "source": [
    "## Scaling"
   ]
  },
  {
   "cell_type": "code",
   "execution_count": 4,
   "metadata": {},
   "outputs": [],
   "source": [
    "def scale_input_values(input_values):\n",
    "\n",
    "    input_values_scaled = np.zeros_like(input_values, dtype=float)  # Initialize scaled data array\n",
    "\n",
    "    # Scale L\n",
    "    input_values_scaled[0] = (input_values[0] - L_min) / (L_max - L_min)\n",
    "\n",
    "    # Scale C\n",
    "    input_values_scaled[1] = (input_values[1] - C_min) / (C_max - C_min)\n",
    "\n",
    "    # Scale fsw\n",
    "    input_values_scaled[2] = (input_values[2] - fsw_min) / (fsw_max - fsw_min)\n",
    "\n",
    "    input_values_scaled[3] = (input_values[3] - t_dt_min) / (t_dt_max - t_dt_min)\n",
    "    # Make predictions using the model\n",
    "\n",
    "    # Reshape the input data to match the expected shape of the model\n",
    "    input_values_reshaped = input_values_scaled.reshape((1, -1))\n",
    "\n",
    "    return input_values_reshaped"
   ]
  },
  {
   "cell_type": "markdown",
   "metadata": {},
   "source": [
    "## Load Model"
   ]
  },
  {
   "cell_type": "code",
   "execution_count": 16,
   "metadata": {},
   "outputs": [
    {
     "name": "stdout",
     "output_type": "stream",
     "text": [
      "1/1 [==============================] - 0s 167ms/step\n",
      "Original output: [6.30736546e+02 2.23220847e+01 1.87213879e+00 1.87213879e+00\n",
      " 1.16526471e+00 1.92728059e+00 8.43391132e-03]\n",
      "Predicted output: [[7.0245337e+02 2.5512062e+01 1.9589772e+00 1.7952534e+00 2.5524348e-02\n",
      "  1.1584159e+00 2.2137238e-01]]\n",
      "Mean Absolute Error: 11.027438259791428\n",
      "Mean Absolute Percentage Error (MAPE): 385.27123826818104%\n"
     ]
    }
   ],
   "source": [
    "\n",
    "\n",
    "# Load the model\n",
    "model = tf.keras.models.load_model(r'E:\\ai-power-converter\\machine-learning\\model_4_128_20_20_20_20.h5')\n",
    "\n",
    "L_min, L_max = 30e-6, 2000e-6\n",
    "C_min, C_max = 20e-6, 1000e-6\n",
    "fsw_min, fsw_max = 20e3, 200e3\n",
    "t_dt_min, t_dt_max = 0.178e-6, 1e-6\n",
    "\n",
    "# Define the input values\n",
    "input_values = np.array([3e-05,3e-05,20000,1.78e-07])  # Replace these values with your actual input values\n",
    "\n",
    "input_values_scaled = scale_input_values(input_values)\n",
    "\n",
    "# Make predictions using the model\n",
    "prediction = model.predict(input_values_scaled)\n",
    "# 3e-05,3e-05,29473.684210526317,4.173315066606831,19.44152069744096,1.9789759711750268,1.9789759711750268,0.5375860903195137,1.1010299411829958\n",
    "# 0.0006521052631578,0.0001194736842105,143157.89473684208,0.0867577616798147,1.8022857528367369,3.1017004916475472,3.1017004916475472,0.0155677936159264,1.3457323804555696\n",
    "\n",
    "# Define the original output values obtained from your simulation\n",
    "original_output = np.array([630.7365460167921,22.322084714567776,1.8721387860872531,1.8721387860872531,1.1652647096399509,1.927280592538472,0.00843391131614525])  # Replace these values with your actual output values\n",
    "\n",
    "# Calculate the mean absolute error between original and predicted output values\n",
    "mae = np.mean(np.abs(original_output - prediction))\n",
    "\n",
    "# Calculate Mean Absolute Percentage Error (MAPE)\n",
    "mape = np.mean(np.abs((original_output - prediction) / original_output)) * 100\n",
    "\n",
    "# Print the original and predicted output values for comparison\n",
    "print(\"Original output:\", original_output)\n",
    "print(\"Predicted output:\", prediction)\n",
    "print(\"Mean Absolute Error:\", mae)\n",
    "print(f'Mean Absolute Percentage Error (MAPE): {mape}%')\n"
   ]
  },
  {
   "cell_type": "markdown",
   "metadata": {},
   "source": [
    "model_5_256.h5\n",
    "Original output: [0.08675776 1.80228575 3.10170049 3.10170049 0.01556779 1.34573238]\n",
    "Predicted output: [[0.07611273 2.215468   3.096919   3.093316   0.01535417 1.3317415 ]]\n",
    "Mean Absolute Error: 0.07519960021255918\n",
    "Mean Absolute Percentage Error (MAPE): 6.338601044481275%\n",
    "\n",
    "model_3_256.h5\n",
    "Original output: [0.08675776 1.80228575 3.10170049 3.10170049 0.01556779 1.34573238]\n",
    "Predicted output: [[0.11215301 2.2457957  3.0929043  3.0988061  0.01894178 1.3158761 ]]\n",
    "Mean Absolute Error: 0.08563766249885481\n",
    "Mean Absolute Percentage Error (MAPE): 13.02466772681769%"
   ]
  }
 ],
 "metadata": {
  "kernelspec": {
   "display_name": "Python 3",
   "language": "python",
   "name": "python3"
  },
  "language_info": {
   "codemirror_mode": {
    "name": "ipython",
    "version": 3
   },
   "file_extension": ".py",
   "mimetype": "text/x-python",
   "name": "python",
   "nbconvert_exporter": "python",
   "pygments_lexer": "ipython3",
   "version": "3.11.6"
  }
 },
 "nbformat": 4,
 "nbformat_minor": 2
}
