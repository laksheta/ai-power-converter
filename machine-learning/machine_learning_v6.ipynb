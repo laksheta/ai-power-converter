{
 "cells": [
  {
   "cell_type": "code",
   "execution_count": 1,
   "metadata": {},
   "outputs": [],
   "source": [
    "import numpy as np\n",
    "import tensorflow as tf\n",
    "import pandas as pd\n",
    "from sklearn.model_selection import train_test_split\n",
    "from sklearn.preprocessing import MinMaxScaler\n",
    "from tensorflow.keras.callbacks import ReduceLROnPlateau\n",
    "from tensorflow.keras.regularizers import l2\n",
    "import matplotlib.pyplot as plt\n",
    "from tensorflow.keras.callbacks import EarlyStopping"
   ]
  },
  {
   "cell_type": "markdown",
   "metadata": {},
   "source": [
    "# Machine Learning"
   ]
  },
  {
   "cell_type": "markdown",
   "metadata": {},
   "source": [
    "## Scaling"
   ]
  },
  {
   "cell_type": "code",
   "execution_count": 2,
   "metadata": {},
   "outputs": [],
   "source": [
    "# Define your scaling function\n",
    "def custom_scaling(input_values):\n",
    "    input_values_scaled = np.zeros_like(input_values, dtype=float)  # Initialize scaled data array\n",
    "    input_values_scaled[:, 0] = (input_values[:, 0] - L_min) / (L_max - L_min)  # Scale L\n",
    "    input_values_scaled[:, 1] = (input_values[:, 1] - C_min) / (C_max - C_min)  # Scale C\n",
    "    input_values_scaled[:, 2] = (input_values[:, 2] - fsw_min) / (fsw_max - fsw_min)  # Scale fsw\n",
    "    return input_values_scaled"
   ]
  },
  {
   "cell_type": "markdown",
   "metadata": {},
   "source": [
    "## Learning rate + regularization"
   ]
  },
  {
   "cell_type": "code",
   "execution_count": 13,
   "metadata": {},
   "outputs": [
    {
     "name": "stdout",
     "output_type": "stream",
     "text": [
      "Epoch 1/100\n",
      "589/591 [============================>.] - ETA: 0s - loss: 1.4280Epoch 1/100, Loss: 1.425813913345337, Val Loss: 0.5740305185317993\n",
      "591/591 [==============================] - 6s 9ms/step - loss: 1.4258 - val_loss: 0.5740 - lr: 0.0010\n",
      "Epoch 2/100\n",
      "588/591 [============================>.] - ETA: 0s - loss: 0.4007Epoch 2/100, Loss: 0.4003830850124359, Val Loss: 0.35093429684638977\n",
      "591/591 [==============================] - 5s 9ms/step - loss: 0.4004 - val_loss: 0.3509 - lr: 0.0010\n",
      "Epoch 3/100\n",
      "590/591 [============================>.] - ETA: 0s - loss: 0.3093Epoch 3/100, Loss: 0.3092546761035919, Val Loss: 0.3395457863807678\n",
      "591/591 [==============================] - 5s 9ms/step - loss: 0.3093 - val_loss: 0.3395 - lr: 0.0010\n",
      "Epoch 4/100\n",
      "590/591 [============================>.] - ETA: 0s - loss: 0.2884Epoch 4/100, Loss: 0.2882838547229767, Val Loss: 0.257485032081604\n",
      "591/591 [==============================] - 5s 9ms/step - loss: 0.2883 - val_loss: 0.2575 - lr: 0.0010\n",
      "Epoch 5/100\n",
      "587/591 [============================>.] - ETA: 0s - loss: 0.2886Epoch 5/100, Loss: 0.28869113326072693, Val Loss: 0.2631478011608124\n",
      "591/591 [==============================] - 5s 9ms/step - loss: 0.2887 - val_loss: 0.2631 - lr: 0.0010\n",
      "Epoch 6/100\n",
      "586/591 [============================>.] - ETA: 0s - loss: 0.2919Epoch 6/100, Loss: 0.2920164465904236, Val Loss: 0.2471579760313034\n",
      "591/591 [==============================] - 5s 9ms/step - loss: 0.2920 - val_loss: 0.2472 - lr: 0.0010\n",
      "Epoch 7/100\n",
      "588/591 [============================>.] - ETA: 0s - loss: 0.2889Epoch 7/100, Loss: 0.2888370752334595, Val Loss: 0.4197090268135071\n",
      "591/591 [==============================] - 5s 9ms/step - loss: 0.2888 - val_loss: 0.4197 - lr: 0.0010\n",
      "Epoch 8/100\n",
      "591/591 [==============================] - ETA: 0s - loss: 0.2953Epoch 8/100, Loss: 0.2953238785266876, Val Loss: 0.26577672362327576\n",
      "591/591 [==============================] - 7s 11ms/step - loss: 0.2953 - val_loss: 0.2658 - lr: 0.0010\n",
      "Epoch 9/100\n",
      "588/591 [============================>.] - ETA: 0s - loss: 0.2920Epoch 9/100, Loss: 0.2917552888393402, Val Loss: 0.3922410011291504\n",
      "591/591 [==============================] - 5s 9ms/step - loss: 0.2918 - val_loss: 0.3922 - lr: 0.0010\n",
      "Epoch 10/100\n",
      "587/591 [============================>.] - ETA: 0s - loss: 0.2588Epoch 10/100, Loss: 0.2586492896080017, Val Loss: 0.26638633012771606\n",
      "591/591 [==============================] - 5s 9ms/step - loss: 0.2586 - val_loss: 0.2664 - lr: 5.0000e-04\n",
      "Epoch 11/100\n",
      "586/591 [============================>.] - ETA: 0s - loss: 0.2580Epoch 11/100, Loss: 0.2581625282764435, Val Loss: 0.2171456217765808\n",
      "591/591 [==============================] - 6s 9ms/step - loss: 0.2582 - val_loss: 0.2171 - lr: 5.0000e-04\n",
      "Epoch 12/100\n",
      "586/591 [============================>.] - ETA: 0s - loss: 0.2572Epoch 12/100, Loss: 0.25723323225975037, Val Loss: 0.2546953856945038\n",
      "591/591 [==============================] - 5s 9ms/step - loss: 0.2572 - val_loss: 0.2547 - lr: 5.0000e-04\n",
      "Epoch 13/100\n",
      "590/591 [============================>.] - ETA: 0s - loss: 0.2642Epoch 13/100, Loss: 0.2640793025493622, Val Loss: 0.1886216551065445\n",
      "591/591 [==============================] - 5s 9ms/step - loss: 0.2641 - val_loss: 0.1886 - lr: 5.0000e-04\n",
      "Epoch 14/100\n",
      "590/591 [============================>.] - ETA: 0s - loss: 0.2530Epoch 14/100, Loss: 0.253045916557312, Val Loss: 0.22355470061302185\n",
      "591/591 [==============================] - 5s 9ms/step - loss: 0.2530 - val_loss: 0.2236 - lr: 5.0000e-04\n",
      "Epoch 15/100\n",
      "590/591 [============================>.] - ETA: 0s - loss: 0.2529Epoch 15/100, Loss: 0.25282615423202515, Val Loss: 0.2512111961841583\n",
      "591/591 [==============================] - 5s 9ms/step - loss: 0.2528 - val_loss: 0.2512 - lr: 5.0000e-04\n",
      "Epoch 16/100\n",
      "587/591 [============================>.] - ETA: 0s - loss: 0.2468Epoch 16/100, Loss: 0.24663034081459045, Val Loss: 0.23713035881519318\n",
      "591/591 [==============================] - 5s 9ms/step - loss: 0.2466 - val_loss: 0.2371 - lr: 5.0000e-04\n",
      "Epoch 17/100\n",
      "586/591 [============================>.] - ETA: 0s - loss: 0.2253Epoch 17/100, Loss: 0.2253359854221344, Val Loss: 0.15006421506404877\n",
      "591/591 [==============================] - 5s 9ms/step - loss: 0.2253 - val_loss: 0.1501 - lr: 2.5000e-04\n",
      "Epoch 18/100\n",
      "586/591 [============================>.] - ETA: 0s - loss: 0.2206Epoch 18/100, Loss: 0.22083787620067596, Val Loss: 0.1860114187002182\n",
      "591/591 [==============================] - 5s 9ms/step - loss: 0.2208 - val_loss: 0.1860 - lr: 2.5000e-04\n",
      "Epoch 19/100\n",
      "590/591 [============================>.] - ETA: 0s - loss: 0.2178Epoch 19/100, Loss: 0.21783120930194855, Val Loss: 0.22390298545360565\n",
      "591/591 [==============================] - 5s 9ms/step - loss: 0.2178 - val_loss: 0.2239 - lr: 2.5000e-04\n",
      "Epoch 20/100\n",
      "586/591 [============================>.] - ETA: 0s - loss: 0.2132Epoch 20/100, Loss: 0.21327713131904602, Val Loss: 0.15402916073799133\n",
      "591/591 [==============================] - 5s 9ms/step - loss: 0.2133 - val_loss: 0.1540 - lr: 2.5000e-04\n",
      "Epoch 21/100\n",
      "590/591 [============================>.] - ETA: 0s - loss: 0.2001Epoch 21/100, Loss: 0.20026998221874237, Val Loss: 0.14735621213912964\n",
      "591/591 [==============================] - 5s 9ms/step - loss: 0.2003 - val_loss: 0.1474 - lr: 1.2500e-04\n",
      "Epoch 22/100\n",
      "586/591 [============================>.] - ETA: 0s - loss: 0.1970Epoch 22/100, Loss: 0.1974525898694992, Val Loss: 0.14477577805519104\n",
      "591/591 [==============================] - 5s 9ms/step - loss: 0.1975 - val_loss: 0.1448 - lr: 1.2500e-04\n",
      "Epoch 23/100\n",
      "587/591 [============================>.] - ETA: 0s - loss: 0.2023Epoch 23/100, Loss: 0.20215919613838196, Val Loss: 0.14541077613830566\n",
      "591/591 [==============================] - 5s 9ms/step - loss: 0.2022 - val_loss: 0.1454 - lr: 1.2500e-04\n",
      "Epoch 24/100\n",
      "588/591 [============================>.] - ETA: 0s - loss: 0.1979Epoch 24/100, Loss: 0.19817392528057098, Val Loss: 0.13720203936100006\n",
      "591/591 [==============================] - 5s 9ms/step - loss: 0.1982 - val_loss: 0.1372 - lr: 1.2500e-04\n",
      "Epoch 25/100\n",
      "589/591 [============================>.] - ETA: 0s - loss: 0.1946Epoch 25/100, Loss: 0.19469976425170898, Val Loss: 0.12212139368057251\n",
      "591/591 [==============================] - 5s 9ms/step - loss: 0.1947 - val_loss: 0.1221 - lr: 1.2500e-04\n",
      "Epoch 26/100\n",
      "587/591 [============================>.] - ETA: 0s - loss: 0.1945Epoch 26/100, Loss: 0.19470754265785217, Val Loss: 0.13152159750461578\n",
      "591/591 [==============================] - 5s 9ms/step - loss: 0.1947 - val_loss: 0.1315 - lr: 1.2500e-04\n",
      "Epoch 27/100\n",
      "589/591 [============================>.] - ETA: 0s - loss: 0.1930Epoch 27/100, Loss: 0.19309675693511963, Val Loss: 0.15588197112083435\n",
      "591/591 [==============================] - 5s 9ms/step - loss: 0.1931 - val_loss: 0.1559 - lr: 1.2500e-04\n",
      "Epoch 28/100\n",
      "590/591 [============================>.] - ETA: 0s - loss: 0.1928Epoch 28/100, Loss: 0.19275020062923431, Val Loss: 0.14390845596790314\n",
      "591/591 [==============================] - 5s 9ms/step - loss: 0.1928 - val_loss: 0.1439 - lr: 1.2500e-04\n",
      "Epoch 29/100\n",
      "586/591 [============================>.] - ETA: 0s - loss: 0.1885Epoch 29/100, Loss: 0.1884031593799591, Val Loss: 0.10861288011074066\n",
      "591/591 [==============================] - 5s 9ms/step - loss: 0.1884 - val_loss: 0.1086 - lr: 6.2500e-05\n",
      "Epoch 30/100\n",
      "588/591 [============================>.] - ETA: 0s - loss: 0.1895Epoch 30/100, Loss: 0.18963128328323364, Val Loss: 0.11322002857923508\n",
      "591/591 [==============================] - 5s 9ms/step - loss: 0.1896 - val_loss: 0.1132 - lr: 6.2500e-05\n",
      "Epoch 31/100\n",
      "588/591 [============================>.] - ETA: 0s - loss: 0.1828Epoch 31/100, Loss: 0.18274039030075073, Val Loss: 0.12510807812213898\n",
      "591/591 [==============================] - 5s 9ms/step - loss: 0.1827 - val_loss: 0.1251 - lr: 6.2500e-05\n",
      "Epoch 32/100\n",
      "587/591 [============================>.] - ETA: 0s - loss: 0.1812Epoch 32/100, Loss: 0.18117479979991913, Val Loss: 0.1596699059009552\n",
      "591/591 [==============================] - 5s 9ms/step - loss: 0.1812 - val_loss: 0.1597 - lr: 6.2500e-05\n",
      "Epoch 33/100\n",
      "588/591 [============================>.] - ETA: 0s - loss: 0.1804Epoch 33/100, Loss: 0.1804954558610916, Val Loss: 0.09888771921396255\n",
      "591/591 [==============================] - 5s 9ms/step - loss: 0.1805 - val_loss: 0.0989 - lr: 3.1250e-05\n",
      "Epoch 34/100\n",
      "588/591 [============================>.] - ETA: 0s - loss: 0.1781Epoch 34/100, Loss: 0.17811457812786102, Val Loss: 0.10014916211366653\n",
      "591/591 [==============================] - 5s 9ms/step - loss: 0.1781 - val_loss: 0.1001 - lr: 3.1250e-05\n",
      "Epoch 35/100\n",
      "590/591 [============================>.] - ETA: 0s - loss: 0.1783Epoch 35/100, Loss: 0.17838601768016815, Val Loss: 0.09557289630174637\n",
      "591/591 [==============================] - 5s 9ms/step - loss: 0.1784 - val_loss: 0.0956 - lr: 3.1250e-05\n",
      "Epoch 36/100\n",
      "588/591 [============================>.] - ETA: 0s - loss: 0.1769Epoch 36/100, Loss: 0.17682549357414246, Val Loss: 0.11410756409168243\n",
      "591/591 [==============================] - 5s 9ms/step - loss: 0.1768 - val_loss: 0.1141 - lr: 3.1250e-05\n",
      "Epoch 37/100\n",
      "586/591 [============================>.] - ETA: 0s - loss: 0.1784Epoch 37/100, Loss: 0.17869064211845398, Val Loss: 0.12838852405548096\n",
      "591/591 [==============================] - 5s 9ms/step - loss: 0.1787 - val_loss: 0.1284 - lr: 3.1250e-05\n",
      "Epoch 38/100\n",
      "591/591 [==============================] - ETA: 0s - loss: 0.1777Epoch 38/100, Loss: 0.1776764690876007, Val Loss: 0.10520283877849579\n",
      "591/591 [==============================] - 5s 9ms/step - loss: 0.1777 - val_loss: 0.1052 - lr: 3.1250e-05\n",
      "Epoch 39/100\n",
      "589/591 [============================>.] - ETA: 0s - loss: 0.1757Epoch 39/100, Loss: 0.17569981515407562, Val Loss: 0.11703692376613617\n",
      "591/591 [==============================] - 5s 9ms/step - loss: 0.1757 - val_loss: 0.1170 - lr: 1.5625e-05\n",
      "Epoch 40/100\n",
      "590/591 [============================>.] - ETA: 0s - loss: 0.1748Epoch 40/100, Loss: 0.17484921216964722, Val Loss: 0.10661455243825912\n",
      "Restoring model weights from the end of the best epoch: 35.\n",
      "591/591 [==============================] - 7s 12ms/step - loss: 0.1748 - val_loss: 0.1066 - lr: 1.5625e-05\n",
      "Epoch 40: early stopping\n"
     ]
    },
    {
     "data": {
      "image/png": "[encoded data removed]",
      "text/plain": [
       "<Figure size 640x480 with 1 Axes>"
      ]
     },
     "metadata": {},
     "output_type": "display_data"
    }
   ],
   "source": [
    "# Load your simulation data\n",
    "# Replace \"your_dataset.csv\" with the path to your dataset\n",
    "df = pd.read_csv(r\"D:\\Krishna\\ai-power-converter-1\\dataset\\simulation_results_new.csv\")\n",
    "\n",
    "# Define custom scaling ranges for each input feature\n",
    "L_min, L_max = 30e-6, 2000e-6\n",
    "C_min, C_max = 20e-6, 1000e-6\n",
    "fsw_min, fsw_max = 20e3, 200e3\n",
    "\n",
    "\n",
    "# Extract input features (L, C, fsw)\n",
    "X = df[['L', 'C', 'fsw']].values\n",
    "\n",
    "# Extract output (ripples)\n",
    "y = df[[\"delta_current\", \"delta_voltage\", \"Pl_s1\", \"Pl_s2\", \"Pl_C\", \"Pl_L_Cu\"]].values  # Adjust column names as per your dataset\n",
    "\n",
    "# Apply custom scaling\n",
    "X_scaled = custom_scaling(X)\n",
    "\n",
    "# Define early stopping criteria\n",
    "early_stopping = EarlyStopping(monitor='val_loss', min_delta=0.001, patience=5, verbose=1, mode='auto', restore_best_weights=True)\n",
    "\n",
    "# Split the dataset into training, validation, and testing sets\n",
    "X_train, X_temp, y_train, y_temp = train_test_split(X_scaled, y, test_size=0.3, random_state=42)\n",
    "X_val, X_test, y_val, y_test = train_test_split(X_temp, y_temp, test_size=0.5, random_state=42)\n",
    "\n",
    "# Define a custom callback to print custom information at the end of each epoch\n",
    "class PrintEpochInfo(tf.keras.callbacks.Callback):\n",
    "    def on_epoch_end(self, epoch, logs=None):\n",
    "        print(f\"Epoch {epoch+1}/{self.params['epochs']}, Loss: {logs['loss']}, Val Loss: {logs['val_loss']}\")\n",
    "\n",
    "\n",
    "model = tf.keras.Sequential([\n",
    "    tf.keras.layers.BatchNormalization(input_shape=(3,)),  # Scalarization layer\n",
    "    tf.keras.layers.Dense(512, activation='relu', kernel_regularizer=l2(0.001)),  # Hidden layer 1 with L2 regularization\n",
    "    tf.keras.layers.BatchNormalization(),                  # Batch normalization\n",
    "    tf.keras.layers.Dense(512, activation='relu', kernel_regularizer=l2(0.001)),  # Hidden layer 2 with L2 regularization\n",
    "    tf.keras.layers.BatchNormalization(),                  # Batch normalization\n",
    "    tf.keras.layers.Dense(512, activation='relu', kernel_regularizer=l2(0.001)),  # Hidden layer 3 with L2 regularization\n",
    "    tf.keras.layers.BatchNormalization(),     \n",
    "    tf.keras.layers.Dense(512, activation='relu', kernel_regularizer=l2(0.001)),  # Hidden layer 2 with L2 regularization\n",
    "    tf.keras.layers.BatchNormalization(),                  # Batch normalization\n",
    "    tf.keras.layers.Dense(512, activation='relu', kernel_regularizer=l2(0.001)),  # Hidden layer 3 with L2 regularization\n",
    "    tf.keras.layers.BatchNormalization(),       \n",
    "    # tf.keras.layers.Dense(256, activation='relu', kernel_regularizer=l2(0.001)),  # Hidden layer 2 with L2 regularization\n",
    "    # tf.keras.layers.BatchNormalization(),                  # Batch normalization\n",
    "    # tf.keras.layers.Dense(256, activation='relu', kernel_regularizer=l2(0.001)),  # Hidden layer 3 with L2 regularization\n",
    "    # tf.keras.layers.BatchNormalization(),       \n",
    "    tf.keras.layers.Dense(6, activation='softplus')         # Output layer with 6 neurons\n",
    "])\n",
    "\n",
    "\n",
    "# Compile the model\n",
    "model.compile(optimizer='adam', loss='mean_absolute_error')\n",
    "\n",
    "# Define the learning rate scheduler\n",
    "lr_scheduler = ReduceLROnPlateau(factor=0.5, patience=3, min_lr=1e-6)\n",
    "\n",
    "# Train the model with custom callback to print information at the end of each epoch and early stopping\n",
    "history = model.fit(X_train, y_train, epochs=100, batch_size=32, validation_data=(X_val, y_val), \n",
    "                    callbacks=[PrintEpochInfo(), lr_scheduler, early_stopping], verbose=1)\n",
    "\n",
    "\n",
    "# Plot training and validation loss\n",
    "plt.plot(history.history['loss'], label='Training Loss')\n",
    "plt.plot(history.history['val_loss'], label='Validation Loss')\n",
    "plt.title('Training and Validation Loss')\n",
    "plt.xlabel('Epoch')\n",
    "plt.ylabel('Loss')\n",
    "plt.legend()\n",
    "plt.show()\n"
   ]
  },
  {
   "cell_type": "code",
   "execution_count": 14,
   "metadata": {},
   "outputs": [
    {
     "name": "stderr",
     "output_type": "stream",
     "text": [
      "d:\\Software\\Python\\Lib\\site-packages\\keras\\src\\engine\\training.py:3079: UserWarning: You are saving your model as an HDF5 file via `model.save()`. This file format is considered legacy. We recommend using instead the native Keras format, e.g. `model.save('my_model.keras')`.\n",
      "  saving_api.save_model(\n"
     ]
    }
   ],
   "source": [
    "# Optionally, save the model\n",
    "model.save(\"model_5_512_new.h5\")"
   ]
  },
  {
   "cell_type": "code",
   "execution_count": 15,
   "metadata": {},
   "outputs": [
    {
     "name": "stdout",
     "output_type": "stream",
     "text": [
      "127/127 [==============================] - 0s 3ms/step - loss: 0.0999\n",
      "Mean Squared Error on Testing Set: 0.09987970441579819\n",
      "127/127 [==============================] - 0s 2ms/step\n",
      "Predictions:\n",
      "[[3.6251053e-02 8.9011979e-01 3.0443044e+00 3.0356531e+00 1.7028902e-02\n",
      "  2.0989792e+00]\n",
      " [7.4710768e-01 4.9629836e+00 1.8221745e+00 1.8186017e+00 6.3196637e-02\n",
      "  1.0004969e+00]\n",
      " [1.4712696e-01 8.6970072e+00 3.4288809e+00 3.4353921e+00 6.2882933e-03\n",
      "  1.1238360e+00]\n",
      " [6.7418665e-02 1.0343648e+00 3.4961863e+00 3.4948919e+00 2.0060848e-02\n",
      "  9.6998644e-01]\n",
      " [3.4090899e-02 1.1787103e+00 3.3296871e+00 3.3218901e+00 1.2629178e-02\n",
      "  2.1078804e+00]]\n",
      "True Values:\n",
      "[[3.73126122e-02 7.47245981e-01 3.03643319e+00 3.03643319e+00\n",
      "  1.72160434e-02 2.15202491e+00]\n",
      " [9.49393284e-01 4.47959053e+00 1.85248205e+00 1.85248205e+00\n",
      "  7.27748221e-02 1.05888718e+00]\n",
      " [1.82801723e-01 9.05225544e+00 3.44051329e+00 3.44051329e+00\n",
      "  6.14689682e-03 1.17069267e+00]\n",
      " [7.21944866e-02 1.01012118e+00 3.53549404e+00 3.53549404e+00\n",
      "  2.30594268e-02 9.72148356e-01]\n",
      " [2.94638994e-02 1.12389005e+00 3.32770238e+00 3.32770238e+00\n",
      "  1.32762606e-02 2.12984532e+00]]\n",
      "Mean Absolute Error (MAE): 0.0903831590749369\n",
      "Root Mean Squared Error (RMSE): 0.29219331291373246\n",
      "R-squared (R2) Score: 0.8831271005375002\n",
      "Mean Absolute Percentage Error (MAPE): 7.436672753924537%\n"
     ]
    }
   ],
   "source": [
    "from sklearn.metrics import mean_absolute_error, r2_score, mean_squared_error\n",
    "\n",
    "# Evaluate the model on the testing set\n",
    "mse = model.evaluate(X_test, y_test)\n",
    "print(\"Mean Squared Error on Testing Set:\", mse)\n",
    "\n",
    "# Use the trained model to make predictions on the testing set\n",
    "predictions = model.predict(X_test)\n",
    "\n",
    "# Print the first few predictions\n",
    "print(\"Predictions:\")\n",
    "print(predictions[:5])\n",
    "\n",
    "# Print the corresponding true values\n",
    "print(\"True Values:\")\n",
    "print(y_test[:5])\n",
    "\n",
    "# Calculate Mean Absolute Error (MAE)\n",
    "mae = mean_absolute_error(y_test, predictions)\n",
    "print(f'Mean Absolute Error (MAE): {mae}')\n",
    "\n",
    "# Calculate Root Mean Squared Error (RMSE)\n",
    "rmse = np.sqrt(mean_squared_error(y_test, predictions))\n",
    "print(f'Root Mean Squared Error (RMSE): {rmse}')\n",
    "\n",
    "# Calculate R-squared (R2) Score\n",
    "r2 = r2_score(y_test, predictions)\n",
    "print(f'R-squared (R2) Score: {r2}')\n",
    "\n",
    "# Calculate Mean Absolute Percentage Error (MAPE)\n",
    "mape = np.mean(np.abs((y_test - predictions) / y_test)) * 100\n",
    "print(f'Mean Absolute Percentage Error (MAPE): {mape}%')"
   ]
  },
  {
   "cell_type": "code",
   "execution_count": 6,
   "metadata": {},
   "outputs": [
    {
     "name": "stdout",
     "output_type": "stream",
     "text": [
      "[[0.55177665 0.0755102  0.72413333]\n",
      " [0.1035533  0.17755102 0.        ]\n",
      " [0.44822335 0.17142857 1.        ]\n",
      " ...\n",
      " [0.58629442 0.07040816 0.62068889]\n",
      " [0.55177665 0.13571429 0.17241111]\n",
      " [0.8964467  0.17142857 0.27586111]]\n"
     ]
    }
   ],
   "source": [
    "print(X_test)"
   ]
  },
  {
   "cell_type": "markdown",
   "metadata": {},
   "source": [
    "# Model"
   ]
  },
  {
   "cell_type": "markdown",
   "metadata": {},
   "source": [
    "## Scaling"
   ]
  },
  {
   "cell_type": "code",
   "execution_count": 16,
   "metadata": {},
   "outputs": [],
   "source": [
    "def scale_input_values(input_values):\n",
    "\n",
    "    input_values_scaled = np.zeros_like(input_values, dtype=float)  # Initialize scaled data array\n",
    "\n",
    "    # Scale L\n",
    "    input_values_scaled[0] = (input_values[0] - L_min) / (L_max - L_min)\n",
    "\n",
    "    # Scale C\n",
    "    input_values_scaled[1] = (input_values[1] - C_min) / (C_max - C_min)\n",
    "\n",
    "    # Scale fsw\n",
    "    input_values_scaled[2] = (input_values[2] - fsw_min) / (fsw_max - fsw_min)\n",
    "    # Make predictions using the model\n",
    "\n",
    "    # Reshape the input data to match the expected shape of the model\n",
    "    input_values_reshaped = input_values_scaled.reshape((1, -1))\n",
    "\n",
    "    return input_values_reshaped"
   ]
  },
  {
   "cell_type": "markdown",
   "metadata": {},
   "source": [
    "## Load Model"
   ]
  },
  {
   "cell_type": "code",
   "execution_count": 21,
   "metadata": {},
   "outputs": [
    {
     "name": "stdout",
     "output_type": "stream",
     "text": [
      "1/1 [==============================] - 0s 58ms/step\n",
      "Original output: [0.03575049 0.99749133 3.56966316 3.56966316 0.01110701 2.2006383 ]\n",
      "Predicted output: [[0.02974258 1.3145694  3.5890067  3.6064918  0.01040203 2.1955326 ]]\n",
      "Mean Absolute Error: 0.06417813544797153\n",
      "Mean Absolute Percentage Error (MAPE): 9.457579845401746%\n"
     ]
    }
   ],
   "source": [
    "\n",
    "\n",
    "# Load the model\n",
    "model = tf.keras.models.load_model(r'D:\\Krishna\\ai-power-converter-1\\machine-learning\\model_3_512_new.h5')\n",
    "\n",
    "\n",
    "# Define the input values\n",
    "input_values = np.array([0.001796,0.000112,200000])  # Replace these values with your actual input values\n",
    "\n",
    "\n",
    "\n",
    "input_values_scaled = scale_input_values(input_values)\n",
    "\n",
    "# Make predictions using the model\n",
    "prediction = model.predict(input_values_scaled)\n",
    "\n",
    "# Define the original output values obtained from your simulation\n",
    "original_output = np.array([0.035750494716249866,0.9974913279127907,3.56966315879573,3.56966315879573,0.011107013595289478,2.2006382989674216])  # Replace these values with your actual output values\n",
    "\n",
    "# Calculate the mean absolute error between original and predicted output values\n",
    "mae = np.mean(np.abs(original_output - prediction))\n",
    "\n",
    "# Calculate Mean Absolute Percentage Error (MAPE)\n",
    "mape = np.mean(np.abs((original_output - prediction) / original_output)) * 100\n",
    "\n",
    "# Print the original and predicted output values for comparison\n",
    "print(\"Original output:\", original_output)\n",
    "print(\"Predicted output:\", prediction)\n",
    "print(\"Mean Absolute Error:\", mae)\n",
    "print(f'Mean Absolute Percentage Error (MAPE): {mape}%')\n"
   ]
  },
  {
   "cell_type": "markdown",
   "metadata": {},
   "source": [
    "model_5_256.h5\n",
    "Original output: [0.08675776 1.80228575 3.10170049 3.10170049 0.01556779 1.34573238]\n",
    "Predicted output: [[0.07611273 2.215468   3.096919   3.093316   0.01535417 1.3317415 ]]\n",
    "Mean Absolute Error: 0.07519960021255918\n",
    "Mean Absolute Percentage Error (MAPE): 6.338601044481275%\n",
    "\n",
    "model_3_256.h5\n",
    "Original output: [0.08675776 1.80228575 3.10170049 3.10170049 0.01556779 1.34573238]\n",
    "Predicted output: [[0.11215301 2.2457957  3.0929043  3.0988061  0.01894178 1.3158761 ]]\n",
    "Mean Absolute Error: 0.08563766249885481\n",
    "Mean Absolute Percentage Error (MAPE): 13.02466772681769%"
   ]
  }
 ],
 "metadata": {
  "kernelspec": {
   "display_name": "Python 3",
   "language": "python",
   "name": "python3"
  },
  "language_info": {
   "codemirror_mode": {
    "name": "ipython",
    "version": 3
   },
   "file_extension": ".py",
   "mimetype": "text/x-python",
   "name": "python",
   "nbconvert_exporter": "python",
   "pygments_lexer": "ipython3",
   "version": "3.11.6"
  }
 },
 "nbformat": 4,
 "nbformat_minor": 2
}
