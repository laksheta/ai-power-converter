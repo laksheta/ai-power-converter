{
 "cells": [
  {
   "cell_type": "markdown",
   "metadata": {},
   "source": [
    "# Spesifikasi"
   ]
  },
  {
   "cell_type": "markdown",
   "metadata": {},
   "source": [
    "- V<sub>in</sub> = 48V\n",
    "- V<sub>out</sub> = 12V\n",
    "- P<sub>o</sub> = 100W\n",
    "- &#916;V<sub>o</sub> &#8804; 1%\n",
    "- &#916;I<sub>L</sub> &#8804; 10%\n",
    "- f<sub>sw</sub> = 20e3\n",
    "- Mosfet: IRFB4310PbF, Infineon"
   ]
  },
  {
   "cell_type": "markdown",
   "metadata": {},
   "source": [
    "# Plecs"
   ]
  },
  {
   "cell_type": "code",
   "execution_count": 2,
   "metadata": {},
   "outputs": [],
   "source": [
    "import xmlrpc.client as xml\n",
    "import os\n",
    "import matplotlib.pyplot as plt\n",
    "import numpy as np\n",
    "import itertools\n",
    "import random\n",
    "import csv"
   ]
  },
  {
   "cell_type": "code",
   "execution_count": 9,
   "metadata": {},
   "outputs": [],
   "source": [
    "model = 'buck_1'\n",
    "file_type = '.plecs'\n",
    "V_in = 48\n",
    "V_out = 12"
   ]
  },
  {
   "cell_type": "code",
   "execution_count": 10,
   "metadata": {},
   "outputs": [],
   "source": [
    "plecs = xml.Server(\"http://localhost:1080/RPC2\").plecs"
   ]
  },
  {
   "cell_type": "code",
   "execution_count": 11,
   "metadata": {},
   "outputs": [
    {
     "data": {
      "text/plain": [
       "0"
      ]
     },
     "execution_count": 11,
     "metadata": {},
     "output_type": "execute_result"
    }
   ],
   "source": [
    "plecs.load(r\"E:\\OneDrive - UGM 365\\Mata Kuliah\\Skripsi\\Plecs\\Python\\buck\\buck_1.plecs\")\n"
   ]
  },
  {
   "cell_type": "markdown",
   "metadata": {},
   "source": [
    "# Parameter"
   ]
  },
  {
   "cell_type": "markdown",
   "metadata": {},
   "source": [
    "L<sub>min</sub> &lt; 144&mu;H &lt; 509&mu;H &lt; 1003&mu;H &lt; L<sub>max</sub>\n",
    "\n"
   ]
  },
  {
   "cell_type": "markdown",
   "metadata": {},
   "source": [
    "L<sub>min</sub> 30&mu;H; L<sub>max</sub>2000&mu;H\n",
    "\n",
    "C<sub>min</sub> 20&mu;F; C<sub>max</sub>1000&mu;F\n",
    "\n",
    "f<sub>min</sub> 20kHz; f<sub>max</sub>200kHz"
   ]
  },
  {
   "cell_type": "markdown",
   "metadata": {},
   "source": [
    "diambil 20 x 20 x 20\n",
    "\n",
    "di mana f itu continous dan L, C diskret"
   ]
  },
  {
   "cell_type": "markdown",
   "metadata": {},
   "source": [
    "<strong>Parameter yang berubah</strong>:\n",
    "- f\n",
    "- L\n",
    "- C\n",
    "- R<sub>L</sub> = \n",
    "- ESL\n",
    "- ESR = "
   ]
  },
  {
   "cell_type": "code",
   "execution_count": 16,
   "metadata": {},
   "outputs": [
    {
     "data": {
      "text/plain": [
       "[<matplotlib.lines.Line2D at 0x15bd97acf50>]"
      ]
     },
     "execution_count": 16,
     "metadata": {},
     "output_type": "execute_result"
    },
    {
     "data": {
      "image/png": "[encoded data removed]",
      "text/plain": [
       "<Figure size 640x480 with 1 Axes>"
      ]
     },
     "metadata": {},
     "output_type": "display_data"
    }
   ],
   "source": [
    "L = 540e-6\n",
    "C = 43.38e-6\n",
    "fsw = 20e3\n",
    "\n",
    "plecs.set(model+'/L1','L', str(L))\n",
    "plecs.set(model+'/C', 'C', str(C))\n",
    "plecs.set(model+'/Symmetrical PWM1', 'fc', str(fsw))\n",
    "times = plecs.simulate(model) ['Time']\n",
    "current = plecs.simulate(model) ['Values'][0]\n",
    "voltage = plecs.simulate(model) ['Values'][1]\n",
    "\n",
    "plt.plot(times,voltage)"
   ]
  },
  {
   "cell_type": "markdown",
   "metadata": {},
   "source": [
    "# Try add output (losses into CSV)"
   ]
  },
  {
   "cell_type": "code",
   "execution_count": 38,
   "metadata": {},
   "outputs": [
    {
     "name": "stdout",
     "output_type": "stream",
     "text": [
      "Chosen L values: [3.e-05 2.e-03]\n",
      "Chosen C values: [3.e-05 2.e-04]\n",
      "Chosen fsw values: [ 20000. 200000.]\n",
      "\n",
      "Chosen values and simulation results:\n"
     ]
    }
   ],
   "source": [
    "L_range = (30e-6, 2000e-6)  # Range for L\n",
    "C_range = (30e-6, 200e-6)   # Range for C\n",
    "fsw_range = (20e3, 200e3)    # Range for fsw\n",
    "num_values = 2           # Number of values for each parameter\n",
    "\n",
    "# Borders for R_L\n",
    "border_values = [\n",
    "    (144e-6, 0.079576),\n",
    "    (509e-6, 0.179228),\n",
    "    (1003e-6, 0.253239),\n",
    "    (2519e-6, 0.443394)\n",
    "]\n",
    "\n",
    "# Constants for ESL calculation\n",
    "K_esl = 4.389e-11  # Adjust as needed\n",
    "tan_delta = 0.14\n",
    "\n",
    "# Create arrays of discrete L, C, and fsw values within the specified ranges\n",
    "L_values = np.linspace(L_range[0], L_range[1], num=num_values)\n",
    "C_values = np.linspace(C_range[0], C_range[1], num=num_values)\n",
    "fsw_values = np.linspace(fsw_range[0], fsw_range[1], num=num_values)\n",
    "\n",
    "# Initialize arrays to store results\n",
    "average_currents = []\n",
    "delta_currents = []\n",
    "delta_currents_percentage = []\n",
    "\n",
    "# Open a CSV file for writing\n",
    "csv_file_path = 'simulation_results.csv'\n",
    "\n",
    "# Define the header for the CSV file\n",
    "csv_header = ['No','L', 'C', 'fsw', 'RL', 'ESR', 'ESL', 'delta_current_percentage', 'delta_voltage_percentage']\n",
    "\n",
    "# Initialize a list to store the data for each simulation\n",
    "csv_data = []\n",
    "\n",
    "# Print the chosen values\n",
    "print(\"Chosen L values:\", L_values)\n",
    "print(\"Chosen C values:\", C_values)\n",
    "print(\"Chosen fsw values:\", fsw_values)\n",
    "\n",
    "# Generate all combinations of L, C, and fsw\n",
    "combinations = list(itertools.product(L_values, C_values, fsw_values))\n",
    "\n",
    "# Display the chosen values and simulate\n",
    "print(\"\\nChosen values and simulation results:\")"
   ]
  },
  {
   "cell_type": "markdown",
   "metadata": {},
   "source": [
    "### CSV"
   ]
  },
  {
   "cell_type": "code",
   "execution_count": 33,
   "metadata": {},
   "outputs": [],
   "source": [
    "def write_to_csv(file_path, header, data):\n",
    "    with open(file_path, 'w', newline='') as csv_file:\n",
    "        csv_writer = csv.writer(csv_file)\n",
    "        csv_writer.writerow(header)\n",
    "        csv_writer.writerows(data)\n",
    "    data = []"
   ]
  },
  {
   "cell_type": "markdown",
   "metadata": {},
   "source": [
    "### Average Current and &Delta;I<sub>L</sub>%"
   ]
  },
  {
   "cell_type": "code",
   "execution_count": 26,
   "metadata": {},
   "outputs": [],
   "source": [
    "def calculate_current(times, current, start_time, end_time):\n",
    "    # Convert 'times' to a NumPy array\n",
    "    times = np.array(times)\n",
    "\n",
    "    # Find the indices corresponding to the time range\n",
    "    start_index = np.argmax(times >= start_time)\n",
    "    end_index = np.argmax(times >= end_time)\n",
    "\n",
    "    # Extract the current values in the specified time range\n",
    "    current_range = current[start_index:end_index]\n",
    "\n",
    "    # Calculate the average current value\n",
    "    average_current = np.mean(current_range)\n",
    "\n",
    "    # Calculate the difference between the highest and lowest current values\n",
    "    delta_current = np.max(current_range) - np.min(current_range) \n",
    "\n",
    "    print('Current:')\n",
    "    print(\"\\nmax:\", np.max(current_range))\n",
    "    print(\"\\nmin:\", np.min(current_range))\n",
    "    print(\"\\ndelta:\",delta_current)\n",
    "    print(\"\\naverage:\",average_current)\n",
    "\n",
    "    # print(np.max(current_range))\n",
    "    # print(np.min(current_range))\n",
    "    delta_current_percentage = delta_current/average_current * 100\n",
    "\n",
    "    return average_current, delta_current, delta_current_percentage"
   ]
  },
  {
   "cell_type": "markdown",
   "metadata": {},
   "source": [
    "### &Delta;V<sub>O</sub>%\n"
   ]
  },
  {
   "cell_type": "code",
   "execution_count": 27,
   "metadata": {},
   "outputs": [],
   "source": [
    "def calculate_voltage(times, voltage, start_time, end_time):\n",
    "    # Convert 'times' to a NumPy array\n",
    "    times = np.array(times)\n",
    "\n",
    "    # Find the indices corresponding to the time range\n",
    "    start_index = np.argmax(times >= start_time)\n",
    "    end_index = np.argmax(times >= end_time)\n",
    "\n",
    "    # Extract the voltage values in the specified time range\n",
    "    voltage_range = voltage[start_index:end_index]\n",
    "\n",
    "    # Calculate the average voltage value\n",
    "    average_voltage = np.mean(voltage_range)\n",
    "\n",
    "    # Calculate the difference between the highest and lowest voltage values\n",
    "    delta_voltage = np.max(voltage_range) - np.min(voltage_range)\n",
    "\n",
    "    print('Voltage:')\n",
    "    print(\"\\nmax:\", np.max(voltage_range))\n",
    "    print(\"\\nmin:\", np.min(voltage_range))\n",
    "    print(\"\\ndelta:\",delta_voltage)\n",
    "    print(\"\\naverage:\",average_voltage)\n",
    "\n",
    "    delta_voltage_percentage = delta_voltage/average_voltage * 100\n",
    "\n",
    "    return average_voltage, delta_voltage, delta_voltage_percentage\n"
   ]
  },
  {
   "cell_type": "markdown",
   "metadata": {},
   "source": [
    "### Loop"
   ]
  },
  {
   "cell_type": "code",
   "execution_count": 43,
   "metadata": {},
   "outputs": [
    {
     "name": "stdout",
     "output_type": "stream",
     "text": [
      "Current:\n",
      "\n",
      "max: 9.962085899925917\n",
      "\n",
      "min: -4.982265328516976\n",
      "\n",
      "delta: 14.944351228442894\n",
      "\n",
      "average: 3.2556026550071735\n",
      "Voltage:\n",
      "\n",
      "max: 12.675008038889622\n",
      "\n",
      "min: 10.055806220980628\n",
      "\n",
      "delta: 2.619201817908994\n",
      "\n",
      "average: 11.548067497351191\n",
      "\n",
      "Simulation 1 for L=0.000030, C=0.000030, fsw=20000.00, RL=0.079576, ESR=0.037136, ESL=1.463000e-06\n",
      "\n",
      "Simulation 1 results:\n",
      "Average Current between 0.004 and 0.005 seconds: 3.2556026550071735 A\n",
      "Difference between highest and lowest current values between 0.004 and 0.005 seconds: 14.944351228442894 A\n",
      "Difference between highest and lowest current values between 0.004 and 0.005 seconds: 459.0348642657058 %\n",
      "Difference between highest and lowest voltage values between 0.004 and 0.005 seconds: 2.619201817908994 A\n",
      "Difference between highest and lowest voltage values between 0.004 and 0.005 seconds: 22.680866894047572 %\n",
      "Current:\n",
      "\n",
      "max: 3.0936817782626678\n",
      "\n",
      "min: 1.6425465629588225\n",
      "\n",
      "delta: 1.4511352153038453\n",
      "\n",
      "average: 2.4480963015005166\n",
      "Voltage:\n",
      "\n",
      "max: 13.445362653254902\n",
      "\n",
      "min: 11.2541600777645\n",
      "\n",
      "delta: 2.1912025754904025\n",
      "\n",
      "average: 12.059002398328614\n",
      "\n",
      "Simulation 2 for L=0.000030, C=0.000030, fsw=200000.00, RL=0.079576, ESR=0.003714, ESL=1.463000e-06\n",
      "\n",
      "Simulation 2 results:\n",
      "Average Current between 0.004 and 0.005 seconds: 2.4480963015005166 A\n",
      "Difference between highest and lowest current values between 0.004 and 0.005 seconds: 1.4511352153038453 A\n",
      "Difference between highest and lowest current values between 0.004 and 0.005 seconds: 59.27606746574463 %\n",
      "Difference between highest and lowest voltage values between 0.004 and 0.005 seconds: 2.1912025754904025 A\n",
      "Difference between highest and lowest voltage values between 0.004 and 0.005 seconds: 18.170678660733202 %\n",
      "Current:\n",
      "\n",
      "max: 9.958009859860688\n",
      "\n",
      "min: -5.04907147456392\n",
      "\n",
      "delta: 15.007081334424608\n",
      "\n",
      "average: 2.259277826903446\n",
      "Voltage:\n",
      "\n",
      "max: 11.961778928758996\n",
      "\n",
      "min: 11.52811595719546\n",
      "\n",
      "delta: 0.4336629715635354\n",
      "\n",
      "average: 11.826869689735616\n",
      "\n",
      "Simulation 3 for L=0.000030, C=0.000200, fsw=20000.00, RL=0.079576, ESR=0.005570, ESL=2.194500e-07\n",
      "\n",
      "Simulation 3 results:\n",
      "Average Current between 0.004 and 0.005 seconds: 2.259277826903446 A\n",
      "Difference between highest and lowest current values between 0.004 and 0.005 seconds: 15.007081334424608 A\n",
      "Difference between highest and lowest current values between 0.004 and 0.005 seconds: 664.2424032901359 %\n",
      "Difference between highest and lowest voltage values between 0.004 and 0.005 seconds: 0.4336629715635354 A\n",
      "Difference between highest and lowest voltage values between 0.004 and 0.005 seconds: 3.6667603765001804 %\n",
      "Current:\n",
      "\n",
      "max: 3.1281690957806845\n",
      "\n",
      "min: 1.6056999622767445\n",
      "\n",
      "delta: 1.52246913350394\n",
      "\n",
      "average: 2.4145527294792837\n",
      "Voltage:\n",
      "\n",
      "max: 12.103043000449853\n",
      "\n",
      "min: 11.636215853487315\n",
      "\n",
      "delta: 0.46682714696253846\n",
      "\n",
      "average: 11.867284329832962\n",
      "\n",
      "Simulation 4 for L=0.000030, C=0.000200, fsw=200000.00, RL=0.079576, ESR=0.000557, ESL=2.194500e-07\n",
      "\n",
      "Simulation 4 results:\n",
      "Average Current between 0.004 and 0.005 seconds: 2.4145527294792837 A\n",
      "Difference between highest and lowest current values between 0.004 and 0.005 seconds: 1.52246913350394 A\n",
      "Difference between highest and lowest current values between 0.004 and 0.005 seconds: 63.0538780502123 %\n",
      "Difference between highest and lowest voltage values between 0.004 and 0.005 seconds: 0.46682714696253846 A\n",
      "Difference between highest and lowest voltage values between 0.004 and 0.005 seconds: 3.9337318799128265 %\n",
      "Current:\n",
      "\n",
      "max: 2.3171149538755698\n",
      "\n",
      "min: 2.092126692782303\n",
      "\n",
      "delta: 0.22498826109326675\n",
      "\n",
      "average: 2.2077869921943662\n",
      "Voltage:\n",
      "\n",
      "max: 11.036257691711224\n",
      "\n",
      "min: 10.995375555954462\n",
      "\n",
      "delta: 0.04088213575676214\n",
      "\n",
      "average: 11.021200225506913\n",
      "\n",
      "Simulation 5 for L=0.002000, C=0.000030, fsw=20000.00, RL=0.443394, ESR=0.037136, ESL=1.463000e-06\n",
      "\n",
      "Simulation 5 results:\n",
      "Average Current between 0.004 and 0.005 seconds: 2.2077869921943662 A\n",
      "Difference between highest and lowest current values between 0.004 and 0.005 seconds: 0.22498826109326675 A\n",
      "Difference between highest and lowest current values between 0.004 and 0.005 seconds: 10.190668841184092 %\n",
      "Difference between highest and lowest voltage values between 0.004 and 0.005 seconds: 0.04088213575676214 A\n",
      "Difference between highest and lowest voltage values between 0.004 and 0.005 seconds: 0.3709408677844957 %\n",
      "Current:\n",
      "\n",
      "max: 2.2157558103187625\n",
      "\n",
      "min: 2.1932647627798416\n",
      "\n",
      "delta: 0.02249104753892084\n",
      "\n",
      "average: 2.2057074895283653\n",
      "Voltage:\n",
      "\n",
      "max: 11.048176012118773\n",
      "\n",
      "min: 11.013774646401716\n",
      "\n",
      "delta: 0.03440136571705743\n",
      "\n",
      "average: 11.025653038372514\n",
      "\n",
      "Simulation 6 for L=0.002000, C=0.000030, fsw=200000.00, RL=0.443394, ESR=0.003714, ESL=1.463000e-06\n",
      "\n",
      "Simulation 6 results:\n",
      "Average Current between 0.004 and 0.005 seconds: 2.2057074895283653 A\n",
      "Difference between highest and lowest current values between 0.004 and 0.005 seconds: 0.02249104753892084 A\n",
      "Difference between highest and lowest current values between 0.004 and 0.005 seconds: 1.0196749861755232 %\n",
      "Difference between highest and lowest voltage values between 0.004 and 0.005 seconds: 0.03440136571705743 A\n",
      "Difference between highest and lowest voltage values between 0.004 and 0.005 seconds: 0.31201204679061245 %\n",
      "Current:\n",
      "\n",
      "max: 2.4342604468722846\n",
      "\n",
      "min: 1.8712730850868644\n",
      "\n",
      "delta: 0.5629873617854202\n",
      "\n",
      "average: 2.179446821143291\n",
      "Voltage:\n",
      "\n",
      "max: 10.72843241741595\n",
      "\n",
      "min: 10.122387766982314\n",
      "\n",
      "delta: 0.6060446504336365\n",
      "\n",
      "average: 10.335934900838392\n",
      "\n",
      "Simulation 7 for L=0.002000, C=0.000200, fsw=20000.00, RL=0.443394, ESR=0.005570, ESL=2.194500e-07\n",
      "\n",
      "Simulation 7 results:\n",
      "Average Current between 0.004 and 0.005 seconds: 2.179446821143291 A\n",
      "Difference between highest and lowest current values between 0.004 and 0.005 seconds: 0.5629873617854202 A\n",
      "Difference between highest and lowest current values between 0.004 and 0.005 seconds: 25.831663169009516 %\n",
      "Difference between highest and lowest voltage values between 0.004 and 0.005 seconds: 0.6060446504336365 A\n",
      "Difference between highest and lowest voltage values between 0.004 and 0.005 seconds: 5.863472015332427 %\n",
      "Current:\n",
      "\n",
      "max: 2.3362236628494815\n",
      "\n",
      "min: 1.9645349596709007\n",
      "\n",
      "delta: 0.3716887031785807\n",
      "\n",
      "average: 2.1830247327071093\n",
      "Voltage:\n",
      "\n",
      "max: 10.722156299264833\n",
      "\n",
      "min: 10.119222568295378\n",
      "\n",
      "delta: 0.6029337309694558\n",
      "\n",
      "average: 10.332267181083623\n",
      "\n",
      "Simulation 8 for L=0.002000, C=0.000200, fsw=200000.00, RL=0.443394, ESR=0.000557, ESL=2.194500e-07\n",
      "\n",
      "Simulation 8 results:\n",
      "Average Current between 0.004 and 0.005 seconds: 2.1830247327071093 A\n",
      "Difference between highest and lowest current values between 0.004 and 0.005 seconds: 0.3716887031785807 A\n",
      "Difference between highest and lowest current values between 0.004 and 0.005 seconds: 17.02631663351151 %\n",
      "Difference between highest and lowest voltage values between 0.004 and 0.005 seconds: 0.6029337309694558 A\n",
      "Difference between highest and lowest voltage values between 0.004 and 0.005 seconds: 5.835444635745681 %\n"
     ]
    }
   ],
   "source": [
    "# Loop through the combinations and simulate\n",
    "csv_data = []\n",
    "for simulation_num, (L, C, fsw) in enumerate(combinations, start=1):\n",
    "    # Rules for picking R_L based on L\n",
    "    R_L = next((rl for border, rl in border_values if L <= border), 0.0)\n",
    "\n",
    "    # Calculate ESR and ESL based on the updated C\n",
    "    ESR = tan_delta / (2 * np.pi * fsw * C)\n",
    "    ESL = K_esl / C\n",
    "\n",
    "    # Set Plecs parameters and simulate\n",
    "    plecs.set(model+'/L1', 'L', str(L))\n",
    "    plecs.set(model+'/C', 'C', str(C))\n",
    "    plecs.set(model+'/Symmetrical PWM1', 'fc', str(fsw))\n",
    "    plecs.set(model+'/RL', 'R', str(R_L))\n",
    "    plecs.set(model+'/ESR', 'R', str(ESR))\n",
    "    plecs.set(model+'/ESL', 'L', str(ESL))\n",
    "\n",
    "    times = plecs.simulate(model)['Time']\n",
    "    current = plecs.simulate(model)['Values'][0]\n",
    "    voltage = plecs.simulate(model)['Values'][1]\n",
    "\n",
    "    # Calculate average and delta current using the function\n",
    "    average_current, delta_current, delta_current_percentage = calculate_current(times, current, start_time=0.004, end_time=0.005)\n",
    "    average_voltage, delta_voltage, delta_voltage_percentage = calculate_voltage(times, voltage, start_time=0.004, end_time=0.005)\n",
    "\n",
    "    # Append the data for this simulation to the list\n",
    "    csv_data.append([simulation_num,L, C, fsw, R_L, ESR, ESL, average_current, delta_current_percentage, delta_voltage_percentage])\n",
    "\n",
    "    print(f'\\nSimulation {simulation_num} for L={L:.6f}, C={C:.6f}, fsw={fsw:.2f}, RL={R_L:.6f}, ESR={ESR:.6f}, ESL={ESL:.6e}')\n",
    "    print(f\"\\nSimulation {simulation_num} results:\")\n",
    "    print(f\"Average Current between 0.004 and 0.005 seconds: {average_current} A\")\n",
    "    print(f\"Difference between highest and lowest current values between 0.004 and 0.005 seconds: {delta_current} A\")\n",
    "    print(f\"Difference between highest and lowest current values between 0.004 and 0.005 seconds: {delta_current_percentage} %\")\n",
    "    print(f\"Difference between highest and lowest voltage values between 0.004 and 0.005 seconds: {delta_voltage} A\")\n",
    "    print(f\"Difference between highest and lowest voltage values between 0.004 and 0.005 seconds: {delta_voltage_percentage} %\")"
   ]
  },
  {
   "cell_type": "code",
   "execution_count": 44,
   "metadata": {},
   "outputs": [],
   "source": [
    "# Use the function to write data to the CSV file\n",
    "write_to_csv(csv_file_path, csv_header, csv_data)"
   ]
  },
  {
   "cell_type": "code",
   "execution_count": 18,
   "metadata": {},
   "outputs": [
    {
     "name": "stdout",
     "output_type": "stream",
     "text": [
      "\n",
      "Overall Results:\n",
      "Average Currents: [3.2556026550071735, 2.4480963015005166, 2.259277826903446, 2.4145527294792837, 2.2077869921943662, 2.2057074895283653, 2.179446821143291, 2.1830247327071093]\n",
      "Delta Currents: [14.944351228442894, 1.4511352153038453, 15.007081334424608, 1.52246913350394, 0.22498826109326675, 0.02249104753892084, 0.5629873617854202, 0.3716887031785807]\n"
     ]
    }
   ],
   "source": [
    "print(\"\\nOverall Results:\")\n",
    "print(\"Average Currents:\", average_currents)\n",
    "print(\"Delta Currents:\", delta_currents)"
   ]
  },
  {
   "cell_type": "markdown",
   "metadata": {},
   "source": [
    "### Switching Losses"
   ]
  },
  {
   "cell_type": "markdown",
   "metadata": {},
   "source": [
    "#### Conduction Loss"
   ]
  },
  {
   "cell_type": "markdown",
   "metadata": {},
   "source": [
    "- R<sub>DS(on)</sub> = R<sub>ON-H</sub> = R<sub>ON-L</sub> = 5.6k&Omega; "
   ]
  },
  {
   "cell_type": "markdown",
   "metadata": {},
   "source": [
    "##### High Side"
   ]
  },
  {
   "cell_type": "markdown",
   "metadata": {},
   "source": [
    "P<sub>ON-H</sub> = I<sub>OUT</sub> / 2 &times; R<sub>ON-H</sub> &times; V<sub>OUT</sub> / V<sub>IN</sub> [W]\n"
   ]
  },
  {
   "cell_type": "code",
   "execution_count": null,
   "metadata": {},
   "outputs": [],
   "source": [
    "R_on = 5.6\n",
    "\n",
    "P_ON_H = average_current / 2 * R_on * V_out / V_in"
   ]
  },
  {
   "cell_type": "markdown",
   "metadata": {},
   "source": [
    "##### Low Side"
   ]
  },
  {
   "cell_type": "markdown",
   "metadata": {},
   "source": [
    "P<sub>ON-L</sub> = I<sub>OUT</sub> / 2 &times; R<sub>ON-L</sub> &times; (1 - V<sub>OUT</sub> / V<sub>IN</sub>) [W]\n"
   ]
  },
  {
   "cell_type": "code",
   "execution_count": null,
   "metadata": {},
   "outputs": [],
   "source": [
    "P_ON_L = average_current / 2 * R_on * V_out / V_in"
   ]
  },
  {
   "cell_type": "markdown",
   "metadata": {},
   "source": [
    "#### Switching Losses"
   ]
  },
  {
   "cell_type": "markdown",
   "metadata": {},
   "source": [
    "- t<sub>rise</sub> = 110 ns  \n",
    "- t<sub>fall</sub> = 78 ns"
   ]
  },
  {
   "cell_type": "markdown",
   "metadata": {},
   "source": [
    "##### High Side"
   ]
  },
  {
   "cell_type": "markdown",
   "metadata": {},
   "source": [
    "P<sub>SW-H</sub> = 1/2 &times; V<sub>IN</sub> &times; I<sub>OUT</sub> &times; (t<sub>rise-H</sub> + t<sub>fall-H</sub>) &times; f<sub>SW</sub>\n"
   ]
  },
  {
   "cell_type": "code",
   "execution_count": null,
   "metadata": {},
   "outputs": [],
   "source": [
    "t_rise = 110e-9\n",
    "t_fall = 78e-9\n",
    "\n",
    "P_SW_H = 0.5 * V_in * average_current * (t_rise + t_fall) * f_sw"
   ]
  },
  {
   "cell_type": "markdown",
   "metadata": {},
   "source": [
    "##### Low Side"
   ]
  },
  {
   "cell_type": "markdown",
   "metadata": {},
   "source": [
    "P<sub>SW-L</sub> = 1/2 &times; V<sub>D</sub> &times; I<sub>OUT</sub> &times; (t<sub>rise-L</sub> + t<sub>fall-L</sub>) &times; f<sub>SW</sub>\n"
   ]
  },
  {
   "cell_type": "code",
   "execution_count": null,
   "metadata": {},
   "outputs": [],
   "source": [
    "P_SW_L = 0.5 * V_in * average_current * (t_rise + t_fall) * f_sw"
   ]
  },
  {
   "cell_type": "markdown",
   "metadata": {},
   "source": [
    "#### Losses Total"
   ]
  },
  {
   "cell_type": "code",
   "execution_count": null,
   "metadata": {},
   "outputs": [],
   "source": [
    "Switching_loss = P_ON_H + P_ON_L + P_SW_H + P_SW_L"
   ]
  },
  {
   "cell_type": "markdown",
   "metadata": {},
   "source": [
    "### Capacitor Loss"
   ]
  },
  {
   "cell_type": "markdown",
   "metadata": {},
   "source": [
    "P<sub>CAP(ESR)</sub> = I<sub>CAP(RMS)</sub><sup>2</sup>  &#x00D7; ESR [W]\n",
    "\n"
   ]
  },
  {
   "cell_type": "markdown",
   "metadata": {},
   "source": [
    "ESR = tan(&#x03B4;) / 2&pi;f<sub>SW</sub>C)"
   ]
  },
  {
   "cell_type": "markdown",
   "metadata": {},
   "source": [
    "Dengan 25 V Nippon KZE series: tan &#x03B4; = 0.14"
   ]
  },
  {
   "cell_type": "code",
   "execution_count": null,
   "metadata": {},
   "outputs": [],
   "source": [
    "ESR = 0.14 / (2*np.pi*f_sw*C)\n",
    "print(ESR)"
   ]
  },
  {
   "cell_type": "markdown",
   "metadata": {},
   "source": [
    "ESL = 1 / (4π² SRF² C)\n",
    "- Assume SRF = 100kHz"
   ]
  },
  {
   "cell_type": "code",
   "execution_count": null,
   "metadata": {},
   "outputs": [],
   "source": [
    "SRF  = 100e3\n",
    "ESL = 1 / (4*np.pi**2*SRF**2*C)\n",
    "\n",
    "print(ESL)"
   ]
  },
  {
   "cell_type": "markdown",
   "metadata": {},
   "source": [
    "#### Input Capacitor"
   ]
  },
  {
   "cell_type": "markdown",
   "metadata": {},
   "source": [
    "I<sub>CIN(RMS)</sub> = I<sub>OUT</sub> &times; &radic;(V<sub>IN</sub> - V<sub>OUT</sub>) &times; V<sub>OUT</sub> / V<sub>IN</sub> [A]\n"
   ]
  },
  {
   "cell_type": "code",
   "execution_count": null,
   "metadata": {},
   "outputs": [],
   "source": [
    "I_cin = average_current * np.sqrt(V_in - V_out) * V_out / V_in"
   ]
  },
  {
   "cell_type": "markdown",
   "metadata": {},
   "source": [
    "#### Output Capacitor"
   ]
  },
  {
   "cell_type": "markdown",
   "metadata": {},
   "source": [
    "I<sub>COUT(RMS)</sub> = &Delta;I<sub>L</sub> / (2&radic;3) [A]"
   ]
  },
  {
   "cell_type": "markdown",
   "metadata": {},
   "source": [
    "&Delta;I<sub>L</sub> = (V<sub>IN</sub> - V<sub>OUT</sub>) / (f<sub>SW</sub> &times; L) &times; V<sub>OUT</sub> / V<sub>IN</sub> [A]\n"
   ]
  },
  {
   "cell_type": "code",
   "execution_count": null,
   "metadata": {},
   "outputs": [],
   "source": [
    "I_L = ((V_in - V_out) / (f_sw * L)) * (V_out/V_in)\n",
    "print(I_L)"
   ]
  },
  {
   "cell_type": "code",
   "execution_count": null,
   "metadata": {},
   "outputs": [],
   "source": [
    "I_cout = I_L / (2*np.sqrt(3))\n",
    "print(I_cout)"
   ]
  },
  {
   "cell_type": "markdown",
   "metadata": {},
   "source": [
    "#### Total Loss"
   ]
  },
  {
   "cell_type": "code",
   "execution_count": null,
   "metadata": {},
   "outputs": [],
   "source": [
    "P_cap_in = I_cin**2 * ESR\n",
    "P_cap_out = I_cout**2 * ESR\n",
    "\n",
    "Capacitor_losses = P_cap_in + P_cap_out"
   ]
  },
  {
   "cell_type": "markdown",
   "metadata": {},
   "source": [
    "### Inductor Loss"
   ]
  },
  {
   "cell_type": "markdown",
   "metadata": {},
   "source": [
    "#### Inductor Copper Loss"
   ]
  },
  {
   "cell_type": "markdown",
   "metadata": {},
   "source": [
    "P<sub>Copper, L</sub> = I<sub>RMS</sub><sup>2</sup> &middot; R<sub>L</sub>\n",
    "<br>\n",
    "I<sub>RMS</sub> = &radic;(I<sub>AVG</sub><sup>2</sup> + <sup>1</sup>&frasl;<sub>12</sub> &Delta;I<sub>L</sub><sup>2</sup>)\n",
    "\n"
   ]
  },
  {
   "cell_type": "code",
   "execution_count": null,
   "metadata": {},
   "outputs": [],
   "source": [
    "I_rms = np.sqrt(average_current**2 + 1/12 * delta_current**2)\n",
    "print(I_rms)"
   ]
  },
  {
   "cell_type": "code",
   "execution_count": null,
   "metadata": {},
   "outputs": [],
   "source": [
    "P_copper = I_rms**2 * float(R_L)\n",
    "print(P_copper)"
   ]
  },
  {
   "cell_type": "markdown",
   "metadata": {},
   "source": [
    "### Ripples"
   ]
  },
  {
   "cell_type": "markdown",
   "metadata": {},
   "source": [
    "#### &Delta;I<sub>L</sub>%\n"
   ]
  },
  {
   "cell_type": "markdown",
   "metadata": {},
   "source": [
    "## Loop and save into CSV"
   ]
  }
 ],
 "metadata": {
  "kernelspec": {
   "display_name": "Python 3",
   "language": "python",
   "name": "python3"
  },
  "language_info": {
   "codemirror_mode": {
    "name": "ipython",
    "version": 3
   },
   "file_extension": ".py",
   "mimetype": "text/x-python",
   "name": "python",
   "nbconvert_exporter": "python",
   "pygments_lexer": "ipython3",
   "version": "3.11.6"
  }
 },
 "nbformat": 4,
 "nbformat_minor": 2
}
