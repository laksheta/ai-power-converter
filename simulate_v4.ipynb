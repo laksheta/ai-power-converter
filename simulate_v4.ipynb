{
 "cells": [
  {
   "cell_type": "markdown",
   "metadata": {},
   "source": [
    "# Spesifikasi"
   ]
  },
  {
   "cell_type": "markdown",
   "metadata": {},
   "source": [
    "- V<sub>in</sub> = 48V\n",
    "- V<sub>out</sub> = 12V\n",
    "- P<sub>o</sub> = 100W\n",
    "- &#916;V<sub>o</sub> &#8804; 1%\n",
    "- &#916;I<sub>L</sub> &#8804; 10%\n",
    "- f<sub>sw</sub> = 20e3\n",
    "- Mosfet: IRFB4310PbF, Infineon"
   ]
  },
  {
   "cell_type": "markdown",
   "metadata": {},
   "source": [
    "# Plecs"
   ]
  },
  {
   "cell_type": "code",
   "execution_count": 2,
   "metadata": {},
   "outputs": [],
   "source": [
    "import xmlrpc.client as xml\n",
    "import os\n",
    "import matplotlib.pyplot as plt\n",
    "import numpy as np\n",
    "import itertools\n",
    "import random\n",
    "import csv"
   ]
  },
  {
   "cell_type": "code",
   "execution_count": 3,
   "metadata": {},
   "outputs": [],
   "source": [
    "model = 'buck_1'\n",
    "file_type = '.plecs'\n"
   ]
  },
  {
   "cell_type": "code",
   "execution_count": 4,
   "metadata": {},
   "outputs": [],
   "source": [
    "plecs = xml.Server(\"http://localhost:1080/RPC2\").plecs"
   ]
  },
  {
   "cell_type": "code",
   "execution_count": 5,
   "metadata": {},
   "outputs": [
    {
     "data": {
      "text/plain": [
       "0"
      ]
     },
     "execution_count": 5,
     "metadata": {},
     "output_type": "execute_result"
    }
   ],
   "source": [
    "plecs.load(r\"E:\\OneDrive - UGM 365\\Mata Kuliah\\Skripsi\\Plecs\\Python\\buck\\buck_1.plecs\")\n"
   ]
  },
  {
   "cell_type": "markdown",
   "metadata": {},
   "source": [
    "# Parameter"
   ]
  },
  {
   "cell_type": "markdown",
   "metadata": {},
   "source": [
    "L<sub>min</sub> &lt; 144&mu;H &lt; 509&mu;H &lt; 1003&mu;H &lt; L<sub>max</sub>\n",
    "\n"
   ]
  },
  {
   "cell_type": "markdown",
   "metadata": {},
   "source": [
    "L<sub>min</sub> 30&mu;H; L<sub>max</sub>2000&mu;H\n",
    "\n",
    "C<sub>min</sub> 20&mu;F; C<sub>max</sub>1000&mu;F\n",
    "\n",
    "f<sub>min</sub> 20kHz; f<sub>max</sub>200kHz"
   ]
  },
  {
   "cell_type": "markdown",
   "metadata": {},
   "source": [
    "diambil 20 x 20 x 20\n",
    "\n",
    "di mana f itu continous dan L, C diskret"
   ]
  },
  {
   "cell_type": "markdown",
   "metadata": {},
   "source": [
    "<strong>Parameter yang berubah</strong>:\n",
    "- f\n",
    "- L\n",
    "- C\n",
    "- R<sub>L</sub> = \n",
    "- ESL\n",
    "- ESR = "
   ]
  },
  {
   "cell_type": "code",
   "execution_count": 1,
   "metadata": {},
   "outputs": [
    {
     "ename": "NameError",
     "evalue": "name 'plecs' is not defined",
     "output_type": "error",
     "traceback": [
      "\u001b[1;31m---------------------------------------------------------------------------\u001b[0m",
      "\u001b[1;31mNameError\u001b[0m                                 Traceback (most recent call last)",
      "Cell \u001b[1;32mIn[1], line 5\u001b[0m\n\u001b[0;32m      2\u001b[0m C \u001b[38;5;241m=\u001b[39m \u001b[38;5;241m43.38e-6\u001b[39m\n\u001b[0;32m      3\u001b[0m fsw \u001b[38;5;241m=\u001b[39m \u001b[38;5;241m20e3\u001b[39m\n\u001b[1;32m----> 5\u001b[0m \u001b[43mplecs\u001b[49m\u001b[38;5;241m.\u001b[39mset(model\u001b[38;5;241m+\u001b[39m\u001b[38;5;124m'\u001b[39m\u001b[38;5;124m/L1\u001b[39m\u001b[38;5;124m'\u001b[39m,\u001b[38;5;124m'\u001b[39m\u001b[38;5;124mL\u001b[39m\u001b[38;5;124m'\u001b[39m, \u001b[38;5;28mstr\u001b[39m(L))\n\u001b[0;32m      6\u001b[0m plecs\u001b[38;5;241m.\u001b[39mset(model\u001b[38;5;241m+\u001b[39m\u001b[38;5;124m'\u001b[39m\u001b[38;5;124m/C\u001b[39m\u001b[38;5;124m'\u001b[39m, \u001b[38;5;124m'\u001b[39m\u001b[38;5;124mC\u001b[39m\u001b[38;5;124m'\u001b[39m, \u001b[38;5;28mstr\u001b[39m(C))\n\u001b[0;32m      7\u001b[0m plecs\u001b[38;5;241m.\u001b[39mset(model\u001b[38;5;241m+\u001b[39m\u001b[38;5;124m'\u001b[39m\u001b[38;5;124m/Symmetrical PWM1\u001b[39m\u001b[38;5;124m'\u001b[39m, \u001b[38;5;124m'\u001b[39m\u001b[38;5;124mfc\u001b[39m\u001b[38;5;124m'\u001b[39m, \u001b[38;5;28mstr\u001b[39m(fsw))\n",
      "\u001b[1;31mNameError\u001b[0m: name 'plecs' is not defined"
     ]
    }
   ],
   "source": [
    "L = 540e-6\n",
    "C = 43.38e-6\n",
    "fsw = 20e3\n",
    "\n",
    "plecs.set(model+'/L1','L', str(L))\n",
    "plecs.set(model+'/C', 'C', str(C))\n",
    "plecs.set(model+'/Symmetrical PWM1', 'fc', str(fsw))\n",
    "times = plecs.simulate(model) ['Time']\n",
    "current = plecs.simulate(model) ['Values'][0]\n",
    "voltage = plecs.simulate(model) ['Values'][1]\n",
    "\n",
    "plt.plot(times,voltage)"
   ]
  },
  {
   "cell_type": "markdown",
   "metadata": {},
   "source": [
    "# Try add output (losses into CSV)"
   ]
  },
  {
   "cell_type": "code",
   "execution_count": 12,
   "metadata": {},
   "outputs": [
    {
     "name": "stdout",
     "output_type": "stream",
     "text": [
      "Chosen L values: [3.e-05 2.e-03]\n",
      "Chosen C values: [3.e-05 2.e-04]\n",
      "Chosen fsw values: [ 20000. 200000.]\n",
      "\n",
      "Chosen values and simulation results:\n"
     ]
    }
   ],
   "source": [
    "V_in = 48\n",
    "V_out = 12\n",
    "R_on = 5.6\n",
    "t_rise = 110e-9\n",
    "t_fall = 78e-9\n",
    "\n",
    "L_range = (30e-6, 2000e-6)  # Range for L\n",
    "C_range = (30e-6, 200e-6)   # Range for C\n",
    "fsw_range = (20e3, 200e3)    # Range for fsw\n",
    "num_values = 2           # Number of values for each parameter\n",
    "\n",
    "# Borders for R_L\n",
    "border_values = [\n",
    "    (144e-6, 0.079576),\n",
    "    (509e-6, 0.179228),\n",
    "    (1003e-6, 0.253239),\n",
    "    (2519e-6, 0.443394)\n",
    "]\n",
    "\n",
    "# Constants for ESL calculation\n",
    "K_esl = 4.389e-11  # Adjust as needed\n",
    "tan_delta = 0.14\n",
    "\n",
    "# Create arrays of discrete L, C, and fsw values within the specified ranges\n",
    "L_values = np.linspace(L_range[0], L_range[1], num=num_values)\n",
    "C_values = np.linspace(C_range[0], C_range[1], num=num_values)\n",
    "fsw_values = np.linspace(fsw_range[0], fsw_range[1], num=num_values)\n",
    "\n",
    "# Initialize arrays to store results\n",
    "average_currents = []\n",
    "delta_currents = []\n",
    "delta_currents_percentage = []\n",
    "\n",
    "# Open a CSV file for writing\n",
    "csv_file_path = 'simulation_results.csv'\n",
    "\n",
    "# Define the header for the CSV file\n",
    "csv_header = ['No','L', 'C', 'fsw', 'RL', 'ESR', 'ESL', 'delta_current_percentage', 'delta_voltage_percentage', 'switching_loss']\n",
    "\n",
    "# Initialize a list to store the data for each simulation\n",
    "csv_data = []\n",
    "\n",
    "# Print the chosen values\n",
    "print(\"Chosen L values:\", L_values)\n",
    "print(\"Chosen C values:\", C_values)\n",
    "print(\"Chosen fsw values:\", fsw_values)\n",
    "\n",
    "# Generate all combinations of L, C, and fsw\n",
    "combinations = list(itertools.product(L_values, C_values, fsw_values))\n",
    "\n",
    "# Display the chosen values and simulate\n",
    "print(\"\\nChosen values and simulation results:\")"
   ]
  },
  {
   "cell_type": "markdown",
   "metadata": {},
   "source": [
    "### CSV"
   ]
  },
  {
   "cell_type": "code",
   "execution_count": 7,
   "metadata": {},
   "outputs": [],
   "source": [
    "def write_to_csv(file_path, header, data):\n",
    "    with open(file_path, 'w', newline='') as csv_file:\n",
    "        csv_writer = csv.writer(csv_file)\n",
    "        csv_writer.writerow(header)\n",
    "        csv_writer.writerows(data)\n",
    "    data = []"
   ]
  },
  {
   "cell_type": "markdown",
   "metadata": {},
   "source": [
    "### Average Current and &Delta;I<sub>L</sub>%"
   ]
  },
  {
   "cell_type": "code",
   "execution_count": 8,
   "metadata": {},
   "outputs": [],
   "source": [
    "def calculate_current(times, current, start_time, end_time):\n",
    "    # Convert 'times' to a NumPy array\n",
    "    times = np.array(times)\n",
    "\n",
    "    # Find the indices corresponding to the time range\n",
    "    start_index = np.argmax(times >= start_time)\n",
    "    end_index = np.argmax(times >= end_time)\n",
    "\n",
    "    # Extract the current values in the specified time range\n",
    "    current_range = current[start_index:end_index]\n",
    "\n",
    "    # Calculate the average current value\n",
    "    average_current = np.mean(current_range)\n",
    "\n",
    "    # Calculate the difference between the highest and lowest current values\n",
    "    delta_current = np.max(current_range) - np.min(current_range) \n",
    "\n",
    "    print('Current:')\n",
    "    print(\"\\nmax:\", np.max(current_range))\n",
    "    print(\"\\nmin:\", np.min(current_range))\n",
    "    print(\"\\ndelta:\",delta_current)\n",
    "    print(\"\\naverage:\",average_current)\n",
    "\n",
    "    # print(np.max(current_range))\n",
    "    # print(np.min(current_range))\n",
    "    delta_current_percentage = delta_current/average_current * 100\n",
    "\n",
    "    return average_current, delta_current, delta_current_percentage"
   ]
  },
  {
   "cell_type": "markdown",
   "metadata": {},
   "source": [
    "### &Delta;V<sub>O</sub>%\n"
   ]
  },
  {
   "cell_type": "code",
   "execution_count": 9,
   "metadata": {},
   "outputs": [],
   "source": [
    "def calculate_voltage(times, voltage, start_time, end_time):\n",
    "    # Convert 'times' to a NumPy array\n",
    "    times = np.array(times)\n",
    "\n",
    "    # Find the indices corresponding to the time range\n",
    "    start_index = np.argmax(times >= start_time)\n",
    "    end_index = np.argmax(times >= end_time)\n",
    "\n",
    "    # Extract the voltage values in the specified time range\n",
    "    voltage_range = voltage[start_index:end_index]\n",
    "\n",
    "    # Calculate the average voltage value\n",
    "    average_voltage = np.mean(voltage_range)\n",
    "\n",
    "    # Calculate the difference between the highest and lowest voltage values\n",
    "    delta_voltage = np.max(voltage_range) - np.min(voltage_range)\n",
    "\n",
    "    print('Voltage:')\n",
    "    print(\"\\nmax:\", np.max(voltage_range))\n",
    "    print(\"\\nmin:\", np.min(voltage_range))\n",
    "    print(\"\\ndelta:\",delta_voltage)\n",
    "    print(\"\\naverage:\",average_voltage)\n",
    "\n",
    "    delta_voltage_percentage = delta_voltage/average_voltage * 100\n",
    "\n",
    "    return average_voltage, delta_voltage, delta_voltage_percentage\n"
   ]
  },
  {
   "cell_type": "markdown",
   "metadata": {},
   "source": [
    "### Switching Losses\n",
    "- Conduction Loss\n",
    "    - R<sub>DS(on)</sub> = R<sub>ON-H</sub> = R<sub>ON-L</sub> = 5.6k&Omega; \n",
    "    - High Side\n",
    "        - P<sub>ON-H</sub> = I<sub>OUT</sub> / 2 &times; R<sub>ON-H</sub> &times; V<sub>OUT</sub> / V<sub>IN</sub> [W]\n",
    "    - Low Side\n",
    "        - P<sub>ON-L</sub> = I<sub>OUT</sub> / 2 &times; R<sub>ON-L</sub> &times; (1 - V<sub>OUT</sub> / V<sub>IN</sub>) [W]\n",
    "- Switching Losses\n",
    "    - t<sub>rise</sub> = 110 ns  \n",
    "    - t<sub>fall</sub> = 78 ns\n",
    "    - High Side\n",
    "        - P<sub>SW-H</sub> = 1/2 &times; V<sub>IN</sub> &times; I<sub>OUT</sub> &times; (t<sub>rise-H</sub> + t<sub>fall-H</sub>) &times; f<sub>SW</sub>\n",
    "    - Low Side\n",
    "        - P<sub>SW-L</sub> = 1/2 &times; V<sub>D</sub> &times; I<sub>OUT</sub> &times; (t<sub>rise-L</sub> + t<sub>fall-L</sub>) &times; f<sub>SW</sub>\n",
    "\n",
    "\n",
    "\n",
    "<strong>Switching Losses<strong> = P<sub>ON-H</sub> + P<sub>ON-L</sub> + P<sub>SW-H</sub> + P<sub>SW-L</sub>\n"
   ]
  },
  {
   "cell_type": "code",
   "execution_count": 10,
   "metadata": {},
   "outputs": [],
   "source": [
    "def calculate_switching_losses(average_current, V_out, V_in, R_on, t_rise, t_fall, f_sw):\n",
    "    # Calculate power losses during ON state (High and Low)\n",
    "    P_ON_H = average_current / 2 * R_on * V_out / V_in\n",
    "    P_ON_L = average_current / 2 * R_on * V_out / V_in\n",
    "\n",
    "    # Calculate power losses during switching (High and Low)\n",
    "    P_SW_H = 0.5 * V_in * average_current * (t_rise + t_fall) * f_sw\n",
    "    P_SW_L = 0.5 * V_in * average_current * (t_rise + t_fall) * f_sw\n",
    "\n",
    "    # Calculate total switching losses\n",
    "    Switching_loss = P_ON_H + P_ON_L + P_SW_H + P_SW_L\n",
    "\n",
    "    return Switching_loss\n"
   ]
  },
  {
   "cell_type": "markdown",
   "metadata": {},
   "source": [
    "### Loop"
   ]
  },
  {
   "cell_type": "code",
   "execution_count": 11,
   "metadata": {},
   "outputs": [
    {
     "name": "stdout",
     "output_type": "stream",
     "text": [
      "Current:\n",
      "\n",
      "max: 9.962085899925917\n",
      "\n",
      "min: -4.982265328516976\n",
      "\n",
      "delta: 14.944351228442894\n",
      "\n",
      "average: 3.2556026550071735\n",
      "Voltage:\n",
      "\n",
      "max: 12.675008038889622\n",
      "\n",
      "min: 10.055806220980628\n",
      "\n",
      "delta: 2.619201817908994\n",
      "\n",
      "average: 11.548067497351191\n",
      "\n",
      "Simulation 1 for L=0.000030, C=0.000030, fsw=20000.00, RL=0.079576, ESR=0.037136, ESL=1.463000e-06\n",
      "\n",
      "Simulation 1 results:\n",
      "Average Current between 0.004 and 0.005 seconds: 3.2556026550071735 A\n",
      "Difference between highest and lowest current values between 0.004 and 0.005 seconds: 14.944351228442894 A\n",
      "Difference between highest and lowest current values between 0.004 and 0.005 seconds: 459.0348642657058 %\n",
      "Difference between highest and lowest voltage values between 0.004 and 0.005 seconds: 2.619201817908994 A\n",
      "Difference between highest and lowest voltage values between 0.004 and 0.005 seconds: 22.680866894047572 %\n",
      "Switching Losses: 5.145414884185737 W\n"
     ]
    },
    {
     "ename": "KeyboardInterrupt",
     "evalue": "",
     "output_type": "error",
     "traceback": [
      "\u001b[1;31m---------------------------------------------------------------------------\u001b[0m",
      "\u001b[1;31mKeyboardInterrupt\u001b[0m                         Traceback (most recent call last)",
      "Cell \u001b[1;32mIn[11], line 21\u001b[0m\n\u001b[0;32m     19\u001b[0m times \u001b[38;5;241m=\u001b[39m plecs\u001b[38;5;241m.\u001b[39msimulate(model)[\u001b[38;5;124m'\u001b[39m\u001b[38;5;124mTime\u001b[39m\u001b[38;5;124m'\u001b[39m]\n\u001b[0;32m     20\u001b[0m current \u001b[38;5;241m=\u001b[39m plecs\u001b[38;5;241m.\u001b[39msimulate(model)[\u001b[38;5;124m'\u001b[39m\u001b[38;5;124mValues\u001b[39m\u001b[38;5;124m'\u001b[39m][\u001b[38;5;241m0\u001b[39m]\n\u001b[1;32m---> 21\u001b[0m voltage \u001b[38;5;241m=\u001b[39m \u001b[43mplecs\u001b[49m\u001b[38;5;241;43m.\u001b[39;49m\u001b[43msimulate\u001b[49m\u001b[43m(\u001b[49m\u001b[43mmodel\u001b[49m\u001b[43m)\u001b[49m[\u001b[38;5;124m'\u001b[39m\u001b[38;5;124mValues\u001b[39m\u001b[38;5;124m'\u001b[39m][\u001b[38;5;241m1\u001b[39m]\n\u001b[0;32m     23\u001b[0m \u001b[38;5;66;03m# Calculate average and delta current using the function\u001b[39;00m\n\u001b[0;32m     24\u001b[0m average_current, delta_current, delta_current_percentage \u001b[38;5;241m=\u001b[39m calculate_current(times, current, start_time\u001b[38;5;241m=\u001b[39m\u001b[38;5;241m0.004\u001b[39m, end_time\u001b[38;5;241m=\u001b[39m\u001b[38;5;241m0.005\u001b[39m)\n",
      "File \u001b[1;32mc:\\Users\\krish\\AppData\\Local\\Programs\\Python\\Python311\\Lib\\xmlrpc\\client.py:1122\u001b[0m, in \u001b[0;36m_Method.__call__\u001b[1;34m(self, *args)\u001b[0m\n\u001b[0;32m   1121\u001b[0m \u001b[38;5;28;01mdef\u001b[39;00m \u001b[38;5;21m__call__\u001b[39m(\u001b[38;5;28mself\u001b[39m, \u001b[38;5;241m*\u001b[39margs):\n\u001b[1;32m-> 1122\u001b[0m     \u001b[38;5;28;01mreturn\u001b[39;00m \u001b[38;5;28;43mself\u001b[39;49m\u001b[38;5;241;43m.\u001b[39;49m\u001b[43m__send\u001b[49m\u001b[43m(\u001b[49m\u001b[38;5;28;43mself\u001b[39;49m\u001b[38;5;241;43m.\u001b[39;49m\u001b[43m__name\u001b[49m\u001b[43m,\u001b[49m\u001b[43m \u001b[49m\u001b[43margs\u001b[49m\u001b[43m)\u001b[49m\n",
      "File \u001b[1;32mc:\\Users\\krish\\AppData\\Local\\Programs\\Python\\Python311\\Lib\\xmlrpc\\client.py:1464\u001b[0m, in \u001b[0;36mServerProxy.__request\u001b[1;34m(self, methodname, params)\u001b[0m\n\u001b[0;32m   1458\u001b[0m \u001b[38;5;28;01mdef\u001b[39;00m \u001b[38;5;21m__request\u001b[39m(\u001b[38;5;28mself\u001b[39m, methodname, params):\n\u001b[0;32m   1459\u001b[0m     \u001b[38;5;66;03m# call a method on the remote server\u001b[39;00m\n\u001b[0;32m   1461\u001b[0m     request \u001b[38;5;241m=\u001b[39m dumps(params, methodname, encoding\u001b[38;5;241m=\u001b[39m\u001b[38;5;28mself\u001b[39m\u001b[38;5;241m.\u001b[39m__encoding,\n\u001b[0;32m   1462\u001b[0m                     allow_none\u001b[38;5;241m=\u001b[39m\u001b[38;5;28mself\u001b[39m\u001b[38;5;241m.\u001b[39m__allow_none)\u001b[38;5;241m.\u001b[39mencode(\u001b[38;5;28mself\u001b[39m\u001b[38;5;241m.\u001b[39m__encoding, \u001b[38;5;124m'\u001b[39m\u001b[38;5;124mxmlcharrefreplace\u001b[39m\u001b[38;5;124m'\u001b[39m)\n\u001b[1;32m-> 1464\u001b[0m     response \u001b[38;5;241m=\u001b[39m \u001b[38;5;28;43mself\u001b[39;49m\u001b[38;5;241;43m.\u001b[39;49m\u001b[43m__transport\u001b[49m\u001b[38;5;241;43m.\u001b[39;49m\u001b[43mrequest\u001b[49m\u001b[43m(\u001b[49m\n\u001b[0;32m   1465\u001b[0m \u001b[43m        \u001b[49m\u001b[38;5;28;43mself\u001b[39;49m\u001b[38;5;241;43m.\u001b[39;49m\u001b[43m__host\u001b[49m\u001b[43m,\u001b[49m\n\u001b[0;32m   1466\u001b[0m \u001b[43m        \u001b[49m\u001b[38;5;28;43mself\u001b[39;49m\u001b[38;5;241;43m.\u001b[39;49m\u001b[43m__handler\u001b[49m\u001b[43m,\u001b[49m\n\u001b[0;32m   1467\u001b[0m \u001b[43m        \u001b[49m\u001b[43mrequest\u001b[49m\u001b[43m,\u001b[49m\n\u001b[0;32m   1468\u001b[0m \u001b[43m        \u001b[49m\u001b[43mverbose\u001b[49m\u001b[38;5;241;43m=\u001b[39;49m\u001b[38;5;28;43mself\u001b[39;49m\u001b[38;5;241;43m.\u001b[39;49m\u001b[43m__verbose\u001b[49m\n\u001b[0;32m   1469\u001b[0m \u001b[43m        \u001b[49m\u001b[43m)\u001b[49m\n\u001b[0;32m   1471\u001b[0m     \u001b[38;5;28;01mif\u001b[39;00m \u001b[38;5;28mlen\u001b[39m(response) \u001b[38;5;241m==\u001b[39m \u001b[38;5;241m1\u001b[39m:\n\u001b[0;32m   1472\u001b[0m         response \u001b[38;5;241m=\u001b[39m response[\u001b[38;5;241m0\u001b[39m]\n",
      "File \u001b[1;32mc:\\Users\\krish\\AppData\\Local\\Programs\\Python\\Python311\\Lib\\xmlrpc\\client.py:1166\u001b[0m, in \u001b[0;36mTransport.request\u001b[1;34m(self, host, handler, request_body, verbose)\u001b[0m\n\u001b[0;32m   1164\u001b[0m \u001b[38;5;28;01mfor\u001b[39;00m i \u001b[38;5;129;01min\u001b[39;00m (\u001b[38;5;241m0\u001b[39m, \u001b[38;5;241m1\u001b[39m):\n\u001b[0;32m   1165\u001b[0m     \u001b[38;5;28;01mtry\u001b[39;00m:\n\u001b[1;32m-> 1166\u001b[0m         \u001b[38;5;28;01mreturn\u001b[39;00m \u001b[38;5;28;43mself\u001b[39;49m\u001b[38;5;241;43m.\u001b[39;49m\u001b[43msingle_request\u001b[49m\u001b[43m(\u001b[49m\u001b[43mhost\u001b[49m\u001b[43m,\u001b[49m\u001b[43m \u001b[49m\u001b[43mhandler\u001b[49m\u001b[43m,\u001b[49m\u001b[43m \u001b[49m\u001b[43mrequest_body\u001b[49m\u001b[43m,\u001b[49m\u001b[43m \u001b[49m\u001b[43mverbose\u001b[49m\u001b[43m)\u001b[49m\n\u001b[0;32m   1167\u001b[0m     \u001b[38;5;28;01mexcept\u001b[39;00m http\u001b[38;5;241m.\u001b[39mclient\u001b[38;5;241m.\u001b[39mRemoteDisconnected:\n\u001b[0;32m   1168\u001b[0m         \u001b[38;5;28;01mif\u001b[39;00m i:\n",
      "File \u001b[1;32mc:\\Users\\krish\\AppData\\Local\\Programs\\Python\\Python311\\Lib\\xmlrpc\\client.py:1179\u001b[0m, in \u001b[0;36mTransport.single_request\u001b[1;34m(self, host, handler, request_body, verbose)\u001b[0m\n\u001b[0;32m   1177\u001b[0m \u001b[38;5;28;01mtry\u001b[39;00m:\n\u001b[0;32m   1178\u001b[0m     http_conn \u001b[38;5;241m=\u001b[39m \u001b[38;5;28mself\u001b[39m\u001b[38;5;241m.\u001b[39msend_request(host, handler, request_body, verbose)\n\u001b[1;32m-> 1179\u001b[0m     resp \u001b[38;5;241m=\u001b[39m \u001b[43mhttp_conn\u001b[49m\u001b[38;5;241;43m.\u001b[39;49m\u001b[43mgetresponse\u001b[49m\u001b[43m(\u001b[49m\u001b[43m)\u001b[49m\n\u001b[0;32m   1180\u001b[0m     \u001b[38;5;28;01mif\u001b[39;00m resp\u001b[38;5;241m.\u001b[39mstatus \u001b[38;5;241m==\u001b[39m \u001b[38;5;241m200\u001b[39m:\n\u001b[0;32m   1181\u001b[0m         \u001b[38;5;28mself\u001b[39m\u001b[38;5;241m.\u001b[39mverbose \u001b[38;5;241m=\u001b[39m verbose\n",
      "File \u001b[1;32mc:\\Users\\krish\\AppData\\Local\\Programs\\Python\\Python311\\Lib\\http\\client.py:1378\u001b[0m, in \u001b[0;36mHTTPConnection.getresponse\u001b[1;34m(self)\u001b[0m\n\u001b[0;32m   1376\u001b[0m \u001b[38;5;28;01mtry\u001b[39;00m:\n\u001b[0;32m   1377\u001b[0m     \u001b[38;5;28;01mtry\u001b[39;00m:\n\u001b[1;32m-> 1378\u001b[0m         \u001b[43mresponse\u001b[49m\u001b[38;5;241;43m.\u001b[39;49m\u001b[43mbegin\u001b[49m\u001b[43m(\u001b[49m\u001b[43m)\u001b[49m\n\u001b[0;32m   1379\u001b[0m     \u001b[38;5;28;01mexcept\u001b[39;00m \u001b[38;5;167;01mConnectionError\u001b[39;00m:\n\u001b[0;32m   1380\u001b[0m         \u001b[38;5;28mself\u001b[39m\u001b[38;5;241m.\u001b[39mclose()\n",
      "File \u001b[1;32mc:\\Users\\krish\\AppData\\Local\\Programs\\Python\\Python311\\Lib\\http\\client.py:318\u001b[0m, in \u001b[0;36mHTTPResponse.begin\u001b[1;34m(self)\u001b[0m\n\u001b[0;32m    316\u001b[0m \u001b[38;5;66;03m# read until we get a non-100 response\u001b[39;00m\n\u001b[0;32m    317\u001b[0m \u001b[38;5;28;01mwhile\u001b[39;00m \u001b[38;5;28;01mTrue\u001b[39;00m:\n\u001b[1;32m--> 318\u001b[0m     version, status, reason \u001b[38;5;241m=\u001b[39m \u001b[38;5;28;43mself\u001b[39;49m\u001b[38;5;241;43m.\u001b[39;49m\u001b[43m_read_status\u001b[49m\u001b[43m(\u001b[49m\u001b[43m)\u001b[49m\n\u001b[0;32m    319\u001b[0m     \u001b[38;5;28;01mif\u001b[39;00m status \u001b[38;5;241m!=\u001b[39m CONTINUE:\n\u001b[0;32m    320\u001b[0m         \u001b[38;5;28;01mbreak\u001b[39;00m\n",
      "File \u001b[1;32mc:\\Users\\krish\\AppData\\Local\\Programs\\Python\\Python311\\Lib\\http\\client.py:279\u001b[0m, in \u001b[0;36mHTTPResponse._read_status\u001b[1;34m(self)\u001b[0m\n\u001b[0;32m    278\u001b[0m \u001b[38;5;28;01mdef\u001b[39;00m \u001b[38;5;21m_read_status\u001b[39m(\u001b[38;5;28mself\u001b[39m):\n\u001b[1;32m--> 279\u001b[0m     line \u001b[38;5;241m=\u001b[39m \u001b[38;5;28mstr\u001b[39m(\u001b[38;5;28mself\u001b[39m\u001b[38;5;241m.\u001b[39mfp\u001b[38;5;241m.\u001b[39mreadline(_MAXLINE \u001b[38;5;241m+\u001b[39m \u001b[38;5;241m1\u001b[39m), \u001b[38;5;124m\"\u001b[39m\u001b[38;5;124miso-8859-1\u001b[39m\u001b[38;5;124m\"\u001b[39m)\n\u001b[0;32m    280\u001b[0m     \u001b[38;5;28;01mif\u001b[39;00m \u001b[38;5;28mlen\u001b[39m(line) \u001b[38;5;241m>\u001b[39m _MAXLINE:\n\u001b[0;32m    281\u001b[0m         \u001b[38;5;28;01mraise\u001b[39;00m LineTooLong(\u001b[38;5;124m\"\u001b[39m\u001b[38;5;124mstatus line\u001b[39m\u001b[38;5;124m\"\u001b[39m)\n",
      "File \u001b[1;32mc:\\Users\\krish\\AppData\\Local\\Programs\\Python\\Python311\\Lib\\socket.py:706\u001b[0m, in \u001b[0;36mSocketIO.readinto\u001b[1;34m(self, b)\u001b[0m\n\u001b[0;32m    704\u001b[0m \u001b[38;5;28;01mwhile\u001b[39;00m \u001b[38;5;28;01mTrue\u001b[39;00m:\n\u001b[0;32m    705\u001b[0m     \u001b[38;5;28;01mtry\u001b[39;00m:\n\u001b[1;32m--> 706\u001b[0m         \u001b[38;5;28;01mreturn\u001b[39;00m \u001b[38;5;28;43mself\u001b[39;49m\u001b[38;5;241;43m.\u001b[39;49m\u001b[43m_sock\u001b[49m\u001b[38;5;241;43m.\u001b[39;49m\u001b[43mrecv_into\u001b[49m\u001b[43m(\u001b[49m\u001b[43mb\u001b[49m\u001b[43m)\u001b[49m\n\u001b[0;32m    707\u001b[0m     \u001b[38;5;28;01mexcept\u001b[39;00m timeout:\n\u001b[0;32m    708\u001b[0m         \u001b[38;5;28mself\u001b[39m\u001b[38;5;241m.\u001b[39m_timeout_occurred \u001b[38;5;241m=\u001b[39m \u001b[38;5;28;01mTrue\u001b[39;00m\n",
      "\u001b[1;31mKeyboardInterrupt\u001b[0m: "
     ]
    }
   ],
   "source": [
    "# Loop through the combinations and simulate\n",
    "csv_data = []\n",
    "for simulation_num, (L, C, fsw) in enumerate(combinations, start=1):\n",
    "    # Rules for picking R_L based on L\n",
    "    R_L = next((rl for border, rl in border_values if L <= border), 0.0)\n",
    "\n",
    "    # Calculate ESR and ESL based on the updated C\n",
    "    ESR = tan_delta / (2 * np.pi * fsw * C)\n",
    "    ESL = K_esl / C\n",
    "\n",
    "    # Set Plecs parameters and simulate\n",
    "    plecs.set(model+'/L1', 'L', str(L))\n",
    "    plecs.set(model+'/C', 'C', str(C))\n",
    "    plecs.set(model+'/Symmetrical PWM1', 'fc', str(fsw))\n",
    "    plecs.set(model+'/RL', 'R', str(R_L))\n",
    "    plecs.set(model+'/ESR', 'R', str(ESR))\n",
    "    plecs.set(model+'/ESL', 'L', str(ESL))\n",
    "\n",
    "    times = plecs.simulate(model)['Time']\n",
    "    current = plecs.simulate(model)['Values'][0]\n",
    "    voltage = plecs.simulate(model)['Values'][1]\n",
    "\n",
    "    # Calculate average and delta current using the function\n",
    "    average_current, delta_current, delta_current_percentage = calculate_current(times, current, start_time=0.004, end_time=0.005)\n",
    "    average_voltage, delta_voltage, delta_voltage_percentage = calculate_voltage(times, voltage, start_time=0.004, end_time=0.005)\n",
    "\n",
    "    switching_loss = calculate_switching_losses(average_current, V_out, V_in, R_on, t_rise, t_fall, fsw)\n",
    "    # Append the data for this simulation to the list\n",
    "    csv_data.append([simulation_num,L, C, fsw, R_L, ESR, ESL, average_current, delta_current_percentage, delta_voltage_percentage, switching_loss])\n",
    "\n",
    "    print(f'\\nSimulation {simulation_num} for L={L:.6f}, C={C:.6f}, fsw={fsw:.2f}, RL={R_L:.6f}, ESR={ESR:.6f}, ESL={ESL:.6e}')\n",
    "    print(f\"\\nSimulation {simulation_num} results:\")\n",
    "    print(f\"Average Current between 0.004 and 0.005 seconds: {average_current} A\")\n",
    "    print(f\"Difference between highest and lowest current values between 0.004 and 0.005 seconds: {delta_current} A\")\n",
    "    print(f\"Difference between highest and lowest current values between 0.004 and 0.005 seconds: {delta_current_percentage} %\")\n",
    "    print(f\"Difference between highest and lowest voltage values between 0.004 and 0.005 seconds: {delta_voltage} A\")\n",
    "    print(f\"Difference between highest and lowest voltage values between 0.004 and 0.005 seconds: {delta_voltage_percentage} %\")\n",
    "    print(f\"Switching Losses: {switching_loss} W\")"
   ]
  },
  {
   "cell_type": "code",
   "execution_count": 44,
   "metadata": {},
   "outputs": [],
   "source": [
    "# Use the function to write data to the CSV file\n",
    "write_to_csv(csv_file_path, csv_header, csv_data)"
   ]
  },
  {
   "cell_type": "code",
   "execution_count": 18,
   "metadata": {},
   "outputs": [
    {
     "name": "stdout",
     "output_type": "stream",
     "text": [
      "\n",
      "Overall Results:\n",
      "Average Currents: [3.2556026550071735, 2.4480963015005166, 2.259277826903446, 2.4145527294792837, 2.2077869921943662, 2.2057074895283653, 2.179446821143291, 2.1830247327071093]\n",
      "Delta Currents: [14.944351228442894, 1.4511352153038453, 15.007081334424608, 1.52246913350394, 0.22498826109326675, 0.02249104753892084, 0.5629873617854202, 0.3716887031785807]\n"
     ]
    }
   ],
   "source": [
    "print(\"\\nOverall Results:\")\n",
    "print(\"Average Currents:\", average_currents)\n",
    "print(\"Delta Currents:\", delta_currents)"
   ]
  },
  {
   "cell_type": "markdown",
   "metadata": {},
   "source": [
    "### Capacitor Loss"
   ]
  },
  {
   "cell_type": "markdown",
   "metadata": {},
   "source": [
    "P<sub>CAP(ESR)</sub> = I<sub>CAP(RMS)</sub><sup>2</sup>  &#x00D7; ESR [W]\n",
    "\n"
   ]
  },
  {
   "cell_type": "markdown",
   "metadata": {},
   "source": [
    "ESR = tan(&#x03B4;) / 2&pi;f<sub>SW</sub>C)"
   ]
  },
  {
   "cell_type": "markdown",
   "metadata": {},
   "source": [
    "Dengan 25 V Nippon KZE series: tan &#x03B4; = 0.14"
   ]
  },
  {
   "cell_type": "code",
   "execution_count": null,
   "metadata": {},
   "outputs": [],
   "source": [
    "ESR = 0.14 / (2*np.pi*f_sw*C)\n",
    "print(ESR)"
   ]
  },
  {
   "cell_type": "markdown",
   "metadata": {},
   "source": [
    "ESL = 1 / (4π² SRF² C)\n",
    "- Assume SRF = 100kHz"
   ]
  },
  {
   "cell_type": "code",
   "execution_count": null,
   "metadata": {},
   "outputs": [],
   "source": [
    "SRF  = 100e3\n",
    "ESL = 1 / (4*np.pi**2*SRF**2*C)\n",
    "\n",
    "print(ESL)"
   ]
  },
  {
   "cell_type": "markdown",
   "metadata": {},
   "source": [
    "#### Input Capacitor"
   ]
  },
  {
   "cell_type": "markdown",
   "metadata": {},
   "source": [
    "I<sub>CIN(RMS)</sub> = I<sub>OUT</sub> &times; &radic;(V<sub>IN</sub> - V<sub>OUT</sub>) &times; V<sub>OUT</sub> / V<sub>IN</sub> [A]\n"
   ]
  },
  {
   "cell_type": "code",
   "execution_count": null,
   "metadata": {},
   "outputs": [],
   "source": [
    "I_cin = average_current * np.sqrt(V_in - V_out) * V_out / V_in"
   ]
  },
  {
   "cell_type": "markdown",
   "metadata": {},
   "source": [
    "#### Output Capacitor"
   ]
  },
  {
   "cell_type": "markdown",
   "metadata": {},
   "source": [
    "I<sub>COUT(RMS)</sub> = &Delta;I<sub>L</sub> / (2&radic;3) [A]"
   ]
  },
  {
   "cell_type": "markdown",
   "metadata": {},
   "source": [
    "&Delta;I<sub>L</sub> = (V<sub>IN</sub> - V<sub>OUT</sub>) / (f<sub>SW</sub> &times; L) &times; V<sub>OUT</sub> / V<sub>IN</sub> [A]\n"
   ]
  },
  {
   "cell_type": "code",
   "execution_count": null,
   "metadata": {},
   "outputs": [],
   "source": [
    "I_L = ((V_in - V_out) / (f_sw * L)) * (V_out/V_in)\n",
    "print(I_L)"
   ]
  },
  {
   "cell_type": "code",
   "execution_count": null,
   "metadata": {},
   "outputs": [],
   "source": [
    "I_cout = I_L / (2*np.sqrt(3))\n",
    "print(I_cout)"
   ]
  },
  {
   "cell_type": "markdown",
   "metadata": {},
   "source": [
    "#### Total Loss"
   ]
  },
  {
   "cell_type": "code",
   "execution_count": null,
   "metadata": {},
   "outputs": [],
   "source": [
    "P_cap_in = I_cin**2 * ESR\n",
    "P_cap_out = I_cout**2 * ESR\n",
    "\n",
    "Capacitor_losses = P_cap_in + P_cap_out"
   ]
  },
  {
   "cell_type": "markdown",
   "metadata": {},
   "source": [
    "### Inductor Loss"
   ]
  },
  {
   "cell_type": "markdown",
   "metadata": {},
   "source": [
    "#### Inductor Copper Loss"
   ]
  },
  {
   "cell_type": "markdown",
   "metadata": {},
   "source": [
    "P<sub>Copper, L</sub> = I<sub>RMS</sub><sup>2</sup> &middot; R<sub>L</sub>\n",
    "<br>\n",
    "I<sub>RMS</sub> = &radic;(I<sub>AVG</sub><sup>2</sup> + <sup>1</sup>&frasl;<sub>12</sub> &Delta;I<sub>L</sub><sup>2</sup>)\n",
    "\n"
   ]
  },
  {
   "cell_type": "code",
   "execution_count": null,
   "metadata": {},
   "outputs": [],
   "source": [
    "I_rms = np.sqrt(average_current**2 + 1/12 * delta_current**2)\n",
    "print(I_rms)"
   ]
  },
  {
   "cell_type": "code",
   "execution_count": null,
   "metadata": {},
   "outputs": [],
   "source": [
    "P_copper = I_rms**2 * float(R_L)\n",
    "print(P_copper)"
   ]
  },
  {
   "cell_type": "markdown",
   "metadata": {},
   "source": [
    "### Ripples"
   ]
  },
  {
   "cell_type": "markdown",
   "metadata": {},
   "source": [
    "#### &Delta;I<sub>L</sub>%\n"
   ]
  },
  {
   "cell_type": "markdown",
   "metadata": {},
   "source": [
    "## Loop and save into CSV"
   ]
  }
 ],
 "metadata": {
  "kernelspec": {
   "display_name": "Python 3",
   "language": "python",
   "name": "python3"
  },
  "language_info": {
   "codemirror_mode": {
    "name": "ipython",
    "version": 3
   },
   "file_extension": ".py",
   "mimetype": "text/x-python",
   "name": "python",
   "nbconvert_exporter": "python",
   "pygments_lexer": "ipython3",
   "version": "3.11.6"
  }
 },
 "nbformat": 4,
 "nbformat_minor": 2
}
