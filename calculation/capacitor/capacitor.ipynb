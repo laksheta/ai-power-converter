{
 "cells": [
  {
   "cell_type": "markdown",
   "metadata": {},
   "source": [
    "# Spesifikasi"
   ]
  },
  {
   "cell_type": "markdown",
   "metadata": {},
   "source": [
    "MP = 5\n",
    "\n",
    "Electrolytic Capacitor: 25 V Nippon KZE series"
   ]
  },
  {
   "cell_type": "markdown",
   "metadata": {},
   "source": [
    "# Single Capacitor"
   ]
  },
  {
   "cell_type": "markdown",
   "metadata": {},
   "source": [
    "47\t100\t220\t330\t470\t680\t820\t1000\t1500\t1800\t2200\t2700"
   ]
  },
  {
   "cell_type": "markdown",
   "metadata": {},
   "source": [
    "# Series"
   ]
  },
  {
   "cell_type": "code",
   "execution_count": 1,
   "metadata": {},
   "outputs": [
    {
     "name": "stdout",
     "output_type": "stream",
     "text": [
      "Series combinations saved to series_combinations.csv\n"
     ]
    }
   ],
   "source": [
    "import csv\n",
    "from itertools import combinations\n",
    "\n",
    "def read_capacitor_values_from_csv(csv_filename):\n",
    "    capacitors = []\n",
    "\n",
    "    with open(csv_filename, 'r', newline='', encoding='utf-8') as csvfile:\n",
    "        reader = csv.DictReader(csvfile)\n",
    "        for row in reader:\n",
    "            capacitor = {\n",
    "                'value': float(row['Capacitor']),\n",
    "                'volume': float(row['Volume'])  # Add this line to read the volume\n",
    "            }\n",
    "            capacitors.append(capacitor)\n",
    "\n",
    "    return capacitors\n",
    "\n",
    "def calculate_series_combinations(capacitors, max_parallel=5):\n",
    "    series_combinations = []\n",
    "\n",
    "    for r in range(1, min(max_parallel + 1, len(capacitors) + 1)):\n",
    "        # Generate all possible combinations of r capacitors\n",
    "        for combination in combinations(capacitors, r):\n",
    "            # Calculate equivalent capacitance for the series combination\n",
    "            equivalent_capacitance = sum(1 / capacitor['value'] for capacitor in combination) ** -1\n",
    "\n",
    "            # Calculate total volume for the series combination\n",
    "            total_volume = sum(capacitor['volume'] for capacitor in combination)\n",
    "\n",
    "            # Append the combination, equivalent capacitance, and total volume to the list\n",
    "            series_combinations.append({\n",
    "                'combination': [capacitor['value'] for capacitor in combination],\n",
    "                'equivalent_capacitance': equivalent_capacitance,\n",
    "                'total_volume': total_volume\n",
    "            })\n",
    "\n",
    "    return series_combinations\n",
    "\n",
    "def save_to_csv(series_combinations, csv_filename):\n",
    "    with open(csv_filename, 'w', newline='', encoding='utf-8') as csvfile:\n",
    "        fieldnames = ['Combination', 'Capacitance', 'Total Volume']\n",
    "        writer = csv.DictWriter(csvfile, fieldnames=fieldnames)\n",
    "\n",
    "        writer.writeheader()\n",
    "        for combination in series_combinations:\n",
    "            writer.writerow({\n",
    "                'Combination': str(combination['combination']),\n",
    "                'Capacitance': round(combination['equivalent_capacitance']),\n",
    "                'Total Volume': round(combination['total_volume'], 2)\n",
    "            })\n",
    "\n",
    "# Specify the CSV file containing capacitor values and volumes\n",
    "capacitor_csv_filename = 'capacitor.csv'\n",
    "\n",
    "# Read capacitor values and volumes from CSV\n",
    "capacitors = read_capacitor_values_from_csv(capacitor_csv_filename)\n",
    "\n",
    "# Maximum parallel connections (MP)\n",
    "max_parallel = 5\n",
    "\n",
    "# Calculate series combinations\n",
    "series_combinations = calculate_series_combinations(capacitors, max_parallel)\n",
    "\n",
    "# Save to CSV file\n",
    "csv_filename = 'series_combinations.csv'\n",
    "save_to_csv(series_combinations, csv_filename)\n",
    "print(f\"Series combinations saved to {csv_filename}\")\n"
   ]
  },
  {
   "cell_type": "code",
   "execution_count": null,
   "metadata": {},
   "outputs": [],
   "source": [
    "import csv\n",
    "from itertools import combinations\n",
    "\n",
    "def read_capacitor_values_from_csv(csv_filename):\n",
    "    capacitors = []\n",
    "\n",
    "    with open(csv_filename, 'r', newline='', encoding='utf-8') as csvfile:\n",
    "        reader = csv.DictReader(csvfile)\n",
    "        for row in reader:\n",
    "            capacitor = {\n",
    "                'value': float(row['Capacitor']),\n",
    "                'volume': float(row['Volume'])  # Add this line to read the volume\n",
    "            }\n",
    "            capacitors.append(capacitor)\n",
    "\n",
    "    return capacitors\n",
    "\n",
    "def calculate_parallel_combinations(capacitors, max_parallel=5, max_equivalent_capacitance=1000):\n",
    "    parallel_combinations = []\n",
    "\n",
    "    for r in range(1, min(max_parallel + 1, len(capacitors) + 1)):\n",
    "        # Generate all possible combinations of r capacitors\n",
    "        for combination in combinations(capacitors, r):\n",
    "            # Calculate equivalent capacitance for the parallel combination\n",
    "            equivalent_capacitance = sum(capacitor['value'] for capacitor in combination)\n",
    "\n",
    "            # Calculate total volume for the parallel combination\n",
    "            total_volume = sum(capacitor['volume'] for capacitor in combination)\n",
    "\n",
    "            # Check if the equivalent capacitance is below the threshold\n",
    "            if equivalent_capacitance <= max_equivalent_capacitance:\n",
    "                # Append the combination, equivalent capacitance, and total volume to the list\n",
    "                parallel_combinations.append({\n",
    "                    'combination': [capacitor['value'] for capacitor in combination],\n",
    "                    'equivalent_capacitance': equivalent_capacitance,\n",
    "                    'total_volume': total_volume\n",
    "                })\n",
    "\n",
    "    return parallel_combinations\n",
    "\n",
    "def save_to_csv(parallel_combinations, csv_filename):\n",
    "    with open(csv_filename, 'w', newline='', encoding='utf-8') as csvfile:\n",
    "        fieldnames = ['Combination', 'Capacitance', 'Total Volume']\n",
    "        writer = csv.DictWriter(csvfile, fieldnames=fieldnames)\n",
    "\n",
    "        writer.writeheader()\n",
    "        for combination in parallel_combinations:\n",
    "            writer.writerow({\n",
    "                'Combination': str(combination['combination']),\n",
    "                'Capacitance': round(combination['equivalent_capacitance']),\n",
    "                'Total Volume': round(combination['total_volume'], 2)\n",
    "            })\n",
    "\n",
    "# Specify the CSV file containing capacitor values and volumes\n",
    "capacitor_csv_filename = 'capacitor.csv'\n",
    "\n",
    "# Read capacitor values and volumes from CSV\n",
    "capacitors = read_capacitor_values_from_csv(capacitor_csv_filename)\n",
    "\n",
    "# Maximum parallel connections\n",
    "max_parallel = 5\n",
    "\n",
    "# Maximum equivalent capacitance threshold\n",
    "max_equivalent_capacitance = 1000\n",
    "\n",
    "# Calculate parallel combinations\n",
    "parallel_combinations = calculate_parallel_combinations(capacitors, max_parallel, max_equivalent_capacitance)\n",
    "\n",
    "# Save to CSV file\n",
    "csv_filename = 'parallel_combinations.csv'\n",
    "save_to_csv(parallel_combinations, csv_filename)\n",
    "print(f\"Parallel combinations saved to {csv_filename}\")\n"
   ]
  }
 ],
 "metadata": {
  "kernelspec": {
   "display_name": "Python 3",
   "language": "python",
   "name": "python3"
  },
  "language_info": {
   "codemirror_mode": {
    "name": "ipython",
    "version": 3
   },
   "file_extension": ".py",
   "mimetype": "text/x-python",
   "name": "python",
   "nbconvert_exporter": "python",
   "pygments_lexer": "ipython3",
   "version": "3.11.6"
  }
 },
 "nbformat": 4,
 "nbformat_minor": 2
}
