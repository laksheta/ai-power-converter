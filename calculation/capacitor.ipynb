{
 "cells": [
  {
   "cell_type": "markdown",
   "metadata": {},
   "source": [
    "# Spesifikasi"
   ]
  },
  {
   "cell_type": "markdown",
   "metadata": {},
   "source": [
    "MP = 5\n",
    "\n",
    "Electrolytic Capacitor: 25 V Nippon KZE series"
   ]
  },
  {
   "cell_type": "markdown",
   "metadata": {},
   "source": [
    "# Single Capacitor"
   ]
  },
  {
   "cell_type": "markdown",
   "metadata": {},
   "source": [
    "47\t100\t220\t330\t470\t680\t820\t1000\t1500\t1800\t2200\t2700"
   ]
  },
  {
   "cell_type": "markdown",
   "metadata": {},
   "source": [
    "# Series"
   ]
  },
  {
   "cell_type": "code",
   "execution_count": null,
   "metadata": {},
   "outputs": [],
   "source": [
    "from itertools import combinations\n",
    "\n",
    "def calculate_series_combinations(capacitor_values, max_parallel=5):\n",
    "    series_combinations = []\n",
    "\n",
    "    for r in range(1, min(max_parallel + 1, len(capacitor_values) + 1)):\n",
    "        # Generate all possible combinations of r capacitors\n",
    "        for combination in combinations(capacitor_values, r):\n",
    "            # Calculate equivalent capacitance for the series combination\n",
    "            equivalent_capacitance = sum(1 / capacitor for capacitor in combination) ** -1\n",
    "\n",
    "            # Append the combination and its equivalent capacitance to the list\n",
    "            series_combinations.append({\n",
    "                'combination': combination,\n",
    "                'equivalent_capacitance': equivalent_capacitance\n",
    "            })\n",
    "\n",
    "    return series_combinations\n",
    "\n",
    "# Given list of capacitor values\n",
    "capacitor_values = [47, 100, 220, 330, 470, 680, 820, 1000, 1500, 1800, 2200, 2700]\n",
    "\n",
    "# Maximum parallel connections (MP)\n",
    "max_parallel = 5\n",
    "\n",
    "# Calculate series combinations\n",
    "series_combinations = calculate_series_combinations(capacitor_values, max_parallel)\n",
    "\n",
    "# Print the results\n",
    "for combination in series_combinations:\n",
    "    print(f\"Combination: {combination['combination']}, Equivalent Capacitance: {combination['equivalent_capacitance']} μF\")\n"
   ]
  }
 ],
 "metadata": {
  "kernelspec": {
   "display_name": "Python 3",
   "language": "python",
   "name": "python3"
  },
  "language_info": {
   "name": "python",
   "version": "3.11.6"
  }
 },
 "nbformat": 4,
 "nbformat_minor": 2
}
