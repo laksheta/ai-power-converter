{
 "cells": [
  {
   "cell_type": "code",
   "execution_count": 5,
   "metadata": {},
   "outputs": [],
   "source": [
    "import itertools\n",
    "import csv\n",
    "\n",
    "# Define the chosen values for parameters\n",
    "L_values = [3.000e-05, 1.015e-03, 2.000e-03]\n",
    "C_values = [3.00e-05, 1.15e-04, 2.00e-04]\n",
    "td_values = [1.78e-07, 5.89e-07, 1.00e-06]\n",
    "fsw_values = [20000, 110000, 200000]\n",
    "\n",
    "# Generate combinations of parameter values\n",
    "combinations = list(itertools.product(L_values, C_values, td_values, fsw_values))\n",
    "\n",
    "# Write combinations to CSV file with header\n",
    "with open('output_file.csv', 'w', newline='') as file:\n",
    "    writer = csv.writer(file)\n",
    "    writer.writerow(['No', 'L', 'C', 'fsw', 't_d'])  # Write header\n",
    "    for i, combo in enumerate(combinations, start=1):\n",
    "        writer.writerow([i, *combo])  # Write combination along with a unique number\n"
   ]
  },
  {
   "cell_type": "markdown",
   "metadata": {},
   "source": [
    "# Generate and merge"
   ]
  },
  {
   "cell_type": "code",
   "execution_count": 11,
   "metadata": {},
   "outputs": [],
   "source": [
    "import csv\n",
    "import itertools\n",
    "\n",
    "# Define the chosen values for parameters\n",
    "L_values = [3.000e-05, 1.015e-03, 2.000e-03]\n",
    "C_values = [3.00e-05, 1.15e-04, 2.00e-04]\n",
    "td_values = [1.78e-07, 5.89e-07, 1.00e-06]\n",
    "fsw_values = [20000, 110000, 200000]\n",
    "\n",
    "# Generate combinations of parameter values including t_d\n",
    "combinations = list(itertools.product(L_values, C_values, fsw_values, td_values))\n",
    "\n",
    "# Read existing CSV file\n",
    "existing_data = []\n",
    "with open('all_3.csv', 'r') as file:\n",
    "    reader = csv.DictReader(file)\n",
    "    for row in reader:\n",
    "        existing_data.append(row)\n",
    "\n",
    "# Write combinations to CSV file with header\n",
    "with open('output_file.csv', 'w', newline='') as file:\n",
    "    fieldnames = ['No', 'L', 'C', 'fsw', 't_d', 'delta_current', 'delta_voltage', 'Pl_s1', 'Pl_s2', 'Pl_C', 'Pl_L_Cu']\n",
    "    writer = csv.DictWriter(file, fieldnames=fieldnames)\n",
    "    writer.writeheader()\n",
    "    \n",
    "    for i, combo in enumerate(combinations, start=1):\n",
    "        for existing_row in existing_data:\n",
    "            if (float(existing_row['L']), float(existing_row['C']), int(existing_row['fsw'])) == combo[:3]:\n",
    "                new_row = {\n",
    "                    'No': i,\n",
    "                    'L': existing_row['L'],\n",
    "                    'C': existing_row['C'],\n",
    "                    'fsw': existing_row['fsw'],\n",
    "                    't_d': combo[3],  # Assigning t_d from the combination\n",
    "                    'delta_current': existing_row['delta_current'], # Placeholder values for existing data\n",
    "                    'delta_voltage': existing_row['delta_voltage'],\n",
    "                    'Pl_s1': existing_row['Pl_s1'],\n",
    "                    'Pl_s2': existing_row['Pl_s2'],\n",
    "                    'Pl_C': existing_row['Pl_C'],\n",
    "                    'Pl_L_Cu': existing_row['Pl_L_Cu']\n",
    "                }\n",
    "                writer.writerow(new_row)\n"
   ]
  },
  {
   "cell_type": "markdown",
   "metadata": {},
   "source": [
    "# Merge with average current too"
   ]
  },
  {
   "cell_type": "code",
   "execution_count": 15,
   "metadata": {},
   "outputs": [],
   "source": [
    "import csv\n",
    "import itertools\n",
    "\n",
    "# Define the chosen values for parameters\n",
    "L_values = [3.000e-05, 1.015e-03, 2.000e-03]\n",
    "C_values = [3.00e-05, 1.15e-04, 2.00e-04]\n",
    "td_values = [1.78e-07, 5.89e-07, 1.00e-06]\n",
    "fsw_values = [20000, 110000, 200000]\n",
    "\n",
    "# Generate combinations of parameter values including t_d\n",
    "combinations = list(itertools.product(L_values, C_values, fsw_values, td_values))\n",
    "\n",
    "# Read existing CSV file\n",
    "existing_data = []\n",
    "with open('all_3.csv', 'r') as file:\n",
    "    reader = csv.DictReader(file)\n",
    "    for row in reader:\n",
    "        existing_data.append(row)\n",
    "\n",
    "# Read another CSV file containing average_current\n",
    "average_current_data = {}\n",
    "with open('average_current_3.csv', 'r') as avg_file:\n",
    "    reader = csv.DictReader(avg_file)\n",
    "    for row in reader:\n",
    "        average_current_data[(float(row['L']), float(row['C']), int(row['fsw']))] = row['average_current']\n",
    "\n",
    "# Write combinations to CSV file with header\n",
    "with open('output_file.csv', 'w', newline='') as file:\n",
    "    fieldnames = ['No', 'L', 'C', 'fsw', 't_d', 'delta_current', 'delta_voltage', 'Pl_s1', 'Pl_s2', 'Pl_C', 'Pl_L_Cu', 'average_current']\n",
    "    writer = csv.DictWriter(file, fieldnames=fieldnames)\n",
    "    writer.writeheader()\n",
    "    \n",
    "    for i, combo in enumerate(combinations, start=1):\n",
    "        for existing_row in existing_data:\n",
    "            if (float(existing_row['L']), float(existing_row['C']), int(existing_row['fsw'])) == combo[:3]:\n",
    "                new_row = {\n",
    "                    'No': i,\n",
    "                    'L': existing_row['L'],\n",
    "                    'C': existing_row['C'],\n",
    "                    'fsw': existing_row['fsw'],\n",
    "                    't_d': combo[3],  # Assigning t_d from the combination\n",
    "                    'delta_current': existing_row['delta_current'], # Placeholder values for existing data\n",
    "                    'delta_voltage': existing_row['delta_voltage'],\n",
    "                    'Pl_s1': existing_row['Pl_s1'],\n",
    "                    'Pl_s2': existing_row['Pl_s2'],\n",
    "                    'Pl_C': existing_row['Pl_C'],\n",
    "                    'Pl_L_Cu': existing_row['Pl_L_Cu'],\n",
    "                    'average_current': average_current_data.get((float(existing_row['L']), float(existing_row['C']), int(existing_row['fsw'])), 0)  # Extracting average_current from the dictionary without considering t_d\n",
    "                }\n",
    "                writer.writerow(new_row)\n"
   ]
  },
  {
   "cell_type": "markdown",
   "metadata": {},
   "source": [
    "# Calculate P_D"
   ]
  },
  {
   "cell_type": "code",
   "execution_count": 22,
   "metadata": {},
   "outputs": [
    {
     "name": "stdout",
     "output_type": "stream",
     "text": [
      "P_D calculation completed and saved to output_file_with_PD.csv\n"
     ]
    }
   ],
   "source": [
    "import csv\n",
    "\n",
    "# Function to calculate P_D\n",
    "def calculate_PD(fsw, average_current, t_d):\n",
    "    # Example calculation, replace with your actual calculation\\\n",
    "    return 0.5 * average_current * 2 * t_d * fsw\n",
    "\n",
    "# Read input CSV file\n",
    "input_file_path = 'output_file.csv'\n",
    "output_file_path = 'output_file_with_PD.csv'\n",
    "\n",
    "with open(input_file_path, 'r', newline='') as input_file:\n",
    "    with open(output_file_path, 'w', newline='') as output_file:\n",
    "        reader = csv.DictReader(input_file)\n",
    "        fieldnames = reader.fieldnames + ['P_D']\n",
    "        writer = csv.DictWriter(output_file, fieldnames=fieldnames)\n",
    "        writer.writeheader()\n",
    "\n",
    "        for row in reader:\n",
    "            # Extract fsw and average_current from the row\n",
    "            fsw = float(row['fsw'])\n",
    "            average_current = float(row['average_current'])\n",
    "            t_d = float(row['t_d'])\n",
    "            \n",
    "            # Calculate P_D\n",
    "            P_D = calculate_PD(fsw, average_current, t_d)\n",
    "            \n",
    "            # Add P_D to the row\n",
    "            row['P_D'] = P_D\n",
    "            # Write the updated row to the output file\n",
    "            writer.writerow(row)\n",
    "\n",
    "print(\"P_D calculation completed and saved to\", output_file_path)\n"
   ]
  },
  {
   "cell_type": "markdown",
   "metadata": {},
   "source": [
    "# Delete column"
   ]
  },
  {
   "cell_type": "code",
   "execution_count": 26,
   "metadata": {},
   "outputs": [
    {
     "name": "stdout",
     "output_type": "stream",
     "text": [
      "Column 'average_current' deleted from 'output_file_with_PD.csv' and saved to 'csv/output_file_without_average_current.csv'\n"
     ]
    }
   ],
   "source": [
    "import csv\n",
    "\n",
    "# Function to delete a column from a CSV file\n",
    "def delete_column(input_file_path, output_file_path, column_to_delete):\n",
    "    with open(input_file_path, 'r', newline='') as input_file:\n",
    "        with open(output_file_path, 'w', newline='') as output_file:\n",
    "            reader = csv.DictReader(input_file)\n",
    "            fieldnames = [fieldname for fieldname in reader.fieldnames if fieldname != column_to_delete]\n",
    "            writer = csv.DictWriter(output_file, fieldnames=fieldnames)\n",
    "            writer.writeheader()\n",
    "\n",
    "            for row in reader:\n",
    "                del row[column_to_delete]  # Remove the specified column from the row\n",
    "                writer.writerow(row)\n",
    "\n",
    "# Usage example:\n",
    "input_file_path = 'output_file_with_PD.csv'  # Replace with the path to your input CSV file\n",
    "output_file_path = 'csv/output_file_without_average_current.csv'  # Replace with the desired output CSV file path\n",
    "column_to_delete = 'average_current'  # Name of the column to delete\n",
    "\n",
    "delete_column(input_file_path, output_file_path, column_to_delete)\n",
    "print(\"Column '{}' deleted from '{}' and saved to '{}'\".format(column_to_delete, input_file_path, output_file_path))\n"
   ]
  }
 ],
 "metadata": {
  "kernelspec": {
   "display_name": "Python 3",
   "language": "python",
   "name": "python3"
  },
  "language_info": {
   "codemirror_mode": {
    "name": "ipython",
    "version": 3
   },
   "file_extension": ".py",
   "mimetype": "text/x-python",
   "name": "python",
   "nbconvert_exporter": "python",
   "pygments_lexer": "ipython3",
   "version": "3.11.6"
  }
 },
 "nbformat": 4,
 "nbformat_minor": 2
}
